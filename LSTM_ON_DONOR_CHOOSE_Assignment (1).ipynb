{
  "cells": [
    {
      "cell_type": "markdown",
      "metadata": {
        "id": "l3rDZYrDb083"
      },
      "source": [
        "## Assignment : 14"
      ]
    },
    {
      "cell_type": "markdown",
      "metadata": {
        "id": "7ZqgnIm-b08-"
      },
      "source": [
        "<pre>\n",
        "1. You can work with preprocessed_data.csv for the assignment. You can get the data from - <a href='https://drive.google.com/drive/u/0/folders/1CJnItndeSSJu7aragQoXWZS9-0apN6pp'>Data folder </a>\n",
        "2. Load the data in your notebook.\n",
        "3. After step 2 you have to train 3 types of models as discussed below. \n",
        "4. For all the model use <a href='https://scikit-learn.org/stable/modules/model_evaluation.html#roc-metrics'>'auc'</a> as a metric. check <a  href='https://stackoverflow.com/a/46844409'>this</a> and <a  href='https://www.kaggle.com/c/santander-customer-transaction-prediction/discussion/80807'>this</a> for using auc as a metric \n",
        "5. You are free to choose any number of layers/hiddden units but you have to use same type of architectures shown below. \n",
        "6. You can use any one of the optimizers and choice of Learning rate and momentum.\n",
        "7. For all the model's use <a href='https://www.youtube.com/watch?v=2U6Jl7oqRkM'>TensorBoard</a> and plot the Metric value and Loss with epoch. While submitting, take a screenshot of plots and include those images in a separate pad and write your observations about them.\n",
        "8. Make sure that you are using GPU to train the given models.\n",
        "</pre>"
      ]
    },
    {
      "cell_type": "code",
      "execution_count": 1,
      "metadata": {
        "id": "xczbiOEjCqis"
      },
      "outputs": [],
      "source": [
        "#importing libraries \n",
        "import pandas as pd\n",
        "import numpy as np \n",
        "import os\n",
        "import matplotlib.pyplot as plt\n",
        "from sklearn.feature_extraction.text import TfidfVectorizer,CountVectorizer\n",
        "from sklearn.model_selection import train_test_split\n",
        "from keras.preprocessing.text import Tokenizer,one_hot\n",
        "from tensorflow.keras.preprocessing.sequence import pad_sequences\n",
        "from keras.layers import LSTM, BatchNormalization,concatenate,Flatten,Embedding,Dense,Dropout,MaxPooling2D,CuDNNLSTM,SpatialDropout1D\n",
        "from keras.models import Sequential\n",
        "from keras import Model,Input\n",
        "from time import time\n",
        "from tensorflow.python.keras.callbacks import TensorBoard,ModelCheckpoint\n",
        "import warnings\n",
        "warnings.filterwarnings(\"ignore\")\n",
        "import keras\n",
        "from keras.regularizers import l2\n",
        "import pickle\n",
        "from keras.layers.convolutional import Conv2D,Conv1D\n",
        "import keras.backend as k\n",
        "from sklearn.metrics import roc_auc_score\n",
        "import tensorflow as tf\n",
        "from keras.initializers import he_normal\n",
        "from keras.callbacks import Callback, EarlyStopping\n"
      ]
    },
    {
      "cell_type": "code",
      "execution_count": null,
      "metadata": {
        "id": "oVr0oF48b08_"
      },
      "outputs": [],
      "source": [
        "#you can use gdown modules to import dataset for the assignment\n",
        "#for importing any file from drive to Colab you can write the syntax as !gdown --id file_id\n",
        "#you can run the below cell to import the required preprocessed data.csv file and glove vector"
      ]
    },
    {
      "cell_type": "markdown",
      "metadata": {
        "id": "k_vXdvpkb09B"
      },
      "source": [
        "## <font color='red'> Model-1 </font>\n",
        "Build and Train deep neural network as shown below"
      ]
    },
    {
      "cell_type": "markdown",
      "metadata": {
        "id": "Ea3jrZKYb09C"
      },
      "source": [
        "<img src='https://i.imgur.com/w395Yk9.png'>\n",
        "ref: https://i.imgur.com/w395Yk9.png"
      ]
    },
    {
      "cell_type": "markdown",
      "metadata": {
        "id": "YuKalRLJb09C"
      },
      "source": [
        "- __Input_seq_total_text_data__ --- You have to give Total text data columns. After this use the Embedding layer to get word vectors. Use given predefined glove word vectors, don't train any word vectors. After this use LSTM and get the LSTM output and Flatten that output. \n",
        "- __Input_school_state__ --- Give 'school_state' column as input to embedding layer and Train the Keras Embedding layer. \n",
        "- __Project_grade_category__  --- Give 'project_grade_category' column as input to embedding layer and Train the Keras Embedding layer.\n",
        "- __Input_clean_categories__ --- Give 'input_clean_categories' column as input to embedding layer and Train the Keras Embedding layer.\n",
        "- __Input_clean_subcategories__ --- Give 'input_clean_subcategories' column as input to embedding layer and Train the Keras Embedding layer.\n",
        "- __Input_clean_subcategories__ --- Give 'input_teacher_prefix' column as input to embedding layer and Train the Keras Embedding layer.\n",
        "- __Input_remaining_teacher_number_of_previously_posted_projects._resource_summary_contains_numerical_digits._price._quantity__ ---concatenate remaining columns and add a Dense layer after that. \n",
        "\n"
      ]
    },
    {
      "cell_type": "markdown",
      "metadata": {
        "id": "T1L9VRBSb09D"
      },
      "source": [
        "Below is an example of embedding layer for a categorical columns. In below code all are dummy values, we gave only for referance. "
      ]
    },
    {
      "cell_type": "markdown",
      "metadata": {
        "id": "2JCT8_FKb09E"
      },
      "source": [
        "### 1. Go through this blog, if you have any doubt on using predefined Embedding values in Embedding layer - https://machinelearningmastery.com/use-word-embedding-layers-deep-learning-keras/\n",
        "### 2. Please go through this link https://keras.io/getting-started/functional-api-guide/ and check the 'Multi-input and multi-output models' then you will get to know how to give multiple inputs. "
      ]
    },
    {
      "cell_type": "markdown",
      "metadata": {
        "id": "Q8H-ObyXb09F"
      },
      "source": [
        "# <font color='red'> Model-1 </font>"
      ]
    },
    {
      "cell_type": "code",
      "source": [],
      "metadata": {
        "id": "mpddfHN5gbHh"
      },
      "execution_count": null,
      "outputs": []
    },
    {
      "cell_type": "code",
      "source": [
        "from google.colab import drive\n",
        "drive.mount('/content/drive')"
      ],
      "metadata": {
        "colab": {
          "base_uri": "https://localhost:8080/",
          "height": 0
        },
        "id": "RjtSgX4OCU44",
        "outputId": "9eb56c85-fa57-47e9-a007-6282ddd2ea08"
      },
      "execution_count": 2,
      "outputs": [
        {
          "output_type": "stream",
          "name": "stdout",
          "text": [
            "Mounted at /content/drive\n"
          ]
        }
      ]
    },
    {
      "cell_type": "code",
      "source": [
        "#Reading the dataset\n",
        "project_data = pd.read_csv('/content/drive/MyDrive/preprocessed_data.csv')\n",
        "project_data.head(3)"
      ],
      "metadata": {
        "colab": {
          "base_uri": "https://localhost:8080/",
          "height": 343
        },
        "id": "bwGoK81FCR1c",
        "outputId": "ec72e9cc-b55e-4e73-814c-86ce47bf060b"
      },
      "execution_count": 3,
      "outputs": [
        {
          "output_type": "execute_result",
          "data": {
            "text/plain": [
              "  school_state teacher_prefix project_grade_category  \\\n",
              "0           ca            mrs          grades_prek_2   \n",
              "1           ut             ms             grades_3_5   \n",
              "2           ca            mrs          grades_prek_2   \n",
              "\n",
              "   teacher_number_of_previously_posted_projects  project_is_approved  \\\n",
              "0                                            53                    1   \n",
              "1                                             4                    1   \n",
              "2                                            10                    1   \n",
              "\n",
              "    clean_categories                 clean_subcategories  \\\n",
              "0       math_science  appliedsciences health_lifescience   \n",
              "1       specialneeds                        specialneeds   \n",
              "2  literacy_language                            literacy   \n",
              "\n",
              "                                               essay   price  \n",
              "0  i fortunate enough use fairy tale stem kits cl...  725.05  \n",
              "1  imagine 8 9 years old you third grade classroo...  213.03  \n",
              "2  having class 24 students comes diverse learner...  329.00  "
            ],
            "text/html": [
              "\n",
              "  <div id=\"df-10a2fa44-997e-4fd1-b846-b9b84a4ea2d3\">\n",
              "    <div class=\"colab-df-container\">\n",
              "      <div>\n",
              "<style scoped>\n",
              "    .dataframe tbody tr th:only-of-type {\n",
              "        vertical-align: middle;\n",
              "    }\n",
              "\n",
              "    .dataframe tbody tr th {\n",
              "        vertical-align: top;\n",
              "    }\n",
              "\n",
              "    .dataframe thead th {\n",
              "        text-align: right;\n",
              "    }\n",
              "</style>\n",
              "<table border=\"1\" class=\"dataframe\">\n",
              "  <thead>\n",
              "    <tr style=\"text-align: right;\">\n",
              "      <th></th>\n",
              "      <th>school_state</th>\n",
              "      <th>teacher_prefix</th>\n",
              "      <th>project_grade_category</th>\n",
              "      <th>teacher_number_of_previously_posted_projects</th>\n",
              "      <th>project_is_approved</th>\n",
              "      <th>clean_categories</th>\n",
              "      <th>clean_subcategories</th>\n",
              "      <th>essay</th>\n",
              "      <th>price</th>\n",
              "    </tr>\n",
              "  </thead>\n",
              "  <tbody>\n",
              "    <tr>\n",
              "      <th>0</th>\n",
              "      <td>ca</td>\n",
              "      <td>mrs</td>\n",
              "      <td>grades_prek_2</td>\n",
              "      <td>53</td>\n",
              "      <td>1</td>\n",
              "      <td>math_science</td>\n",
              "      <td>appliedsciences health_lifescience</td>\n",
              "      <td>i fortunate enough use fairy tale stem kits cl...</td>\n",
              "      <td>725.05</td>\n",
              "    </tr>\n",
              "    <tr>\n",
              "      <th>1</th>\n",
              "      <td>ut</td>\n",
              "      <td>ms</td>\n",
              "      <td>grades_3_5</td>\n",
              "      <td>4</td>\n",
              "      <td>1</td>\n",
              "      <td>specialneeds</td>\n",
              "      <td>specialneeds</td>\n",
              "      <td>imagine 8 9 years old you third grade classroo...</td>\n",
              "      <td>213.03</td>\n",
              "    </tr>\n",
              "    <tr>\n",
              "      <th>2</th>\n",
              "      <td>ca</td>\n",
              "      <td>mrs</td>\n",
              "      <td>grades_prek_2</td>\n",
              "      <td>10</td>\n",
              "      <td>1</td>\n",
              "      <td>literacy_language</td>\n",
              "      <td>literacy</td>\n",
              "      <td>having class 24 students comes diverse learner...</td>\n",
              "      <td>329.00</td>\n",
              "    </tr>\n",
              "  </tbody>\n",
              "</table>\n",
              "</div>\n",
              "      <button class=\"colab-df-convert\" onclick=\"convertToInteractive('df-10a2fa44-997e-4fd1-b846-b9b84a4ea2d3')\"\n",
              "              title=\"Convert this dataframe to an interactive table.\"\n",
              "              style=\"display:none;\">\n",
              "        \n",
              "  <svg xmlns=\"http://www.w3.org/2000/svg\" height=\"24px\"viewBox=\"0 0 24 24\"\n",
              "       width=\"24px\">\n",
              "    <path d=\"M0 0h24v24H0V0z\" fill=\"none\"/>\n",
              "    <path d=\"M18.56 5.44l.94 2.06.94-2.06 2.06-.94-2.06-.94-.94-2.06-.94 2.06-2.06.94zm-11 1L8.5 8.5l.94-2.06 2.06-.94-2.06-.94L8.5 2.5l-.94 2.06-2.06.94zm10 10l.94 2.06.94-2.06 2.06-.94-2.06-.94-.94-2.06-.94 2.06-2.06.94z\"/><path d=\"M17.41 7.96l-1.37-1.37c-.4-.4-.92-.59-1.43-.59-.52 0-1.04.2-1.43.59L10.3 9.45l-7.72 7.72c-.78.78-.78 2.05 0 2.83L4 21.41c.39.39.9.59 1.41.59.51 0 1.02-.2 1.41-.59l7.78-7.78 2.81-2.81c.8-.78.8-2.07 0-2.86zM5.41 20L4 18.59l7.72-7.72 1.47 1.35L5.41 20z\"/>\n",
              "  </svg>\n",
              "      </button>\n",
              "      \n",
              "  <style>\n",
              "    .colab-df-container {\n",
              "      display:flex;\n",
              "      flex-wrap:wrap;\n",
              "      gap: 12px;\n",
              "    }\n",
              "\n",
              "    .colab-df-convert {\n",
              "      background-color: #E8F0FE;\n",
              "      border: none;\n",
              "      border-radius: 50%;\n",
              "      cursor: pointer;\n",
              "      display: none;\n",
              "      fill: #1967D2;\n",
              "      height: 32px;\n",
              "      padding: 0 0 0 0;\n",
              "      width: 32px;\n",
              "    }\n",
              "\n",
              "    .colab-df-convert:hover {\n",
              "      background-color: #E2EBFA;\n",
              "      box-shadow: 0px 1px 2px rgba(60, 64, 67, 0.3), 0px 1px 3px 1px rgba(60, 64, 67, 0.15);\n",
              "      fill: #174EA6;\n",
              "    }\n",
              "\n",
              "    [theme=dark] .colab-df-convert {\n",
              "      background-color: #3B4455;\n",
              "      fill: #D2E3FC;\n",
              "    }\n",
              "\n",
              "    [theme=dark] .colab-df-convert:hover {\n",
              "      background-color: #434B5C;\n",
              "      box-shadow: 0px 1px 3px 1px rgba(0, 0, 0, 0.15);\n",
              "      filter: drop-shadow(0px 1px 2px rgba(0, 0, 0, 0.3));\n",
              "      fill: #FFFFFF;\n",
              "    }\n",
              "  </style>\n",
              "\n",
              "      <script>\n",
              "        const buttonEl =\n",
              "          document.querySelector('#df-10a2fa44-997e-4fd1-b846-b9b84a4ea2d3 button.colab-df-convert');\n",
              "        buttonEl.style.display =\n",
              "          google.colab.kernel.accessAllowed ? 'block' : 'none';\n",
              "\n",
              "        async function convertToInteractive(key) {\n",
              "          const element = document.querySelector('#df-10a2fa44-997e-4fd1-b846-b9b84a4ea2d3');\n",
              "          const dataTable =\n",
              "            await google.colab.kernel.invokeFunction('convertToInteractive',\n",
              "                                                     [key], {});\n",
              "          if (!dataTable) return;\n",
              "\n",
              "          const docLinkHtml = 'Like what you see? Visit the ' +\n",
              "            '<a target=\"_blank\" href=https://colab.research.google.com/notebooks/data_table.ipynb>data table notebook</a>'\n",
              "            + ' to learn more about interactive tables.';\n",
              "          element.innerHTML = '';\n",
              "          dataTable['output_type'] = 'display_data';\n",
              "          await google.colab.output.renderOutput(dataTable, element);\n",
              "          const docLink = document.createElement('div');\n",
              "          docLink.innerHTML = docLinkHtml;\n",
              "          element.appendChild(docLink);\n",
              "        }\n",
              "      </script>\n",
              "    </div>\n",
              "  </div>\n",
              "  "
            ]
          },
          "metadata": {},
          "execution_count": 3
        }
      ]
    },
    {
      "cell_type": "code",
      "source": [
        "# defining the class label varibale \n",
        "class_label = project_data['project_is_approved']\n"
      ],
      "metadata": {
        "id": "Wo9Wq_Q_m2Ej"
      },
      "execution_count": 4,
      "outputs": []
    },
    {
      "cell_type": "code",
      "source": [
        "# droping class label data\n",
        "y = project_data['project_is_approved'].values\n",
        "project_data.drop(['project_is_approved'], axis=1, inplace=True)\n",
        "X = project_data\n",
        "project_data.shape"
      ],
      "metadata": {
        "colab": {
          "base_uri": "https://localhost:8080/",
          "height": 0
        },
        "id": "a5os-pNLJm-n",
        "outputId": "5d1bded7-62bb-4a38-a3ee-516e9eff2a68"
      },
      "execution_count": 5,
      "outputs": [
        {
          "output_type": "execute_result",
          "data": {
            "text/plain": [
              "(109248, 8)"
            ]
          },
          "metadata": {},
          "execution_count": 5
        }
      ]
    },
    {
      "cell_type": "code",
      "source": [
        "from sklearn.model_selection import train_test_split\n",
        "X_train, X_test, y_train, y_test = train_test_split(X, y, test_size=0.2, stratify=y)\n",
        "X_train, X_cv, y_train, y_cv = train_test_split(X_train, y_train, test_size=0.2, stratify=y_train)\n",
        "\n",
        "print('Train Data Set', X_train.shape, y_train.shape)\n",
        "print('Cross Validate Data Set', X_cv.shape, y_cv.shape)\n",
        "print('Test Data Set', X_test.shape, y_test.shape)"
      ],
      "metadata": {
        "colab": {
          "base_uri": "https://localhost:8080/",
          "height": 0
        },
        "id": "-MlVAspyJh3U",
        "outputId": "4c8dfb0b-d7bd-47a7-9a06-852b15caaac6"
      },
      "execution_count": 6,
      "outputs": [
        {
          "output_type": "stream",
          "name": "stdout",
          "text": [
            "Train Data Set (69918, 8) (69918,)\n",
            "Cross Validate Data Set (17480, 8) (17480,)\n",
            "Test Data Set (21850, 8) (21850,)\n"
          ]
        }
      ]
    },
    {
      "cell_type": "code",
      "source": [
        "project_data.replace(to_replace=np.NaN, value= str('nan'),inplace=True)\n"
      ],
      "metadata": {
        "id": "Y2DY1vkRwjYt"
      },
      "execution_count": 7,
      "outputs": []
    },
    {
      "cell_type": "code",
      "source": [
        "col = project_data.columns\n",
        "col"
      ],
      "metadata": {
        "colab": {
          "base_uri": "https://localhost:8080/",
          "height": 0
        },
        "id": "L2PmB790wjcY",
        "outputId": "119898b5-19aa-4f43-bc47-cf3278287781"
      },
      "execution_count": 8,
      "outputs": [
        {
          "output_type": "execute_result",
          "data": {
            "text/plain": [
              "Index(['school_state', 'teacher_prefix', 'project_grade_category',\n",
              "       'teacher_number_of_previously_posted_projects', 'clean_categories',\n",
              "       'clean_subcategories', 'essay', 'price'],\n",
              "      dtype='object')"
            ]
          },
          "metadata": {},
          "execution_count": 8
        }
      ]
    },
    {
      "cell_type": "code",
      "source": [
        "col = ['teacher_prefix', 'school_state', 'project_grade_category',\n",
        "       'clean_categories', 'clean_subcategories','essay',\n",
        "       'price']\n",
        "project_data = project_data[col]"
      ],
      "metadata": {
        "id": "KI-Ja1dZwjfD"
      },
      "execution_count": 9,
      "outputs": []
    },
    {
      "cell_type": "code",
      "source": [],
      "metadata": {
        "id": "1piJ7bCywjkQ"
      },
      "execution_count": null,
      "outputs": []
    },
    {
      "cell_type": "code",
      "source": [],
      "metadata": {
        "id": "xO796Infwjop"
      },
      "execution_count": null,
      "outputs": []
    },
    {
      "cell_type": "code",
      "source": [
        "# reading the pre trained word vectors file\n",
        "dumb_file = open('/content/drive/MyDrive/Colab Notebooks/glove_vectors', 'rb')      \n",
        "dumb = pickle.load(dumb_file)"
      ],
      "metadata": {
        "id": "TyItDUZ-C8Un"
      },
      "execution_count": 4,
      "outputs": []
    },
    {
      "cell_type": "code",
      "source": [
        "dumb['mallinson'].shape"
      ],
      "metadata": {
        "colab": {
          "base_uri": "https://localhost:8080/",
          "height": 0
        },
        "id": "rhxsPQOSwUTU",
        "outputId": "75c0c25d-62b1-49bb-c335-979a60e9f758"
      },
      "execution_count": 5,
      "outputs": [
        {
          "output_type": "execute_result",
          "data": {
            "text/plain": [
              "(300,)"
            ]
          },
          "metadata": {},
          "execution_count": 5
        }
      ]
    },
    {
      "cell_type": "code",
      "source": [
        "\n",
        "def word_ranking(dataframe):\n",
        "    # performing train test split\n",
        "    train, test, y_train, y_test = train_test_split(dataframe, class_label, stratify=class_label, train_size=0.7)\n",
        "    train, cv, y_train, y_cv = train_test_split(train, y_train, stratify=y_train, train_size=0.8)\n",
        "\n",
        "    # column names to consider\n",
        "    col_names = dataframe.columns[:6]\n",
        "\n",
        "    # list to store features for each column\n",
        "    features = []\n",
        "\n",
        "    # iterate over each column\n",
        "    for col in col_names:\n",
        "        # create CountVectorizer and fit on train data\n",
        "        vectorizer = CountVectorizer(lowercase=False)\n",
        "        bow_train = vectorizer.fit_transform(train[col])\n",
        "\n",
        "        # get word frequencies and sort by frequency\n",
        "        word_freqs = bow_train.sum(axis=0).A1\n",
        "        word_indices = word_freqs.argsort()[::-1]\n",
        "        words = vectorizer.get_feature_names()\n",
        "\n",
        "        # assign ranks to words based on frequency\n",
        "        word_rank = {word: rank+1 for rank, idx in enumerate(word_indices) for word in [words[idx]]}\n",
        "        features.append(word_rank)\n",
        "\n",
        "        # replace words with their ranks in train, test, and cv data\n",
        "        for df in [train, test, cv]:\n",
        "            ranks = []\n",
        "            for sent in df[col].values:\n",
        "                txt_row = [word_rank.get(word, 0) for word in sent.split()]\n",
        "                ranks.append(txt_row)\n",
        "            df[col] = ranks\n",
        "\n",
        "    return train, test, cv, y_train, y_test, y_cv, features"
      ],
      "metadata": {
        "id": "6-ixf6a2auI1"
      },
      "execution_count": 12,
      "outputs": []
    },
    {
      "cell_type": "code",
      "source": [
        "train,test,cv,y_train,y_test,y_cv,feature_names = word_ranking(project_data)\n"
      ],
      "metadata": {
        "id": "A9ve5hjKauLt"
      },
      "execution_count": 13,
      "outputs": []
    },
    {
      "cell_type": "code",
      "source": [
        "print(\"Shape of the Train dataset: \", train.shape[0])\n",
        "print(\"Shape of the Test dataset: \", test.shape[0])\n",
        "print(\"Shape of the cv dataset:\", cv.shape[0])"
      ],
      "metadata": {
        "colab": {
          "base_uri": "https://localhost:8080/",
          "height": 0
        },
        "id": "PIAuMQ8pauOb",
        "outputId": "6179c5b5-8055-4dd8-c7be-e063b16b9893"
      },
      "execution_count": 14,
      "outputs": [
        {
          "output_type": "stream",
          "name": "stdout",
          "text": [
            "Shape of the Train dataset:  61178\n",
            "Shape of the Test dataset:  32775\n",
            "Shape of the cv dataset: 15295\n"
          ]
        }
      ]
    },
    {
      "cell_type": "code",
      "source": [
        "#converting class labels to categorical variables\n",
        "from keras.utils import to_categorical\n",
        "y_train = to_categorical(y_train)\n",
        "y_test = to_categorical(y_test)\n",
        "y_cv = to_categorical(y_cv)\n"
      ],
      "metadata": {
        "id": "5uAH43fJauRV"
      },
      "execution_count": 15,
      "outputs": []
    },
    {
      "cell_type": "code",
      "source": [
        "from sklearn.utils import compute_class_weight\n",
        "class_wght = compute_class_weight(\"balanced\", classes= np.unique(class_label),y=class_label)\n",
        "class_wght\n",
        "\n"
      ],
      "metadata": {
        "colab": {
          "base_uri": "https://localhost:8080/",
          "height": 0
        },
        "id": "8NeaEGdsw6ME",
        "outputId": "d5852ee3-c4e3-49ef-c9d2-3e9e711c4779"
      },
      "execution_count": 16,
      "outputs": [
        {
          "output_type": "execute_result",
          "data": {
            "text/plain": [
              "array([3.30214001, 0.58921753])"
            ]
          },
          "metadata": {},
          "execution_count": 16
        }
      ]
    },
    {
      "cell_type": "code",
      "source": [
        "feature_names[4]\n"
      ],
      "metadata": {
        "colab": {
          "base_uri": "https://localhost:8080/",
          "height": 0
        },
        "id": "MpPXyYx4w6PK",
        "outputId": "6615ca43-800d-4a38-cded-e579ce96b8d6"
      },
      "execution_count": 17,
      "outputs": [
        {
          "output_type": "execute_result",
          "data": {
            "text/plain": [
              "{'literacy': 1,\n",
              " 'mathematics': 2,\n",
              " 'literature_writing': 3,\n",
              " 'specialneeds': 4,\n",
              " 'appliedsciences': 5,\n",
              " 'health_wellness': 6,\n",
              " 'visualarts': 7,\n",
              " 'environmentalscience': 8,\n",
              " 'gym_fitness': 9,\n",
              " 'esl': 10,\n",
              " 'health_lifescience': 11,\n",
              " 'earlydevelopment': 12,\n",
              " 'music': 13,\n",
              " 'history_geography': 14,\n",
              " 'college_careerprep': 15,\n",
              " 'other': 16,\n",
              " 'teamsports': 17,\n",
              " 'charactereducation': 18,\n",
              " 'performingarts': 19,\n",
              " 'socialsciences': 20,\n",
              " 'care_hunger': 21,\n",
              " 'warmth': 22,\n",
              " 'nutritioneducation': 23,\n",
              " 'foreignlanguages': 24,\n",
              " 'extracurricular': 25,\n",
              " 'civics_government': 26,\n",
              " 'parentinvolvement': 27,\n",
              " 'financialliteracy': 28,\n",
              " 'communityservice': 29,\n",
              " 'economics': 30}"
            ]
          },
          "metadata": {},
          "execution_count": 17
        }
      ]
    },
    {
      "cell_type": "code",
      "source": [
        "#Creating a matrix with rows as words and columns with 50 dim vectors for each word\n",
        "def embedding_mat(word_index,embedding_dim = 300):\n",
        "    embedding_matrix = np.zeros((len(word_index) + 1, embedding_dim))\n",
        "    for word, i in word_index.items():\n",
        "        embedding_vector = dumb.get(word)\n",
        "        if embedding_vector is not None:\n",
        "        # words not found in embedding index will be all-zeros.\n",
        "            embedding_matrix[i] = embedding_vector\n",
        "    return embedding_matrix"
      ],
      "metadata": {
        "id": "lLrXzfsOw6Sh"
      },
      "execution_count": 6,
      "outputs": []
    },
    {
      "cell_type": "markdown",
      "source": [
        "#Tokenizing the Text part\n"
      ],
      "metadata": {
        "id": "bkg04ud5xWk3"
      }
    },
    {
      "cell_type": "code",
      "source": [
        "max_review_length = 250\n",
        "\n",
        "X_train = pad_sequences(train['essay'], maxlen=max_review_length, padding='pre', truncating='pre')\n",
        "X_test = pad_sequences(test['essay'], maxlen=max_review_length, padding='pre', truncating='pre')\n",
        "X_cv = pad_sequences(cv['essay'], maxlen=max_review_length, padding='pre', truncating='pre')\n",
        "\n",
        "print(X_train.shape)\n",
        "print(X_train[256])\n"
      ],
      "metadata": {
        "colab": {
          "base_uri": "https://localhost:8080/",
          "height": 0
        },
        "id": "ZVIzCGm-w6Vp",
        "outputId": "b1742c8b-fc62-44d4-a93f-21e8999b9eb6"
      },
      "execution_count": 19,
      "outputs": [
        {
          "output_type": "stream",
          "name": "stdout",
          "text": [
            "(61178, 250)\n",
            "[   0    0    0    0    0    0    0    0    0    0    0    0    0    0\n",
            "    0    0    0    0    0    0    0    0    0    0    0    0    0    0\n",
            "    0    0    0    0    0    0    0    0    0    0    0    0    0    0\n",
            "    0    0    0    0    0    0    0    0    0    0    0    0    0    0\n",
            "    0    0    0    0    0    0    0    0    0    0    0    0    0    0\n",
            "    0    0    0    0    0    0    0    0    0    0    0    0    0    0\n",
            "    0    0    0    0    0    0    0    0    0    0    0    0    0    0\n",
            "    0    0    0    0    0    0    0    0    0    0    0    0    0    0\n",
            "    0    0    0    0    0    0    0    0    0    0    0    0    0    0\n",
            "    0    0    0    0    0    0    0    3    1   21   86  130  136  978\n",
            " 2211 3700   13  415   63  296   80   13   27  162  336 1605 2570 1918\n",
            "  827  166   29   24    1  447    7   97   62  122   70  356    0   70\n",
            "    5   24    2  373    1  177  441  228 7477 2924    1  749  270  568\n",
            "  203    0  361   48   26  149  172  125  760   37   16  101 2435    4\n",
            "  321  161  398  481  422  426  464  188   38    6  285 3026  997 2741\n",
            "  128  473    1  483  101    3    1   18  321  325  228  321    1 1331\n",
            "  125  101  213   16  101  298  648  116  309  808   19  516 1188   88\n",
            "  101   37  321   44    1    9   26   17  166    4  886   12]\n"
          ]
        }
      ]
    },
    {
      "cell_type": "markdown",
      "source": [
        "#Tokenizing the school state\n"
      ],
      "metadata": {
        "id": "24G8Ols_xats"
      }
    },
    {
      "cell_type": "code",
      "source": [
        "\n",
        "max_review_length = 1\n",
        "# here we are using prepadding \n",
        "X_train_school_state = pad_sequences(train['school_state'], maxlen=max_review_length, padding='pre', truncating='pre')\n",
        "X_test_school_state = pad_sequences(test['school_state'], maxlen=max_review_length, padding='pre', truncating='pre')\n",
        "X_cv_school_state = pad_sequences(cv['school_state'], maxlen=max_review_length, padding='pre', truncating='pre')\n",
        "\n",
        "print(X_test_school_state.shape)\n",
        "print(X_test_school_state[0])"
      ],
      "metadata": {
        "colab": {
          "base_uri": "https://localhost:8080/",
          "height": 0
        },
        "id": "-ohtUwnnw6Yi",
        "outputId": "9db35afd-bf2a-43ec-8fbb-3b9b7ac3a173"
      },
      "execution_count": 20,
      "outputs": [
        {
          "output_type": "stream",
          "name": "stdout",
          "text": [
            "(32775, 1)\n",
            "[2]\n"
          ]
        }
      ]
    },
    {
      "cell_type": "markdown",
      "source": [
        "#Tokenizing the project_grade_category\n"
      ],
      "metadata": {
        "id": "SJoFAmr_xfdN"
      }
    },
    {
      "cell_type": "code",
      "source": [
        "max_review_length = 1\n",
        "X_train_project_grade = pad_sequences(train['project_grade_category'], maxlen=max_review_length)  #padding zeros at the begining of each review to make max len as 200\n",
        "X_test_project_grade = pad_sequences(test['project_grade_category'], maxlen=max_review_length)\n",
        "X_cv_project_grade = pad_sequences(cv['project_grade_category'], maxlen=max_review_length)\n",
        "print(X_train_project_grade.shape)\n",
        "print(X_train_project_grade[0])"
      ],
      "metadata": {
        "colab": {
          "base_uri": "https://localhost:8080/",
          "height": 0
        },
        "id": "GeA0OZzyw6bF",
        "outputId": "6b1fa20e-413f-4e6e-927f-f88d4e0179a2"
      },
      "execution_count": 21,
      "outputs": [
        {
          "output_type": "stream",
          "name": "stdout",
          "text": [
            "(61178, 1)\n",
            "[1]\n"
          ]
        }
      ]
    },
    {
      "cell_type": "markdown",
      "source": [
        "#Tokenizing the clean_categories\n"
      ],
      "metadata": {
        "id": "LCiUdpNwxkzH"
      }
    },
    {
      "cell_type": "code",
      "source": [
        "max_review_length = 1\n",
        "X_train_clean_categories = pad_sequences(train['clean_categories'], maxlen=max_review_length)  #padding zeros at the begining of each review to make max len as 200\n",
        "X_test_clean_categories = pad_sequences(test['clean_categories'], maxlen=max_review_length)\n",
        "X_cv_clean_categories = pad_sequences(cv['clean_categories'], maxlen=max_review_length)\n",
        "print(X_train_clean_categories.shape)\n",
        "print(X_train_clean_categories[0])"
      ],
      "metadata": {
        "colab": {
          "base_uri": "https://localhost:8080/",
          "height": 0
        },
        "id": "o1H68v7Cw6eh",
        "outputId": "af94d7bc-501f-43b9-a2aa-4be9d03510b6"
      },
      "execution_count": 22,
      "outputs": [
        {
          "output_type": "stream",
          "name": "stdout",
          "text": [
            "(61178, 1)\n",
            "[2]\n"
          ]
        }
      ]
    },
    {
      "cell_type": "markdown",
      "source": [
        "#Tokenizing the clean_subcategories\n"
      ],
      "metadata": {
        "id": "y4dJleBVxtJK"
      }
    },
    {
      "cell_type": "code",
      "source": [
        "max_review_length = 1\n",
        "X_train_clean_subcategories = pad_sequences(train['clean_subcategories'], maxlen=max_review_length)  #padding zeros at the begining of each review to make max len as 200\n",
        "X_test_clean_subcategories = pad_sequences(test['clean_subcategories'], maxlen=max_review_length)\n",
        "X_cv_clean_subcategories = pad_sequences(cv['clean_subcategories'], maxlen=max_review_length)\n",
        "print(X_train_clean_subcategories.shape)\n",
        "print(X_train_clean_subcategories[0])"
      ],
      "metadata": {
        "colab": {
          "base_uri": "https://localhost:8080/",
          "height": 0
        },
        "id": "EZDX9pRFw6n7",
        "outputId": "6afcbac2-7903-44c1-9abc-41ab98c4241a"
      },
      "execution_count": 23,
      "outputs": [
        {
          "output_type": "stream",
          "name": "stdout",
          "text": [
            "(61178, 1)\n",
            "[2]\n"
          ]
        }
      ]
    },
    {
      "cell_type": "markdown",
      "source": [
        "#Tokenizing the teacher prefix\n"
      ],
      "metadata": {
        "id": "fxYAzV1tx1oa"
      }
    },
    {
      "cell_type": "code",
      "source": [
        "max_review_length = 1\n",
        "X_train_teacher_prefix = pad_sequences(train['teacher_prefix'], maxlen=max_review_length)  #padding zeros at the begining of each review to make max len as 200\n",
        "X_test_teacher_prefix = pad_sequences(test['teacher_prefix'], maxlen=max_review_length)\n",
        "X_cv_teacher_prefix = pad_sequences(cv['teacher_prefix'], maxlen=max_review_length)\n",
        "print(X_train_teacher_prefix.shape)\n",
        "print(X_test_teacher_prefix[0])"
      ],
      "metadata": {
        "colab": {
          "base_uri": "https://localhost:8080/",
          "height": 0
        },
        "id": "29BO2ZtzauUM",
        "outputId": "7cf36636-364a-4eec-c3a9-64f1780b98af"
      },
      "execution_count": 24,
      "outputs": [
        {
          "output_type": "stream",
          "name": "stdout",
          "text": [
            "(61178, 1)\n",
            "[1]\n"
          ]
        }
      ]
    },
    {
      "cell_type": "code",
      "source": [
        "train.head()"
      ],
      "metadata": {
        "colab": {
          "base_uri": "https://localhost:8080/",
          "height": 206
        },
        "id": "NLlLl_8ZauXF",
        "outputId": "771adce8-8b7e-4900-eeac-c325af352538"
      },
      "execution_count": 25,
      "outputs": [
        {
          "output_type": "execute_result",
          "data": {
            "text/plain": [
              "      teacher_prefix school_state project_grade_category clean_categories  \\\n",
              "56757            [2]         [22]                    [1]              [2]   \n",
              "5580             [2]          [6]                    [3]           [5, 4]   \n",
              "18657            [1]          [5]                    [1]              [4]   \n",
              "13892            [1]          [3]                    [2]           [1, 4]   \n",
              "94161            [1]         [18]                    [2]              [1]   \n",
              "\n",
              "      clean_subcategories                                              essay  \\\n",
              "56757                 [2]  [3, 1, 21, 117, 139, 50, 58, 0, 48, 188, 38, 2...   \n",
              "5580              [16, 4]  [105, 75, 42, 59, 1, 29, 11805, 7, 2483, 731, ...   \n",
              "18657                 [4]  [0, 48, 501, 937, 546, 0, 1, 8366, 129, 214, 1...   \n",
              "13892              [3, 4]  [0, 332, 1240, 366, 2, 29, 443, 1044, 3761, 22...   \n",
              "94161             [10, 1]  [3, 1, 21, 51, 134, 86, 393, 139, 11, 187, 86,...   \n",
              "\n",
              "        price  \n",
              "56757   60.59  \n",
              "5580   269.99  \n",
              "18657  693.06  \n",
              "13892   56.92  \n",
              "94161  335.49  "
            ],
            "text/html": [
              "\n",
              "  <div id=\"df-0d209f72-65d0-4e0f-91ac-e7e303de97ee\">\n",
              "    <div class=\"colab-df-container\">\n",
              "      <div>\n",
              "<style scoped>\n",
              "    .dataframe tbody tr th:only-of-type {\n",
              "        vertical-align: middle;\n",
              "    }\n",
              "\n",
              "    .dataframe tbody tr th {\n",
              "        vertical-align: top;\n",
              "    }\n",
              "\n",
              "    .dataframe thead th {\n",
              "        text-align: right;\n",
              "    }\n",
              "</style>\n",
              "<table border=\"1\" class=\"dataframe\">\n",
              "  <thead>\n",
              "    <tr style=\"text-align: right;\">\n",
              "      <th></th>\n",
              "      <th>teacher_prefix</th>\n",
              "      <th>school_state</th>\n",
              "      <th>project_grade_category</th>\n",
              "      <th>clean_categories</th>\n",
              "      <th>clean_subcategories</th>\n",
              "      <th>essay</th>\n",
              "      <th>price</th>\n",
              "    </tr>\n",
              "  </thead>\n",
              "  <tbody>\n",
              "    <tr>\n",
              "      <th>56757</th>\n",
              "      <td>[2]</td>\n",
              "      <td>[22]</td>\n",
              "      <td>[1]</td>\n",
              "      <td>[2]</td>\n",
              "      <td>[2]</td>\n",
              "      <td>[3, 1, 21, 117, 139, 50, 58, 0, 48, 188, 38, 2...</td>\n",
              "      <td>60.59</td>\n",
              "    </tr>\n",
              "    <tr>\n",
              "      <th>5580</th>\n",
              "      <td>[2]</td>\n",
              "      <td>[6]</td>\n",
              "      <td>[3]</td>\n",
              "      <td>[5, 4]</td>\n",
              "      <td>[16, 4]</td>\n",
              "      <td>[105, 75, 42, 59, 1, 29, 11805, 7, 2483, 731, ...</td>\n",
              "      <td>269.99</td>\n",
              "    </tr>\n",
              "    <tr>\n",
              "      <th>18657</th>\n",
              "      <td>[1]</td>\n",
              "      <td>[5]</td>\n",
              "      <td>[1]</td>\n",
              "      <td>[4]</td>\n",
              "      <td>[4]</td>\n",
              "      <td>[0, 48, 501, 937, 546, 0, 1, 8366, 129, 214, 1...</td>\n",
              "      <td>693.06</td>\n",
              "    </tr>\n",
              "    <tr>\n",
              "      <th>13892</th>\n",
              "      <td>[1]</td>\n",
              "      <td>[3]</td>\n",
              "      <td>[2]</td>\n",
              "      <td>[1, 4]</td>\n",
              "      <td>[3, 4]</td>\n",
              "      <td>[0, 332, 1240, 366, 2, 29, 443, 1044, 3761, 22...</td>\n",
              "      <td>56.92</td>\n",
              "    </tr>\n",
              "    <tr>\n",
              "      <th>94161</th>\n",
              "      <td>[1]</td>\n",
              "      <td>[18]</td>\n",
              "      <td>[2]</td>\n",
              "      <td>[1]</td>\n",
              "      <td>[10, 1]</td>\n",
              "      <td>[3, 1, 21, 51, 134, 86, 393, 139, 11, 187, 86,...</td>\n",
              "      <td>335.49</td>\n",
              "    </tr>\n",
              "  </tbody>\n",
              "</table>\n",
              "</div>\n",
              "      <button class=\"colab-df-convert\" onclick=\"convertToInteractive('df-0d209f72-65d0-4e0f-91ac-e7e303de97ee')\"\n",
              "              title=\"Convert this dataframe to an interactive table.\"\n",
              "              style=\"display:none;\">\n",
              "        \n",
              "  <svg xmlns=\"http://www.w3.org/2000/svg\" height=\"24px\"viewBox=\"0 0 24 24\"\n",
              "       width=\"24px\">\n",
              "    <path d=\"M0 0h24v24H0V0z\" fill=\"none\"/>\n",
              "    <path d=\"M18.56 5.44l.94 2.06.94-2.06 2.06-.94-2.06-.94-.94-2.06-.94 2.06-2.06.94zm-11 1L8.5 8.5l.94-2.06 2.06-.94-2.06-.94L8.5 2.5l-.94 2.06-2.06.94zm10 10l.94 2.06.94-2.06 2.06-.94-2.06-.94-.94-2.06-.94 2.06-2.06.94z\"/><path d=\"M17.41 7.96l-1.37-1.37c-.4-.4-.92-.59-1.43-.59-.52 0-1.04.2-1.43.59L10.3 9.45l-7.72 7.72c-.78.78-.78 2.05 0 2.83L4 21.41c.39.39.9.59 1.41.59.51 0 1.02-.2 1.41-.59l7.78-7.78 2.81-2.81c.8-.78.8-2.07 0-2.86zM5.41 20L4 18.59l7.72-7.72 1.47 1.35L5.41 20z\"/>\n",
              "  </svg>\n",
              "      </button>\n",
              "      \n",
              "  <style>\n",
              "    .colab-df-container {\n",
              "      display:flex;\n",
              "      flex-wrap:wrap;\n",
              "      gap: 12px;\n",
              "    }\n",
              "\n",
              "    .colab-df-convert {\n",
              "      background-color: #E8F0FE;\n",
              "      border: none;\n",
              "      border-radius: 50%;\n",
              "      cursor: pointer;\n",
              "      display: none;\n",
              "      fill: #1967D2;\n",
              "      height: 32px;\n",
              "      padding: 0 0 0 0;\n",
              "      width: 32px;\n",
              "    }\n",
              "\n",
              "    .colab-df-convert:hover {\n",
              "      background-color: #E2EBFA;\n",
              "      box-shadow: 0px 1px 2px rgba(60, 64, 67, 0.3), 0px 1px 3px 1px rgba(60, 64, 67, 0.15);\n",
              "      fill: #174EA6;\n",
              "    }\n",
              "\n",
              "    [theme=dark] .colab-df-convert {\n",
              "      background-color: #3B4455;\n",
              "      fill: #D2E3FC;\n",
              "    }\n",
              "\n",
              "    [theme=dark] .colab-df-convert:hover {\n",
              "      background-color: #434B5C;\n",
              "      box-shadow: 0px 1px 3px 1px rgba(0, 0, 0, 0.15);\n",
              "      filter: drop-shadow(0px 1px 2px rgba(0, 0, 0, 0.3));\n",
              "      fill: #FFFFFF;\n",
              "    }\n",
              "  </style>\n",
              "\n",
              "      <script>\n",
              "        const buttonEl =\n",
              "          document.querySelector('#df-0d209f72-65d0-4e0f-91ac-e7e303de97ee button.colab-df-convert');\n",
              "        buttonEl.style.display =\n",
              "          google.colab.kernel.accessAllowed ? 'block' : 'none';\n",
              "\n",
              "        async function convertToInteractive(key) {\n",
              "          const element = document.querySelector('#df-0d209f72-65d0-4e0f-91ac-e7e303de97ee');\n",
              "          const dataTable =\n",
              "            await google.colab.kernel.invokeFunction('convertToInteractive',\n",
              "                                                     [key], {});\n",
              "          if (!dataTable) return;\n",
              "\n",
              "          const docLinkHtml = 'Like what you see? Visit the ' +\n",
              "            '<a target=\"_blank\" href=https://colab.research.google.com/notebooks/data_table.ipynb>data table notebook</a>'\n",
              "            + ' to learn more about interactive tables.';\n",
              "          element.innerHTML = '';\n",
              "          dataTable['output_type'] = 'display_data';\n",
              "          await google.colab.output.renderOutput(dataTable, element);\n",
              "          const docLink = document.createElement('div');\n",
              "          docLink.innerHTML = docLinkHtml;\n",
              "          element.appendChild(docLink);\n",
              "        }\n",
              "      </script>\n",
              "    </div>\n",
              "  </div>\n",
              "  "
            ]
          },
          "metadata": {},
          "execution_count": 25
        }
      ]
    },
    {
      "cell_type": "markdown",
      "source": [
        "#Deep Learning Models\n",
        "Model 1"
      ],
      "metadata": {
        "id": "YIdzjzqFx-eN"
      }
    },
    {
      "cell_type": "code",
      "source": [
        "# defining the auc score for model \n",
        "def auc( y_true, y_pred ) :\n",
        "    score = tf.numpy_function(lambda y_true, y_pred : roc_auc_score( y_true, y_pred ,average='weighted').astype('float32'),\n",
        "                        [y_true, y_pred],\n",
        "                        'float32',\n",
        "                        name='sklearnAUC')\n",
        "    return score\n",
        "\n",
        "\n",
        "# defining the accuracy score for model \n",
        "\n",
        "def accuracy(y_true, y_pred):\n",
        "    y_pred = tf.argmax(y_pred, axis=1)\n",
        "    accuracy = tf.keras.metrics.Accuracy()\n",
        "    accuracy.update_state(y_true, y_pred)\n",
        "    return accuracy.result().numpy()\n",
        "\n",
        "\n",
        "\n",
        "# defining learning rate function with value of 0.0001\n",
        "def step_decay(epoch):\n",
        "    initial_lr = 0.0001\n",
        "    lr_drop = 1e-6\n",
        "    epochs_drop = 1\n",
        "    lr = initial_lr * math.pow(lr_drop, math.floor((1 + epoch) / epochs_drop))\n",
        "    return lr"
      ],
      "metadata": {
        "id": "LbM9oECZauZ5"
      },
      "execution_count": 26,
      "outputs": []
    },
    {
      "cell_type": "code",
      "source": [
        "#input 1\n",
        "input1 = Input(shape=(250,))\n",
        "x1 = Embedding(input_dim=44899,output_dim= 300,weights=[embedding_mat(feature_names[5])],trainable=False)(input1)\n",
        "x1 = SpatialDropout1D(0.3)(x1)\n",
        "x1 = LSTM(128,return_sequences=True)(x1)\n",
        "x1 = Flatten()(x1)\n",
        "\n",
        "#input 2\n",
        "input2 = Input(shape=(1,))\n",
        "x2 = Embedding(input_dim= 52,output_dim= 2)(input2)\n",
        "x2 = Flatten()(x2)\n",
        "\n",
        "#input 3\n",
        "input3 = Input(shape=(1,))\n",
        "x3 = Embedding(input_dim= 5,output_dim= 2)(input3)\n",
        "x3 = Flatten()(x3)\n",
        "\n",
        "#input 4\n",
        "input4 = Input(shape=(1,))\n",
        "x4 = Embedding(input_dim=50,output_dim= 2)(input4)\n",
        "x4 = Flatten()(x4)\n",
        "\n",
        "#input 5\n",
        "input5 = Input(shape=(1,))\n",
        "x5 = Embedding(input_dim= 385,output_dim= 50)(input5)\n",
        "x5 = Flatten()(x5)\n",
        "\n",
        "#input 6\n",
        "input6 = Input(shape=(1,))\n",
        "x6 = Embedding(input_dim= 6,output_dim= 5)(input6)\n",
        "x6 = Flatten()(x6)\n",
        "\n",
        "#input 7\n",
        "input7 = Input(shape=(1,))\n",
        "x7 = Dense(16,activation='sigmoid',kernel_initializer=he_normal(),kernel_regularizer=l2(0.0001))(input7)\n",
        "# now will merge all the input layer using concatenate function \n",
        "concated_layer = concatenate([x1,x2,x3,x4,x5,x6,x7])\n",
        "#x = BatchNormalization()(concat)\n",
        "\n",
        "x = Dense(128,activation='relu',kernel_initializer=he_normal(),kernel_regularizer=l2(0.0001))(concated_layer)\n",
        "x = Dropout(0.3)(x)\n",
        "x = Dense(64,activation='relu',kernel_initializer=he_normal(),kernel_regularizer=l2(0.0001))(x)\n",
        "x = Dropout(0.3)(x)\n",
        "x = BatchNormalization()(x)\n",
        "x = Dense(32,activation='relu',kernel_initializer=he_normal(),kernel_regularizer=l2(0.0001))(x)\n",
        "x = Dropout(0.3)(x)\n",
        "output = Dense(2, activation = 'softmax')(x)\n",
        " \n",
        "# created the model with all inputs \n",
        "model = Model([input1,input2,input3,input4,input5,input6,input7], output)\n",
        "tensorboard = TensorBoard(log_dir='logs/{}'.format(time()))\n",
        "model.compile(loss='categorical_crossentropy', optimizer=keras.optimizers.Adam(lr=0.0006),metrics=['accuracy' ,auc])\n",
        "print(model.summary())"
      ],
      "metadata": {
        "colab": {
          "base_uri": "https://localhost:8080/",
          "height": 0
        },
        "id": "Vu2TZuGKaucf",
        "outputId": "848029f8-3e03-4d99-814e-ef3ff92313a4"
      },
      "execution_count": 28,
      "outputs": [
        {
          "output_type": "stream",
          "name": "stdout",
          "text": [
            "Model: \"model\"\n",
            "__________________________________________________________________________________________________\n",
            " Layer (type)                   Output Shape         Param #     Connected to                     \n",
            "==================================================================================================\n",
            " input_2 (InputLayer)           [(None, 250)]        0           []                               \n",
            "                                                                                                  \n",
            " embedding_1 (Embedding)        (None, 250, 300)     13469700    ['input_2[0][0]']                \n",
            "                                                                                                  \n",
            " spatial_dropout1d (SpatialDrop  (None, 250, 300)    0           ['embedding_1[0][0]']            \n",
            " out1D)                                                                                           \n",
            "                                                                                                  \n",
            " input_3 (InputLayer)           [(None, 1)]          0           []                               \n",
            "                                                                                                  \n",
            " input_4 (InputLayer)           [(None, 1)]          0           []                               \n",
            "                                                                                                  \n",
            " input_5 (InputLayer)           [(None, 1)]          0           []                               \n",
            "                                                                                                  \n",
            " input_6 (InputLayer)           [(None, 1)]          0           []                               \n",
            "                                                                                                  \n",
            " input_7 (InputLayer)           [(None, 1)]          0           []                               \n",
            "                                                                                                  \n",
            " lstm (LSTM)                    (None, 250, 128)     219648      ['spatial_dropout1d[0][0]']      \n",
            "                                                                                                  \n",
            " embedding_2 (Embedding)        (None, 1, 2)         104         ['input_3[0][0]']                \n",
            "                                                                                                  \n",
            " embedding_3 (Embedding)        (None, 1, 2)         10          ['input_4[0][0]']                \n",
            "                                                                                                  \n",
            " embedding_4 (Embedding)        (None, 1, 2)         100         ['input_5[0][0]']                \n",
            "                                                                                                  \n",
            " embedding_5 (Embedding)        (None, 1, 50)        19250       ['input_6[0][0]']                \n",
            "                                                                                                  \n",
            " embedding_6 (Embedding)        (None, 1, 5)         30          ['input_7[0][0]']                \n",
            "                                                                                                  \n",
            " input_8 (InputLayer)           [(None, 1)]          0           []                               \n",
            "                                                                                                  \n",
            " flatten (Flatten)              (None, 32000)        0           ['lstm[0][0]']                   \n",
            "                                                                                                  \n",
            " flatten_1 (Flatten)            (None, 2)            0           ['embedding_2[0][0]']            \n",
            "                                                                                                  \n",
            " flatten_2 (Flatten)            (None, 2)            0           ['embedding_3[0][0]']            \n",
            "                                                                                                  \n",
            " flatten_3 (Flatten)            (None, 2)            0           ['embedding_4[0][0]']            \n",
            "                                                                                                  \n",
            " flatten_4 (Flatten)            (None, 50)           0           ['embedding_5[0][0]']            \n",
            "                                                                                                  \n",
            " flatten_5 (Flatten)            (None, 5)            0           ['embedding_6[0][0]']            \n",
            "                                                                                                  \n",
            " dense (Dense)                  (None, 16)           32          ['input_8[0][0]']                \n",
            "                                                                                                  \n",
            " concatenate (Concatenate)      (None, 32077)        0           ['flatten[0][0]',                \n",
            "                                                                  'flatten_1[0][0]',              \n",
            "                                                                  'flatten_2[0][0]',              \n",
            "                                                                  'flatten_3[0][0]',              \n",
            "                                                                  'flatten_4[0][0]',              \n",
            "                                                                  'flatten_5[0][0]',              \n",
            "                                                                  'dense[0][0]']                  \n",
            "                                                                                                  \n",
            " dense_1 (Dense)                (None, 128)          4105984     ['concatenate[0][0]']            \n",
            "                                                                                                  \n",
            " dropout (Dropout)              (None, 128)          0           ['dense_1[0][0]']                \n",
            "                                                                                                  \n",
            " dense_2 (Dense)                (None, 64)           8256        ['dropout[0][0]']                \n",
            "                                                                                                  \n",
            " dropout_1 (Dropout)            (None, 64)           0           ['dense_2[0][0]']                \n",
            "                                                                                                  \n",
            " batch_normalization (BatchNorm  (None, 64)          256         ['dropout_1[0][0]']              \n",
            " alization)                                                                                       \n",
            "                                                                                                  \n",
            " dense_3 (Dense)                (None, 32)           2080        ['batch_normalization[0][0]']    \n",
            "                                                                                                  \n",
            " dropout_2 (Dropout)            (None, 32)           0           ['dense_3[0][0]']                \n",
            "                                                                                                  \n",
            " dense_4 (Dense)                (None, 2)            66          ['dropout_2[0][0]']              \n",
            "                                                                                                  \n",
            "==================================================================================================\n",
            "Total params: 17,825,516\n",
            "Trainable params: 4,355,688\n",
            "Non-trainable params: 13,469,828\n",
            "__________________________________________________________________________________________________\n",
            "None\n"
          ]
        }
      ]
    },
    {
      "cell_type": "code",
      "source": [
        "import warnings\n",
        "warnings.filterwarnings(\"ignore\")"
      ],
      "metadata": {
        "id": "YKCpT57a0w87"
      },
      "execution_count": 29,
      "outputs": []
    },
    {
      "cell_type": "code",
      "source": [
        "#now fit and train the model \n",
        "#https://machinelearningmastery.com/check-point-deep-learning-models-keras/\n",
        "filepath=\"weights_2.best.hdf5\"\n",
        "checkpoint = ModelCheckpoint(filepath, monitor='val_auc', verbose=1, save_best_only=True, mode='max')\n",
        "callbacks_list = [checkpoint]\n",
        "\n",
        "# Remove TensorBoard from the callbacks_list\n",
        "model.fit([X_train, X_train_school_state, X_train_project_grade, X_train_clean_categories, X_train_clean_subcategories, \n",
        "           X_train_teacher_prefix, train['price']], y_train, epochs=50, verbose=1, batch_size=256,\n",
        "          validation_data=([X_cv, X_cv_school_state, X_cv_project_grade, X_cv_clean_categories, X_cv_clean_subcategories,    \n",
        "                            X_cv_teacher_prefix, cv['price']], y_cv), callbacks=callbacks_list)\n"
      ],
      "metadata": {
        "colab": {
          "base_uri": "https://localhost:8080/",
          "height": 0
        },
        "id": "sYuk08gFaufW",
        "outputId": "44978492-d674-411e-d441-63d710335b19"
      },
      "execution_count": 30,
      "outputs": [
        {
          "output_type": "stream",
          "name": "stdout",
          "text": [
            "Epoch 1/50\n"
          ]
        },
        {
          "output_type": "stream",
          "name": "stderr",
          "text": [
            "WARNING:tensorflow:From /usr/local/lib/python3.8/dist-packages/tensorflow/python/autograph/pyct/static_analysis/liveness.py:83: Analyzer.lamba_check (from tensorflow.python.autograph.pyct.static_analysis.liveness) is deprecated and will be removed after 2023-09-23.\n",
            "Instructions for updating:\n",
            "Lambda fuctions will be no more assumed to be used in the statement where they are used, or at least in the same block. https://github.com/tensorflow/tensorflow/issues/56089\n"
          ]
        },
        {
          "output_type": "stream",
          "name": "stdout",
          "text": [
            "238/239 [============================>.] - ETA: 0s - loss: 0.5400 - accuracy: 0.8278 - auc: 0.5216\n",
            "Epoch 00001: val_auc improved from -inf to 0.52008, saving model to weights_2.best.hdf5\n",
            "239/239 [==============================] - 20s 57ms/step - loss: 0.5397 - accuracy: 0.8279 - auc: 0.5218 - val_loss: 0.5122 - val_accuracy: 0.8486 - val_auc: 0.5201\n",
            "Epoch 2/50\n",
            "239/239 [==============================] - ETA: 0s - loss: 0.4754 - accuracy: 0.8465 - auc: 0.5962\n",
            "Epoch 00002: val_auc improved from 0.52008 to 0.67297, saving model to weights_2.best.hdf5\n",
            "239/239 [==============================] - 13s 56ms/step - loss: 0.4754 - accuracy: 0.8465 - auc: 0.5962 - val_loss: 0.4409 - val_accuracy: 0.8486 - val_auc: 0.6730\n",
            "Epoch 3/50\n",
            "239/239 [==============================] - ETA: 0s - loss: 0.4455 - accuracy: 0.8477 - auc: 0.6676\n",
            "Epoch 00003: val_auc improved from 0.67297 to 0.72061, saving model to weights_2.best.hdf5\n",
            "239/239 [==============================] - 13s 55ms/step - loss: 0.4455 - accuracy: 0.8477 - auc: 0.6676 - val_loss: 0.4255 - val_accuracy: 0.8486 - val_auc: 0.7206\n",
            "Epoch 4/50\n",
            "239/239 [==============================] - ETA: 0s - loss: 0.4270 - accuracy: 0.8478 - auc: 0.6956\n",
            "Epoch 00004: val_auc improved from 0.72061 to 0.73765, saving model to weights_2.best.hdf5\n",
            "239/239 [==============================] - 14s 57ms/step - loss: 0.4270 - accuracy: 0.8478 - auc: 0.6956 - val_loss: 0.4083 - val_accuracy: 0.8486 - val_auc: 0.7377\n",
            "Epoch 5/50\n",
            "239/239 [==============================] - ETA: 0s - loss: 0.4153 - accuracy: 0.8490 - auc: 0.7148\n",
            "Epoch 00005: val_auc improved from 0.73765 to 0.74610, saving model to weights_2.best.hdf5\n",
            "239/239 [==============================] - 13s 55ms/step - loss: 0.4153 - accuracy: 0.8490 - auc: 0.7148 - val_loss: 0.4034 - val_accuracy: 0.8526 - val_auc: 0.7461\n",
            "Epoch 6/50\n",
            "238/239 [============================>.] - ETA: 0s - loss: 0.4050 - accuracy: 0.8515 - auc: 0.7307\n",
            "Epoch 00006: val_auc improved from 0.74610 to 0.75116, saving model to weights_2.best.hdf5\n",
            "239/239 [==============================] - 13s 56ms/step - loss: 0.4050 - accuracy: 0.8516 - auc: 0.7306 - val_loss: 0.4036 - val_accuracy: 0.8537 - val_auc: 0.7512\n",
            "Epoch 7/50\n",
            "239/239 [==============================] - ETA: 0s - loss: 0.3997 - accuracy: 0.8507 - auc: 0.7409\n",
            "Epoch 00007: val_auc improved from 0.75116 to 0.75382, saving model to weights_2.best.hdf5\n",
            "239/239 [==============================] - 14s 57ms/step - loss: 0.3997 - accuracy: 0.8507 - auc: 0.7409 - val_loss: 0.3984 - val_accuracy: 0.8560 - val_auc: 0.7538\n",
            "Epoch 8/50\n",
            "239/239 [==============================] - ETA: 0s - loss: 0.3968 - accuracy: 0.8526 - auc: 0.7526\n",
            "Epoch 00008: val_auc improved from 0.75382 to 0.75975, saving model to weights_2.best.hdf5\n",
            "239/239 [==============================] - 15s 61ms/step - loss: 0.3968 - accuracy: 0.8526 - auc: 0.7526 - val_loss: 0.3926 - val_accuracy: 0.8562 - val_auc: 0.7598\n",
            "Epoch 9/50\n",
            "239/239 [==============================] - ETA: 0s - loss: 0.3936 - accuracy: 0.8549 - auc: 0.7675\n",
            "Epoch 00009: val_auc did not improve from 0.75975\n",
            "239/239 [==============================] - 13s 54ms/step - loss: 0.3936 - accuracy: 0.8549 - auc: 0.7675 - val_loss: 0.4017 - val_accuracy: 0.8549 - val_auc: 0.7583\n",
            "Epoch 10/50\n",
            "239/239 [==============================] - ETA: 0s - loss: 0.3916 - accuracy: 0.8579 - auc: 0.7859\n",
            "Epoch 00010: val_auc did not improve from 0.75975\n",
            "239/239 [==============================] - 13s 55ms/step - loss: 0.3916 - accuracy: 0.8579 - auc: 0.7859 - val_loss: 0.4134 - val_accuracy: 0.8500 - val_auc: 0.7583\n",
            "Epoch 11/50\n",
            "239/239 [==============================] - ETA: 0s - loss: 0.3902 - accuracy: 0.8625 - auc: 0.8071\n",
            "Epoch 00011: val_auc did not improve from 0.75975\n",
            "239/239 [==============================] - 13s 53ms/step - loss: 0.3902 - accuracy: 0.8625 - auc: 0.8071 - val_loss: 0.4294 - val_accuracy: 0.8543 - val_auc: 0.7476\n",
            "Epoch 12/50\n",
            "238/239 [============================>.] - ETA: 0s - loss: 0.3861 - accuracy: 0.8716 - auc: 0.8353\n",
            "Epoch 00012: val_auc did not improve from 0.75975\n",
            "239/239 [==============================] - 14s 57ms/step - loss: 0.3862 - accuracy: 0.8716 - auc: 0.8351 - val_loss: 0.4525 - val_accuracy: 0.8538 - val_auc: 0.7344\n",
            "Epoch 13/50\n",
            "239/239 [==============================] - ETA: 0s - loss: 0.3772 - accuracy: 0.8832 - auc: 0.8717\n",
            "Epoch 00013: val_auc did not improve from 0.75975\n",
            "239/239 [==============================] - 13s 55ms/step - loss: 0.3772 - accuracy: 0.8832 - auc: 0.8717 - val_loss: 0.4961 - val_accuracy: 0.8505 - val_auc: 0.7191\n",
            "Epoch 14/50\n",
            "238/239 [============================>.] - ETA: 0s - loss: 0.3660 - accuracy: 0.8997 - auc: 0.9062\n",
            "Epoch 00014: val_auc did not improve from 0.75975\n",
            "239/239 [==============================] - 15s 64ms/step - loss: 0.3661 - accuracy: 0.8998 - auc: 0.9062 - val_loss: 0.5561 - val_accuracy: 0.8466 - val_auc: 0.7246\n",
            "Epoch 15/50\n",
            "238/239 [============================>.] - ETA: 0s - loss: 0.3466 - accuracy: 0.9213 - auc: 0.9382\n",
            "Epoch 00015: val_auc did not improve from 0.75975\n",
            "239/239 [==============================] - 15s 61ms/step - loss: 0.3468 - accuracy: 0.9212 - auc: 0.9381 - val_loss: 0.6301 - val_accuracy: 0.8313 - val_auc: 0.7108\n",
            "Epoch 16/50\n",
            "239/239 [==============================] - ETA: 0s - loss: 0.3254 - accuracy: 0.9377 - auc: 0.9611\n",
            "Epoch 00016: val_auc did not improve from 0.75975\n",
            "239/239 [==============================] - 13s 56ms/step - loss: 0.3254 - accuracy: 0.9377 - auc: 0.9611 - val_loss: 0.6948 - val_accuracy: 0.8373 - val_auc: 0.7044\n",
            "Epoch 17/50\n",
            "238/239 [============================>.] - ETA: 0s - loss: 0.3094 - accuracy: 0.9509 - auc: 0.9743\n",
            "Epoch 00017: val_auc did not improve from 0.75975\n",
            "239/239 [==============================] - 14s 58ms/step - loss: 0.3095 - accuracy: 0.9509 - auc: 0.9741 - val_loss: 0.7406 - val_accuracy: 0.8247 - val_auc: 0.6986\n",
            "Epoch 18/50\n",
            "238/239 [============================>.] - ETA: 0s - loss: 0.2954 - accuracy: 0.9605 - auc: 0.9812\n",
            "Epoch 00018: val_auc did not improve from 0.75975\n",
            "239/239 [==============================] - 13s 55ms/step - loss: 0.2952 - accuracy: 0.9606 - auc: 0.9812 - val_loss: 0.7685 - val_accuracy: 0.8386 - val_auc: 0.6930\n",
            "Epoch 19/50\n",
            "238/239 [============================>.] - ETA: 0s - loss: 0.2908 - accuracy: 0.9652 - auc: 0.9843\n",
            "Epoch 00019: val_auc did not improve from 0.75975\n",
            "239/239 [==============================] - 13s 56ms/step - loss: 0.2909 - accuracy: 0.9652 - auc: 0.9843 - val_loss: 0.8112 - val_accuracy: 0.8403 - val_auc: 0.7045\n",
            "Epoch 20/50\n",
            "238/239 [============================>.] - ETA: 0s - loss: 0.2803 - accuracy: 0.9711 - auc: 0.9878\n",
            "Epoch 00020: val_auc did not improve from 0.75975\n",
            "239/239 [==============================] - 14s 59ms/step - loss: 0.2803 - accuracy: 0.9711 - auc: 0.9878 - val_loss: 0.8499 - val_accuracy: 0.8362 - val_auc: 0.7120\n",
            "Epoch 21/50\n",
            "239/239 [==============================] - ETA: 0s - loss: 0.2725 - accuracy: 0.9744 - auc: 0.9897\n",
            "Epoch 00021: val_auc did not improve from 0.75975\n",
            "239/239 [==============================] - 14s 57ms/step - loss: 0.2725 - accuracy: 0.9744 - auc: 0.9897 - val_loss: 0.8364 - val_accuracy: 0.8409 - val_auc: 0.7039\n",
            "Epoch 22/50\n",
            "239/239 [==============================] - ETA: 0s - loss: 0.2638 - accuracy: 0.9773 - auc: 0.9919\n",
            "Epoch 00022: val_auc did not improve from 0.75975\n",
            "239/239 [==============================] - 15s 64ms/step - loss: 0.2638 - accuracy: 0.9773 - auc: 0.9919 - val_loss: 0.8767 - val_accuracy: 0.8401 - val_auc: 0.7064\n",
            "Epoch 23/50\n",
            "239/239 [==============================] - ETA: 0s - loss: 0.2581 - accuracy: 0.9787 - auc: 0.9929\n",
            "Epoch 00023: val_auc did not improve from 0.75975\n",
            "239/239 [==============================] - 14s 60ms/step - loss: 0.2581 - accuracy: 0.9787 - auc: 0.9929 - val_loss: 0.8709 - val_accuracy: 0.8436 - val_auc: 0.7053\n",
            "Epoch 24/50\n",
            "239/239 [==============================] - ETA: 0s - loss: 0.2589 - accuracy: 0.9795 - auc: 0.9927\n",
            "Epoch 00024: val_auc did not improve from 0.75975\n",
            "239/239 [==============================] - 14s 57ms/step - loss: 0.2589 - accuracy: 0.9795 - auc: 0.9927 - val_loss: 0.9075 - val_accuracy: 0.8416 - val_auc: 0.7134\n",
            "Epoch 25/50\n",
            "238/239 [============================>.] - ETA: 0s - loss: 0.2542 - accuracy: 0.9813 - auc: 0.9933\n",
            "Epoch 00025: val_auc did not improve from 0.75975\n",
            "239/239 [==============================] - 15s 63ms/step - loss: 0.2542 - accuracy: 0.9813 - auc: 0.9933 - val_loss: 0.8535 - val_accuracy: 0.8394 - val_auc: 0.6972\n",
            "Epoch 26/50\n",
            "238/239 [============================>.] - ETA: 0s - loss: 0.2572 - accuracy: 0.9801 - auc: 0.9932\n",
            "Epoch 00026: val_auc did not improve from 0.75975\n",
            "239/239 [==============================] - 14s 58ms/step - loss: 0.2573 - accuracy: 0.9801 - auc: 0.9932 - val_loss: 0.8926 - val_accuracy: 0.8380 - val_auc: 0.6999\n",
            "Epoch 27/50\n",
            "239/239 [==============================] - ETA: 0s - loss: 0.2492 - accuracy: 0.9824 - auc: 0.9940\n",
            "Epoch 00027: val_auc did not improve from 0.75975\n",
            "239/239 [==============================] - 13s 55ms/step - loss: 0.2492 - accuracy: 0.9824 - auc: 0.9940 - val_loss: 0.8989 - val_accuracy: 0.8401 - val_auc: 0.7051\n",
            "Epoch 28/50\n",
            "239/239 [==============================] - ETA: 0s - loss: 0.2524 - accuracy: 0.9818 - auc: 0.9940\n",
            "Epoch 00028: val_auc did not improve from 0.75975\n",
            "239/239 [==============================] - 14s 58ms/step - loss: 0.2524 - accuracy: 0.9818 - auc: 0.9940 - val_loss: 0.9520 - val_accuracy: 0.8389 - val_auc: 0.7113\n",
            "Epoch 29/50\n",
            "238/239 [============================>.] - ETA: 0s - loss: 0.2457 - accuracy: 0.9833 - auc: 0.9948\n",
            "Epoch 00029: val_auc did not improve from 0.75975\n",
            "239/239 [==============================] - 13s 55ms/step - loss: 0.2458 - accuracy: 0.9832 - auc: 0.9947 - val_loss: 0.9290 - val_accuracy: 0.8377 - val_auc: 0.7027\n",
            "Epoch 30/50\n",
            "239/239 [==============================] - ETA: 0s - loss: 0.2459 - accuracy: 0.9828 - auc: 0.9947\n",
            "Epoch 00030: val_auc did not improve from 0.75975\n",
            "239/239 [==============================] - 13s 56ms/step - loss: 0.2459 - accuracy: 0.9828 - auc: 0.9947 - val_loss: 0.9265 - val_accuracy: 0.8452 - val_auc: 0.7003\n",
            "Epoch 31/50\n",
            "239/239 [==============================] - ETA: 0s - loss: 0.2451 - accuracy: 0.9834 - auc: 0.9947\n",
            "Epoch 00031: val_auc did not improve from 0.75975\n",
            "239/239 [==============================] - 15s 61ms/step - loss: 0.2451 - accuracy: 0.9834 - auc: 0.9947 - val_loss: 0.8845 - val_accuracy: 0.8407 - val_auc: 0.7020\n",
            "Epoch 32/50\n",
            "239/239 [==============================] - ETA: 0s - loss: 0.2420 - accuracy: 0.9845 - auc: 0.9949\n",
            "Epoch 00032: val_auc did not improve from 0.75975\n",
            "239/239 [==============================] - 13s 54ms/step - loss: 0.2420 - accuracy: 0.9845 - auc: 0.9949 - val_loss: 0.9204 - val_accuracy: 0.8398 - val_auc: 0.7038\n",
            "Epoch 33/50\n",
            "239/239 [==============================] - ETA: 0s - loss: 0.2424 - accuracy: 0.9835 - auc: 0.9950\n",
            "Epoch 00033: val_auc did not improve from 0.75975\n",
            "239/239 [==============================] - 14s 57ms/step - loss: 0.2424 - accuracy: 0.9835 - auc: 0.9950 - val_loss: 0.9439 - val_accuracy: 0.8405 - val_auc: 0.7066\n",
            "Epoch 34/50\n",
            "238/239 [============================>.] - ETA: 0s - loss: 0.2382 - accuracy: 0.9847 - auc: 0.9952\n",
            "Epoch 00034: val_auc did not improve from 0.75975\n",
            "239/239 [==============================] - 14s 57ms/step - loss: 0.2383 - accuracy: 0.9847 - auc: 0.9952 - val_loss: 0.9071 - val_accuracy: 0.8370 - val_auc: 0.7133\n",
            "Epoch 35/50\n",
            "238/239 [============================>.] - ETA: 0s - loss: 0.2404 - accuracy: 0.9840 - auc: 0.9948\n",
            "Epoch 00035: val_auc did not improve from 0.75975\n",
            "239/239 [==============================] - 13s 54ms/step - loss: 0.2405 - accuracy: 0.9840 - auc: 0.9947 - val_loss: 0.9385 - val_accuracy: 0.8431 - val_auc: 0.7031\n",
            "Epoch 36/50\n",
            "239/239 [==============================] - ETA: 0s - loss: 0.2377 - accuracy: 0.9844 - auc: 0.9954\n",
            "Epoch 00036: val_auc did not improve from 0.75975\n",
            "239/239 [==============================] - 13s 54ms/step - loss: 0.2377 - accuracy: 0.9844 - auc: 0.9954 - val_loss: 0.9454 - val_accuracy: 0.8440 - val_auc: 0.7029\n",
            "Epoch 37/50\n",
            "239/239 [==============================] - ETA: 0s - loss: 0.2369 - accuracy: 0.9846 - auc: 0.9955\n",
            "Epoch 00037: val_auc did not improve from 0.75975\n",
            "239/239 [==============================] - 13s 54ms/step - loss: 0.2369 - accuracy: 0.9846 - auc: 0.9955 - val_loss: 0.9783 - val_accuracy: 0.8443 - val_auc: 0.7078\n",
            "Epoch 38/50\n",
            "239/239 [==============================] - ETA: 0s - loss: 0.2373 - accuracy: 0.9851 - auc: 0.9957\n",
            "Epoch 00038: val_auc did not improve from 0.75975\n",
            "239/239 [==============================] - 13s 54ms/step - loss: 0.2373 - accuracy: 0.9851 - auc: 0.9957 - val_loss: 0.9162 - val_accuracy: 0.8350 - val_auc: 0.7014\n",
            "Epoch 39/50\n",
            "239/239 [==============================] - ETA: 0s - loss: 0.2408 - accuracy: 0.9846 - auc: 0.9956\n",
            "Epoch 00039: val_auc did not improve from 0.75975\n",
            "239/239 [==============================] - 13s 56ms/step - loss: 0.2408 - accuracy: 0.9846 - auc: 0.9956 - val_loss: 0.9269 - val_accuracy: 0.8368 - val_auc: 0.7060\n",
            "Epoch 40/50\n",
            "238/239 [============================>.] - ETA: 0s - loss: 0.2394 - accuracy: 0.9849 - auc: 0.9958\n",
            "Epoch 00040: val_auc did not improve from 0.75975\n",
            "239/239 [==============================] - 13s 55ms/step - loss: 0.2395 - accuracy: 0.9849 - auc: 0.9958 - val_loss: 0.9743 - val_accuracy: 0.8432 - val_auc: 0.7026\n",
            "Epoch 41/50\n",
            "238/239 [============================>.] - ETA: 0s - loss: 0.2383 - accuracy: 0.9855 - auc: 0.9956\n",
            "Epoch 00041: val_auc did not improve from 0.75975\n",
            "239/239 [==============================] - 13s 54ms/step - loss: 0.2384 - accuracy: 0.9855 - auc: 0.9956 - val_loss: 0.9561 - val_accuracy: 0.8370 - val_auc: 0.7060\n",
            "Epoch 42/50\n",
            "238/239 [============================>.] - ETA: 0s - loss: 0.2365 - accuracy: 0.9850 - auc: 0.9958\n",
            "Epoch 00042: val_auc did not improve from 0.75975\n",
            "239/239 [==============================] - 13s 55ms/step - loss: 0.2365 - accuracy: 0.9850 - auc: 0.9958 - val_loss: 0.9474 - val_accuracy: 0.8416 - val_auc: 0.7000\n",
            "Epoch 43/50\n",
            "239/239 [==============================] - ETA: 0s - loss: 0.2348 - accuracy: 0.9863 - auc: 0.9956\n",
            "Epoch 00043: val_auc did not improve from 0.75975\n",
            "239/239 [==============================] - 13s 54ms/step - loss: 0.2348 - accuracy: 0.9863 - auc: 0.9956 - val_loss: 0.9339 - val_accuracy: 0.8436 - val_auc: 0.7015\n",
            "Epoch 44/50\n",
            "238/239 [============================>.] - ETA: 0s - loss: 0.2329 - accuracy: 0.9859 - auc: 0.9954\n",
            "Epoch 00044: val_auc did not improve from 0.75975\n",
            "239/239 [==============================] - 13s 55ms/step - loss: 0.2330 - accuracy: 0.9859 - auc: 0.9954 - val_loss: 0.9043 - val_accuracy: 0.8455 - val_auc: 0.6971\n",
            "Epoch 45/50\n",
            "239/239 [==============================] - ETA: 0s - loss: 0.2313 - accuracy: 0.9867 - auc: 0.9960\n",
            "Epoch 00045: val_auc did not improve from 0.75975\n",
            "239/239 [==============================] - 13s 54ms/step - loss: 0.2313 - accuracy: 0.9867 - auc: 0.9960 - val_loss: 0.9343 - val_accuracy: 0.8409 - val_auc: 0.7091\n",
            "Epoch 46/50\n",
            "238/239 [============================>.] - ETA: 0s - loss: 0.2348 - accuracy: 0.9862 - auc: 0.9955\n",
            "Epoch 00046: val_auc did not improve from 0.75975\n",
            "239/239 [==============================] - 13s 53ms/step - loss: 0.2350 - accuracy: 0.9861 - auc: 0.9955 - val_loss: 0.9360 - val_accuracy: 0.8402 - val_auc: 0.7076\n",
            "Epoch 47/50\n",
            "238/239 [============================>.] - ETA: 0s - loss: 0.2292 - accuracy: 0.9872 - auc: 0.9956\n",
            "Epoch 00047: val_auc did not improve from 0.75975\n",
            "239/239 [==============================] - 13s 54ms/step - loss: 0.2292 - accuracy: 0.9872 - auc: 0.9956 - val_loss: 0.8949 - val_accuracy: 0.8403 - val_auc: 0.7008\n",
            "Epoch 48/50\n",
            "239/239 [==============================] - ETA: 0s - loss: 0.2334 - accuracy: 0.9862 - auc: 0.9953\n",
            "Epoch 00048: val_auc did not improve from 0.75975\n",
            "239/239 [==============================] - 13s 54ms/step - loss: 0.2334 - accuracy: 0.9862 - auc: 0.9953 - val_loss: 0.9888 - val_accuracy: 0.8447 - val_auc: 0.7042\n",
            "Epoch 49/50\n",
            "238/239 [============================>.] - ETA: 0s - loss: 0.2302 - accuracy: 0.9864 - auc: 0.9962\n",
            "Epoch 00049: val_auc did not improve from 0.75975\n",
            "239/239 [==============================] - 13s 55ms/step - loss: 0.2302 - accuracy: 0.9863 - auc: 0.9962 - val_loss: 0.9803 - val_accuracy: 0.8354 - val_auc: 0.6959\n",
            "Epoch 50/50\n",
            "239/239 [==============================] - ETA: 0s - loss: 0.2318 - accuracy: 0.9870 - auc: 0.9959\n",
            "Epoch 00050: val_auc did not improve from 0.75975\n",
            "239/239 [==============================] - 13s 55ms/step - loss: 0.2318 - accuracy: 0.9870 - auc: 0.9959 - val_loss: 0.9617 - val_accuracy: 0.8436 - val_auc: 0.6991\n"
          ]
        },
        {
          "output_type": "execute_result",
          "data": {
            "text/plain": [
              "<keras.callbacks.History at 0x7f6fd0097d90>"
            ]
          },
          "metadata": {},
          "execution_count": 30
        }
      ]
    },
    {
      "cell_type": "markdown",
      "source": [
        "# **We have got the auc score 99.59 % and accuracy 98.70**"
      ],
      "metadata": {
        "id": "fvELe_PYO17B"
      }
    },
    {
      "cell_type": "code",
      "source": [
        "#input 1\n",
        "input1 = Input(shape=(250,))\n",
        "x1 = Embedding(input_dim=44899,output_dim= 300,weights=[embedding_mat(feature_names[5])],trainable=False)(input1)\n",
        "x1 = SpatialDropout1D(0.3)(x1)\n",
        "x1 = LSTM(128,return_sequences=True)(x1)\n",
        "x1 = Flatten()(x1)\n",
        "\n",
        "#input 2\n",
        "input2 = Input(shape=(1,))\n",
        "x2 = Embedding(input_dim= 52,output_dim= 2)(input2)\n",
        "x2 = Flatten()(x2)\n",
        "\n",
        "#input 3\n",
        "input3 = Input(shape=(1,))\n",
        "x3 = Embedding(input_dim= 5,output_dim= 2)(input3)\n",
        "x3 = Flatten()(x3)\n",
        "\n",
        "#input 4\n",
        "input4 = Input(shape=(1,))\n",
        "x4 = Embedding(input_dim=50,output_dim= 2)(input4)\n",
        "x4 = Flatten()(x4)\n",
        "\n",
        "#input 5\n",
        "input5 = Input(shape=(1,))\n",
        "x5 = Embedding(input_dim= 385,output_dim= 50)(input5)\n",
        "x5 = Flatten()(x5)\n",
        "\n",
        "#input 6\n",
        "input6 = Input(shape=(1,))\n",
        "x6 = Embedding(input_dim= 6,output_dim= 5)(input6)\n",
        "x6 = Flatten()(x6)\n",
        "\n",
        "#input 7\n",
        "input7 = Input(shape=(1,))\n",
        "x7 = Dense(16,activation='sigmoid',kernel_initializer=he_normal(),kernel_regularizer=l2(0.0001))(input7)\n",
        "# now will merge all the input layer using concatenate function \n",
        "concated_layer = concatenate([x1,x2,x3,x4,x5,x6,x7])\n",
        "#x = BatchNormalization()(concat)\n",
        "\n",
        "x = Dense(128,activation='relu',kernel_initializer=he_normal(),kernel_regularizer=l2(0.0001))(concated_layer)\n",
        "x = Dropout(0.3)(x)\n",
        "x = Dense(64,activation='relu',kernel_initializer=he_normal(),kernel_regularizer=l2(0.0001))(x)\n",
        "x = Dropout(0.3)(x)\n",
        "x = BatchNormalization()(x)\n",
        "x = Dense(32,activation='relu',kernel_initializer=he_normal(),kernel_regularizer=l2(0.0001))(x)\n",
        "x = Dropout(0.3)(x)\n",
        "output = Dense(2, activation = 'softmax')(x)\n",
        " \n",
        "# created the model with all inputs \n",
        "model = Model([input1,input2,input3,input4,input5,input6,input7], output)\n",
        "tensorboard = TensorBoard(log_dir='logs/{}'.format(time()))\n",
        "model.compile(loss='categorical_crossentropy', optimizer=keras.optimizers.Adam(lr=0.0006),metrics=['accuracy' ,auc])\n",
        "model.load_weights(\"weights_2.best.hdf5\")\n"
      ],
      "metadata": {
        "id": "DqFXTVbIrulO"
      },
      "execution_count": 31,
      "outputs": []
    },
    {
      "cell_type": "code",
      "source": [
        "print(\"Auc for test data: %0.3f\"%roc_auc_score(y_test,model.predict([X_test,X_test_school_state,X_test_project_grade,X_test_clean_categories,X_test_clean_subcategories,\n",
        "           X_test_teacher_prefix,test['price']])))\n",
        "print(\"Auc for CV data: %0.3f\"%roc_auc_score(y_cv,model.predict([X_cv,X_cv_school_state,X_cv_project_grade,X_cv_clean_categories,X_cv_clean_subcategories,\n",
        "           X_cv_teacher_prefix,cv['price']])))\n",
        "print(\"Auc for train data: %0.3f\"%roc_auc_score(y_train,model.predict([X_train,X_train_school_state,X_train_project_grade,X_train_clean_categories,X_train_clean_subcategories,\n",
        "           X_train_teacher_prefix,train['price']])))"
      ],
      "metadata": {
        "colab": {
          "base_uri": "https://localhost:8080/",
          "height": 0
        },
        "id": "mhTtdY6Gr6bX",
        "outputId": "73eb3f32-0ee3-4677-f486-981542d38466"
      },
      "execution_count": 32,
      "outputs": [
        {
          "output_type": "stream",
          "name": "stdout",
          "text": [
            "1025/1025 [==============================] - 8s 7ms/step\n",
            "Auc for test data: 0.752\n",
            "478/478 [==============================] - 3s 6ms/step\n",
            "Auc for CV data: 0.760\n",
            "1912/1912 [==============================] - 12s 6ms/step\n",
            "Auc for train data: 0.796\n"
          ]
        }
      ]
    },
    {
      "cell_type": "code",
      "source": [
        "from tensorflow.keras.utils import plot_model\n"
      ],
      "metadata": {
        "id": "lpwpAC5fauiK"
      },
      "execution_count": 33,
      "outputs": []
    },
    {
      "cell_type": "code",
      "source": [
        "plot_model(model, to_file='model.png', show_shapes=True)\n"
      ],
      "metadata": {
        "id": "95-psdx2yTqL",
        "colab": {
          "base_uri": "https://localhost:8080/",
          "height": 921
        },
        "outputId": "b3cb6337-e8f8-4fee-ac9f-7bbb48f02b78"
      },
      "execution_count": 34,
      "outputs": [
        {
          "output_type": "execute_result",
          "data": {
            "image/png": "[encoded data removed]",
            "text/plain": [
              "<IPython.core.display.Image object>"
            ]
          },
          "metadata": {},
          "execution_count": 34
        }
      ]
    },
    {
      "cell_type": "code",
      "source": [],
      "metadata": {
        "id": "2gQeuWsiyTs7"
      },
      "execution_count": null,
      "outputs": []
    },
    {
      "cell_type": "code",
      "source": [],
      "metadata": {
        "id": "pvmk3hWbyTv3"
      },
      "execution_count": null,
      "outputs": []
    },
    {
      "cell_type": "code",
      "source": [],
      "metadata": {
        "id": "wLw3tZVHyTy4"
      },
      "execution_count": null,
      "outputs": []
    },
    {
      "cell_type": "code",
      "source": [],
      "metadata": {
        "id": "1VN9HFPLauly"
      },
      "execution_count": null,
      "outputs": []
    },
    {
      "cell_type": "markdown",
      "source": [
        "# <font color='red'> Model-2 </font>"
      ],
      "metadata": {
        "id": "s4ytSrtZyosl"
      }
    },
    {
      "cell_type": "markdown",
      "source": [
        "#Use the same model as above but for 'input_seq_total_text_data' give only some words in the sentance not all the words. Filter the words as below. "
      ],
      "metadata": {
        "id": "62jP6TzTy6c4"
      }
    },
    {
      "cell_type": "markdown",
      "source": [
        "<pre>\n",
        "1. Fit TF-IDF vectorizer on the Train data <br>\n",
        "2. Get the idf value for each word we have in the train data. Please go through <a  href='https://stackoverflow.com/questions/23792781/tf-idf-feature-weights-using-sklearn-feature-extraction-text-tfidfvectorizer'>this</a><br>\n",
        "\n",
        "3. Do some analysis on the Idf values and based on those values choose the low and high threshold value. Because very \n",
        "frequent words and very very rare words don't give much information.\n",
        "Hint - A preferable IDF range is 2-11 for model 2. <br>\n",
        "4.Remove the low idf value and high idf value words from the train and test data. You can go through each of the\n",
        "sentence of train and test data and include only those features(words) which are present in the defined IDF range.\n",
        "5. Perform tokenization on the modified text data same as you have done for previous model.\n",
        "6. Create embedding matrix for model 2 and then use the rest of the features similar to previous model.\n",
        "7. Define the model, compile and fit the model.\n",
        "</pre>"
      ],
      "metadata": {
        "id": "GaMFaVTqyoxP"
      }
    },
    {
      "cell_type": "code",
      "source": [
        "class_label = project_data['project_is_approved']\n"
      ],
      "metadata": {
        "id": "fbsuVzxC7-PF"
      },
      "execution_count": 7,
      "outputs": []
    },
    {
      "cell_type": "code",
      "source": [
        "#train test split\n",
        "train,test,y_train,y_test = train_test_split(project_data, class_label , stratify = class_label, train_size = 0.7)\n"
      ],
      "metadata": {
        "id": "s-ke5H89zMiK"
      },
      "execution_count": 8,
      "outputs": []
    },
    {
      "cell_type": "code",
      "source": [
        "train,cv,y_train,y_cv = train_test_split(train,y_train,stratify = y_train,train_size = 0.8)\n"
      ],
      "metadata": {
        "id": "by8peeJXzMlK"
      },
      "execution_count": 9,
      "outputs": []
    },
    {
      "cell_type": "code",
      "source": [
        "print(\"Shape of the Train dataset: \", train.shape[0])\n",
        "print(\"Shape of the Test dataset: \", test.shape[0])\n",
        "print(\"Shape of the CV Dataset:\", cv.shape[0])"
      ],
      "metadata": {
        "colab": {
          "base_uri": "https://localhost:8080/",
          "height": 0
        },
        "id": "AecWMXBszMo9",
        "outputId": "647cc1de-104f-46b2-eb70-b90b81408421"
      },
      "execution_count": 10,
      "outputs": [
        {
          "output_type": "stream",
          "name": "stdout",
          "text": [
            "Shape of the Train dataset:  61178\n",
            "Shape of the Test dataset:  32775\n",
            "Shape of the CV Dataset: 15295\n"
          ]
        }
      ]
    },
    {
      "cell_type": "code",
      "source": [
        "# refer : https://stackoverflow.com/questions/67018079/error-in-from-keras-utils-import-to-categorical\n",
        "\n",
        "from keras.utils import to_categorical\n",
        "y_train = to_categorical(y_train)\n",
        "y_test = to_categorical(y_test)\n",
        "y_cv = to_categorical(y_cv)"
      ],
      "metadata": {
        "id": "kwP07Pb5zUpa"
      },
      "execution_count": 11,
      "outputs": []
    },
    {
      "cell_type": "code",
      "source": [
        "# now we are creating rows and columns as 50 dimensional vector \n",
        "\n",
        "def embedding_mat(word_index,embedding_dim = 300):\n",
        "    embedding_matrix = np.zeros((len(word_index) + 1, embedding_dim))\n",
        "    for word, i in word_index.items():\n",
        "        embedding_vector =dumb.get(word)\n",
        "        if embedding_vector is not None:\n",
        "        # words not found in embedding index will be all-zeros.\n",
        "            embedding_matrix[i] = embedding_vector\n",
        "    return embedding_matrix"
      ],
      "metadata": {
        "id": "2YxDBnc5C8XG"
      },
      "execution_count": 12,
      "outputs": []
    },
    {
      "cell_type": "code",
      "source": [
        "\n",
        "# Convert the data in the 'total_txt' column to a list of strings\n",
        "#tfidf vectorization of text data\n",
        "\n",
        "tfidf = TfidfVectorizer()\n",
        "data_text = tfidf.fit_transform(train['essay'])\n",
        "plt.boxplot(tfidf.idf_)\n",
        "plt.ylabel(\"IDF score\")"
      ],
      "metadata": {
        "id": "8DCLsBOrC8am",
        "colab": {
          "base_uri": "https://localhost:8080/",
          "height": 282
        },
        "outputId": "ab43dd9d-2579-4787-940e-8d8dc2d0b2b8"
      },
      "execution_count": 13,
      "outputs": [
        {
          "output_type": "execute_result",
          "data": {
            "text/plain": [
              "Text(0, 0.5, 'IDF score')"
            ]
          },
          "metadata": {},
          "execution_count": 13
        },
        {
          "output_type": "display_data",
          "data": {
            "text/plain": [
              "<Figure size 432x288 with 1 Axes>"
            ],
            "image/png": "[encoded data removed]"
          },
          "metadata": {
            "needs_background": "light"
          }
        }
      ]
    },
    {
      "cell_type": "code",
      "source": [
        "print(\"The 25 percentile of idf score is :\", np.percentile(tfidf.idf_,[25]))\n",
        "print(\"The 75 percentile of idf score is :\",np.percentile(tfidf.idf_,[75]))"
      ],
      "metadata": {
        "id": "8yWM3XX4C8d1",
        "colab": {
          "base_uri": "https://localhost:8080/",
          "height": 0
        },
        "outputId": "9e3a48fc-7a7a-4706-d603-fa2984263607"
      },
      "execution_count": 14,
      "outputs": [
        {
          "output_type": "stream",
          "name": "stdout",
          "text": [
            "The 25 percentile of idf score is : [9.31350907]\n",
            "The 75 percentile of idf score is : [11.32841209]\n"
          ]
        }
      ]
    },
    {
      "cell_type": "code",
      "source": [
        "feature_idf = zip(tfidf.get_feature_names(),tfidf.idf_)\n",
        "\n",
        "feature_name = []\n",
        "for x,y in feature_idf:\n",
        "    \n",
        "    if y >=9.31350907 and 11.32841209 :\n",
        "        feature_name.append(x)\n",
        "    else:\n",
        "        pass"
      ],
      "metadata": {
        "id": "PTZVJaVHC8go"
      },
      "execution_count": 15,
      "outputs": []
    },
    {
      "cell_type": "code",
      "source": [
        "def few_text(df, feature_name):\n",
        "    processed_text = []\n",
        "    feature_set = set(feature_name)\n",
        "    for text in df:\n",
        "        sent = \" \".join([word for word in text.split() if word in feature_set])\n",
        "        processed_text.append(sent)\n",
        "    return processed_text\n",
        "\n",
        "train['processed_essay'] = few_text(train['essay'], feature_name)\n",
        "test['processed_essay'] = few_text(test['essay'], feature_name)\n",
        "cv['processed_essay'] = few_text(cv['essay'], feature_name)\n",
        "\n",
        "\n",
        "# now we are converting all the data to cs files \n",
        "train.to_csv(\"model-train.csv\", index=False)\n",
        "test.to_csv(\"model-test.csv\", index=False)\n",
        "cv.to_csv(\"model-cv.csv\", index=False)\n"
      ],
      "metadata": {
        "id": "6uNGSNw1C8iu"
      },
      "execution_count": 16,
      "outputs": []
    },
    {
      "cell_type": "code",
      "source": [
        "train['essay'] =  train['essay'] \n",
        "test['essay'] = test['essay'] \n",
        "cv['essay'] = cv['essay'] "
      ],
      "metadata": {
        "id": "XcZPDQy5C8oC"
      },
      "execution_count": 17,
      "outputs": []
    },
    {
      "cell_type": "code",
      "source": [
        "y_train = train['project_is_approved']\n",
        "y_test = test['project_is_approved']\n",
        "y_cv = cv['project_is_approved']\n",
        "\n",
        "# converting the class labels to one hot encoding for keras model evaluation\n",
        "from keras.utils import to_categorical\n",
        "y_train = to_categorical(y_train)\n",
        "y_test = to_categorical(y_test)\n",
        "y_cv = to_categorical(y_cv)"
      ],
      "metadata": {
        "id": "nx5hqu-zC8rk"
      },
      "execution_count": 18,
      "outputs": []
    },
    {
      "cell_type": "code",
      "source": [
        "train.head(2)"
      ],
      "metadata": {
        "colab": {
          "base_uri": "https://localhost:8080/",
          "height": 297
        },
        "id": "58M7Qown7I5m",
        "outputId": "0fec3d07-a464-4050-a6ac-1c0560504d41"
      },
      "execution_count": 19,
      "outputs": [
        {
          "output_type": "execute_result",
          "data": {
            "text/plain": [
              "       school_state teacher_prefix project_grade_category  \\\n",
              "103461           pa            mrs             grades_3_5   \n",
              "76709            ok            mrs             grades_3_5   \n",
              "\n",
              "        teacher_number_of_previously_posted_projects  project_is_approved  \\\n",
              "103461                                           100                    1   \n",
              "76709                                              9                    1   \n",
              "\n",
              "                      clean_categories             clean_subcategories  \\\n",
              "103461                  history_civics               financialliteracy   \n",
              "76709   literacy_language math_science  literature_writing mathematics   \n",
              "\n",
              "                                                    essay   price  \\\n",
              "103461  when comes money many things life understandin...  132.20   \n",
              "76709   students 3rd grade classroom live rural commun...    9.09   \n",
              "\n",
              "                     processed_essay  \n",
              "103461  tagene mcbean algeria sunday  \n",
              "76709                                 "
            ],
            "text/html": [
              "\n",
              "  <div id=\"df-a3344aa2-91d9-4438-8837-535921438984\">\n",
              "    <div class=\"colab-df-container\">\n",
              "      <div>\n",
              "<style scoped>\n",
              "    .dataframe tbody tr th:only-of-type {\n",
              "        vertical-align: middle;\n",
              "    }\n",
              "\n",
              "    .dataframe tbody tr th {\n",
              "        vertical-align: top;\n",
              "    }\n",
              "\n",
              "    .dataframe thead th {\n",
              "        text-align: right;\n",
              "    }\n",
              "</style>\n",
              "<table border=\"1\" class=\"dataframe\">\n",
              "  <thead>\n",
              "    <tr style=\"text-align: right;\">\n",
              "      <th></th>\n",
              "      <th>school_state</th>\n",
              "      <th>teacher_prefix</th>\n",
              "      <th>project_grade_category</th>\n",
              "      <th>teacher_number_of_previously_posted_projects</th>\n",
              "      <th>project_is_approved</th>\n",
              "      <th>clean_categories</th>\n",
              "      <th>clean_subcategories</th>\n",
              "      <th>essay</th>\n",
              "      <th>price</th>\n",
              "      <th>processed_essay</th>\n",
              "    </tr>\n",
              "  </thead>\n",
              "  <tbody>\n",
              "    <tr>\n",
              "      <th>103461</th>\n",
              "      <td>pa</td>\n",
              "      <td>mrs</td>\n",
              "      <td>grades_3_5</td>\n",
              "      <td>100</td>\n",
              "      <td>1</td>\n",
              "      <td>history_civics</td>\n",
              "      <td>financialliteracy</td>\n",
              "      <td>when comes money many things life understandin...</td>\n",
              "      <td>132.20</td>\n",
              "      <td>tagene mcbean algeria sunday</td>\n",
              "    </tr>\n",
              "    <tr>\n",
              "      <th>76709</th>\n",
              "      <td>ok</td>\n",
              "      <td>mrs</td>\n",
              "      <td>grades_3_5</td>\n",
              "      <td>9</td>\n",
              "      <td>1</td>\n",
              "      <td>literacy_language math_science</td>\n",
              "      <td>literature_writing mathematics</td>\n",
              "      <td>students 3rd grade classroom live rural commun...</td>\n",
              "      <td>9.09</td>\n",
              "      <td></td>\n",
              "    </tr>\n",
              "  </tbody>\n",
              "</table>\n",
              "</div>\n",
              "      <button class=\"colab-df-convert\" onclick=\"convertToInteractive('df-a3344aa2-91d9-4438-8837-535921438984')\"\n",
              "              title=\"Convert this dataframe to an interactive table.\"\n",
              "              style=\"display:none;\">\n",
              "        \n",
              "  <svg xmlns=\"http://www.w3.org/2000/svg\" height=\"24px\"viewBox=\"0 0 24 24\"\n",
              "       width=\"24px\">\n",
              "    <path d=\"M0 0h24v24H0V0z\" fill=\"none\"/>\n",
              "    <path d=\"M18.56 5.44l.94 2.06.94-2.06 2.06-.94-2.06-.94-.94-2.06-.94 2.06-2.06.94zm-11 1L8.5 8.5l.94-2.06 2.06-.94-2.06-.94L8.5 2.5l-.94 2.06-2.06.94zm10 10l.94 2.06.94-2.06 2.06-.94-2.06-.94-.94-2.06-.94 2.06-2.06.94z\"/><path d=\"M17.41 7.96l-1.37-1.37c-.4-.4-.92-.59-1.43-.59-.52 0-1.04.2-1.43.59L10.3 9.45l-7.72 7.72c-.78.78-.78 2.05 0 2.83L4 21.41c.39.39.9.59 1.41.59.51 0 1.02-.2 1.41-.59l7.78-7.78 2.81-2.81c.8-.78.8-2.07 0-2.86zM5.41 20L4 18.59l7.72-7.72 1.47 1.35L5.41 20z\"/>\n",
              "  </svg>\n",
              "      </button>\n",
              "      \n",
              "  <style>\n",
              "    .colab-df-container {\n",
              "      display:flex;\n",
              "      flex-wrap:wrap;\n",
              "      gap: 12px;\n",
              "    }\n",
              "\n",
              "    .colab-df-convert {\n",
              "      background-color: #E8F0FE;\n",
              "      border: none;\n",
              "      border-radius: 50%;\n",
              "      cursor: pointer;\n",
              "      display: none;\n",
              "      fill: #1967D2;\n",
              "      height: 32px;\n",
              "      padding: 0 0 0 0;\n",
              "      width: 32px;\n",
              "    }\n",
              "\n",
              "    .colab-df-convert:hover {\n",
              "      background-color: #E2EBFA;\n",
              "      box-shadow: 0px 1px 2px rgba(60, 64, 67, 0.3), 0px 1px 3px 1px rgba(60, 64, 67, 0.15);\n",
              "      fill: #174EA6;\n",
              "    }\n",
              "\n",
              "    [theme=dark] .colab-df-convert {\n",
              "      background-color: #3B4455;\n",
              "      fill: #D2E3FC;\n",
              "    }\n",
              "\n",
              "    [theme=dark] .colab-df-convert:hover {\n",
              "      background-color: #434B5C;\n",
              "      box-shadow: 0px 1px 3px 1px rgba(0, 0, 0, 0.15);\n",
              "      filter: drop-shadow(0px 1px 2px rgba(0, 0, 0, 0.3));\n",
              "      fill: #FFFFFF;\n",
              "    }\n",
              "  </style>\n",
              "\n",
              "      <script>\n",
              "        const buttonEl =\n",
              "          document.querySelector('#df-a3344aa2-91d9-4438-8837-535921438984 button.colab-df-convert');\n",
              "        buttonEl.style.display =\n",
              "          google.colab.kernel.accessAllowed ? 'block' : 'none';\n",
              "\n",
              "        async function convertToInteractive(key) {\n",
              "          const element = document.querySelector('#df-a3344aa2-91d9-4438-8837-535921438984');\n",
              "          const dataTable =\n",
              "            await google.colab.kernel.invokeFunction('convertToInteractive',\n",
              "                                                     [key], {});\n",
              "          if (!dataTable) return;\n",
              "\n",
              "          const docLinkHtml = 'Like what you see? Visit the ' +\n",
              "            '<a target=\"_blank\" href=https://colab.research.google.com/notebooks/data_table.ipynb>data table notebook</a>'\n",
              "            + ' to learn more about interactive tables.';\n",
              "          element.innerHTML = '';\n",
              "          dataTable['output_type'] = 'display_data';\n",
              "          await google.colab.output.renderOutput(dataTable, element);\n",
              "          const docLink = document.createElement('div');\n",
              "          docLink.innerHTML = docLinkHtml;\n",
              "          element.appendChild(docLink);\n",
              "        }\n",
              "      </script>\n",
              "    </div>\n",
              "  </div>\n",
              "  "
            ]
          },
          "metadata": {},
          "execution_count": 19
        }
      ]
    },
    {
      "cell_type": "code",
      "source": [
        "def word_ranking(train, test, cv):\n",
        "    col_names = train.columns\n",
        "    features = []\n",
        "    \n",
        "    for col in col_names[:6]:\n",
        "        print(col)\n",
        "        bag_of_words = CountVectorizer(lowercase=False)\n",
        "        bow_words = bag_of_words.fit_transform(train[col])\n",
        "        print(bow_words.shape)\n",
        "        \n",
        "        # Rank the words by frequency of occurrence\n",
        "        word_freqs = dict(zip(bag_of_words.get_feature_names(), bow_words.sum(axis=0).A1))\n",
        "        sorted_words = sorted(word_freqs, key=word_freqs.get, reverse=True)\n",
        "        word_rank = dict(zip(sorted_words, range(1, len(sorted_words) + 1)))\n",
        "        features.append(word_rank)\n",
        "        \n",
        "        # Replace words with their rank\n",
        "        train[col] = [[word_rank[word] for word in sent.split() if word in word_rank] for sent in train[col].values]\n",
        "        test[col] = [[word_rank[word] for word in sent.split() if word in word_rank] for sent in test[col].values]\n",
        "        cv[col] = [[word_rank[word] for word in sent.split() if word in word_rank] for sent in cv[col].values]\n",
        "    \n",
        "    return train, test, cv, features\n",
        "            "
      ],
      "metadata": {
        "id": "xqeZkng6CSCt"
      },
      "execution_count": 20,
      "outputs": []
    },
    {
      "cell_type": "code",
      "source": [
        "col = ['teacher_prefix', 'school_state', 'project_grade_category',\n",
        "       'clean_categories', 'clean_subcategories','essay',\n",
        "       'price']\n",
        "train = train[col]\n",
        "test = test[col]\n",
        "test = test[col]"
      ],
      "metadata": {
        "id": "M15w4SzlJMZs"
      },
      "execution_count": 21,
      "outputs": []
    },
    {
      "cell_type": "markdown",
      "source": [
        "# **replacing nan value**"
      ],
      "metadata": {
        "id": "KbahKzpePRMJ"
      }
    },
    {
      "cell_type": "code",
      "source": [
        "train.replace(to_replace=np.NaN, value= str('nan'),inplace=True)\n",
        "test.replace(to_replace=np.NaN, value= str('nan'),inplace=True)\n",
        "cv.replace(to_replace=np.NaN, value= str('nan'),inplace=True)"
      ],
      "metadata": {
        "id": "TCAUq5e_JMcw"
      },
      "execution_count": 22,
      "outputs": []
    },
    {
      "cell_type": "code",
      "source": [
        "train,test,cv,feature_names =  word_ranking(train,test,cv)\n"
      ],
      "metadata": {
        "id": "d1jPZmECJMfz",
        "colab": {
          "base_uri": "https://localhost:8080/",
          "height": 0
        },
        "outputId": "c5d4f7a2-66a8-4b87-b554-cc9c6c3179c9"
      },
      "execution_count": 23,
      "outputs": [
        {
          "output_type": "stream",
          "name": "stdout",
          "text": [
            "teacher_prefix\n",
            "(61178, 5)\n",
            "school_state\n",
            "(61178, 51)\n",
            "project_grade_category\n",
            "(61178, 4)\n",
            "clean_categories\n",
            "(61178, 9)\n",
            "clean_subcategories\n",
            "(61178, 30)\n",
            "essay\n",
            "(61178, 45000)\n"
          ]
        }
      ]
    },
    {
      "cell_type": "markdown",
      "source": [
        "#Tokenizing the Test part\n"
      ],
      "metadata": {
        "id": "9Te9AvgNJ273"
      }
    },
    {
      "cell_type": "code",
      "source": [
        "max_review_length = 250\n",
        "X_train = pad_sequences(train['essay'], maxlen=max_review_length)  #padding zeros at the begining of each review to make max len as 200\n",
        "X_test = pad_sequences(test['essay'], maxlen=max_review_length)\n",
        "X_cv = pad_sequences(cv['essay'], maxlen=max_review_length)\n",
        "print(X_test.shape)\n",
        "print(X_train[256])"
      ],
      "metadata": {
        "id": "-qd0U1wFJMi6",
        "colab": {
          "base_uri": "https://localhost:8080/",
          "height": 0
        },
        "outputId": "7e4c8161-1ada-45e7-c276-ba6eb15ccf98"
      },
      "execution_count": 46,
      "outputs": [
        {
          "output_type": "stream",
          "name": "stdout",
          "text": [
            "(32775, 250)\n",
            "[   0    0    0    0    0    0    0    0    0    0    0    0    0    0\n",
            "    0    0    0    0    0    0    0    0    0    0    0    0    0    0\n",
            "    0    0    0    0    0    0    0    0    0    0    0    0    0    0\n",
            "    0    0    0    0    0    0    0    0    0    0    0    0    0    0\n",
            "    0    0    0    0    0    0    0    0    0    0    0    0    0    0\n",
            "    0    0    0    0    0    0    0    0    0    0    0    0    0    0\n",
            "    0    0    0    0    0    0    0    0    0    0    0    0    0    0\n",
            "    0    0    0    0    3    1   21   11  103  139   34 1282  280   67\n",
            "  126    5   24    5  322 1540  104   60  412  194 3214  202  579   59\n",
            "  212    1 1200 2701    3    1 2744  143   84   29  314  497 1532  104\n",
            "   60   57 3026   77 1200   24    2 1198  158 1523  123    4   73  125\n",
            " 1274   25 2596 1543  205 1475 1383    1   24    2 2068  412 8199   59\n",
            "   57  113  212  497 1532  104   60    1   84  437  227   52 4565  460\n",
            " 2615   30 3565   42    1   65 1127  117  457   15  152  682  437  126\n",
            "    2   11    1 6209  638  223  626  437  227    5  174  275  283    1\n",
            "  286   19   10    9  151  514 1122  564 2350   19  550  437  751   83\n",
            "  291  212    1 2275   30  626 1874  227   66  209  460 1119  177  117\n",
            "  437  227    5   42    1  396  358   69   41  142   20   12]\n"
          ]
        }
      ]
    },
    {
      "cell_type": "markdown",
      "source": [
        "#Tokenizing the school state\n"
      ],
      "metadata": {
        "id": "G6PoGboAJ7Dv"
      }
    },
    {
      "cell_type": "code",
      "source": [
        "max_review_length = 1\n",
        "X_train_school_state = pad_sequences(train['school_state'], maxlen=max_review_length)  #padding zeros at the begining of each review to make max len as 200\n",
        "X_test_school_state = pad_sequences(test['school_state'], maxlen=max_review_length)\n",
        "X_cv_school_state = pad_sequences(cv['school_state'], maxlen=max_review_length)\n",
        "print(X_test_school_state.shape)\n",
        "print(X_test_school_state[0])"
      ],
      "metadata": {
        "id": "2Xn8f3QNJMmB",
        "colab": {
          "base_uri": "https://localhost:8080/",
          "height": 0
        },
        "outputId": "30bd982b-098c-4ba8-d445-30824048c5a8"
      },
      "execution_count": 37,
      "outputs": [
        {
          "output_type": "stream",
          "name": "stdout",
          "text": [
            "(32775, 1)\n",
            "[1]\n"
          ]
        }
      ]
    },
    {
      "cell_type": "markdown",
      "source": [
        "#Tokenizing the project_grade_category\n"
      ],
      "metadata": {
        "id": "LMigBfRxKAXh"
      }
    },
    {
      "cell_type": "code",
      "source": [
        "max_review_length = 1\n",
        "X_train_project_grade = pad_sequences(train['project_grade_category'], maxlen=max_review_length)  #padding zeros at the begining of each review to make max len as 200\n",
        "X_test_project_grade = pad_sequences(test['project_grade_category'], maxlen=max_review_length)\n",
        "X_cv_project_grade = pad_sequences(cv['project_grade_category'], maxlen=max_review_length)\n",
        "print(X_test_project_grade.shape)\n",
        "print(X_train_project_grade[0])"
      ],
      "metadata": {
        "id": "d5bnI1DcgbLD",
        "colab": {
          "base_uri": "https://localhost:8080/",
          "height": 0
        },
        "outputId": "f912d8c9-9904-4633-c559-a807c99a46f7"
      },
      "execution_count": 45,
      "outputs": [
        {
          "output_type": "stream",
          "name": "stdout",
          "text": [
            "(32775, 1)\n",
            "[2]\n"
          ]
        }
      ]
    },
    {
      "cell_type": "markdown",
      "source": [
        "#Tokenizing the project categories\n"
      ],
      "metadata": {
        "id": "X-2eYjhYKGTa"
      }
    },
    {
      "cell_type": "code",
      "source": [
        "max_review_length = 1\n",
        "X_train_clean_categories = pad_sequences(train['clean_categories'], maxlen=max_review_length)  #padding zeros at the begining of each review to make max len as 200\n",
        "X_test_clean_categories = pad_sequences(test['clean_categories'], maxlen=max_review_length)\n",
        "X_cv_clean_categories = pad_sequences(cv['clean_categories'], maxlen=max_review_length)\n",
        "print(X_test_clean_categories.shape)\n",
        "print(X_train_clean_categories[0])"
      ],
      "metadata": {
        "id": "q6jSlAsiKD7P",
        "colab": {
          "base_uri": "https://localhost:8080/",
          "height": 0
        },
        "outputId": "79012904-8f67-4e68-8dd5-8c06c57e0e76"
      },
      "execution_count": 44,
      "outputs": [
        {
          "output_type": "stream",
          "name": "stdout",
          "text": [
            "(32775, 1)\n",
            "[7]\n"
          ]
        }
      ]
    },
    {
      "cell_type": "markdown",
      "source": [
        "#Tokenizing the project subcategories\n"
      ],
      "metadata": {
        "id": "y1mR_hQ-KNnv"
      }
    },
    {
      "cell_type": "code",
      "source": [
        "max_review_length = 1\n",
        "X_train_clean_subcategories = pad_sequences(train['clean_subcategories'], maxlen=max_review_length)  #padding zeros at the begining of each review to make max len as 200\n",
        "X_test_clean_subcategories = pad_sequences(test['clean_subcategories'], maxlen=max_review_length)\n",
        "X_cv_clean_subcategories = pad_sequences(cv['clean_subcategories'], maxlen=max_review_length)\n",
        "print(X_test_clean_subcategories.shape)\n",
        "print(X_train_clean_subcategories[0])"
      ],
      "metadata": {
        "id": "YdLPKuOVKD99",
        "colab": {
          "base_uri": "https://localhost:8080/",
          "height": 0
        },
        "outputId": "18502293-0779-4bf9-95f4-e45791b6cba6"
      },
      "execution_count": 43,
      "outputs": [
        {
          "output_type": "stream",
          "name": "stdout",
          "text": [
            "(32775, 1)\n",
            "[28]\n"
          ]
        }
      ]
    },
    {
      "cell_type": "markdown",
      "source": [
        "#Tokenizing the teacher prefix\n"
      ],
      "metadata": {
        "id": "i1l3b-Z4KVw3"
      }
    },
    {
      "cell_type": "code",
      "source": [
        "max_review_length = 1\n",
        "X_train_teacher_prefix = pad_sequences(train['teacher_prefix'], maxlen=max_review_length)  #padding zeros at the begining of each review to make max len as 200\n",
        "X_test_teacher_prefix = pad_sequences(test['teacher_prefix'], maxlen=max_review_length)\n",
        "X_cv_teacher_prefix = pad_sequences(cv['teacher_prefix'], maxlen=max_review_length)\n",
        "print(X_test_teacher_prefix.shape)\n",
        "print(X_test_teacher_prefix[0])\n"
      ],
      "metadata": {
        "id": "sNShCGCpKEAy",
        "colab": {
          "base_uri": "https://localhost:8080/",
          "height": 0
        },
        "outputId": "bfeaad4e-5e1d-446e-e909-d67c486be4f7"
      },
      "execution_count": 42,
      "outputs": [
        {
          "output_type": "stream",
          "name": "stdout",
          "text": [
            "(32775, 1)\n",
            "[1]\n"
          ]
        }
      ]
    },
    {
      "cell_type": "code",
      "source": [
        "train.head()"
      ],
      "metadata": {
        "id": "hC8rVxNHKEET",
        "colab": {
          "base_uri": "https://localhost:8080/",
          "height": 206
        },
        "outputId": "216702bd-6fdd-46f5-d540-7696ce2e6b5f"
      },
      "execution_count": 30,
      "outputs": [
        {
          "output_type": "execute_result",
          "data": {
            "text/plain": [
              "       teacher_prefix school_state project_grade_category clean_categories  \\\n",
              "103461            [1]         [10]                    [2]              [7]   \n",
              "76709             [1]         [17]                    [2]           [1, 2]   \n",
              "15554             [1]         [38]                    [3]              [2]   \n",
              "7724              [1]          [1]                    [1]              [1]   \n",
              "41174             [2]          [1]                    [2]              [1]   \n",
              "\n",
              "       clean_subcategories                                              essay  \\\n",
              "103461                [28]  [210, 511, 517, 11, 110, 67, 298, 3129, 1289, ...   \n",
              "76709               [3, 2]  [1, 657, 38, 5, 188, 359, 73, 24, 73, 5449, 91...   \n",
              "15554                  [2]  [3, 1, 147, 4335, 693, 1128, 211, 4, 879, 234,...   \n",
              "7724                   [1]  [217, 1, 420, 964, 18, 31, 1792, 1541, 27, 197...   \n",
              "41174                  [3]  [3, 570, 38, 1, 88, 30, 2, 29, 4, 395, 235, 23...   \n",
              "\n",
              "         price  \n",
              "103461  132.20  \n",
              "76709     9.09  \n",
              "15554   202.87  \n",
              "7724    379.93  \n",
              "41174    23.33  "
            ],
            "text/html": [
              "\n",
              "  <div id=\"df-39f5793e-891b-4951-bdd1-4924f18d3fbb\">\n",
              "    <div class=\"colab-df-container\">\n",
              "      <div>\n",
              "<style scoped>\n",
              "    .dataframe tbody tr th:only-of-type {\n",
              "        vertical-align: middle;\n",
              "    }\n",
              "\n",
              "    .dataframe tbody tr th {\n",
              "        vertical-align: top;\n",
              "    }\n",
              "\n",
              "    .dataframe thead th {\n",
              "        text-align: right;\n",
              "    }\n",
              "</style>\n",
              "<table border=\"1\" class=\"dataframe\">\n",
              "  <thead>\n",
              "    <tr style=\"text-align: right;\">\n",
              "      <th></th>\n",
              "      <th>teacher_prefix</th>\n",
              "      <th>school_state</th>\n",
              "      <th>project_grade_category</th>\n",
              "      <th>clean_categories</th>\n",
              "      <th>clean_subcategories</th>\n",
              "      <th>essay</th>\n",
              "      <th>price</th>\n",
              "    </tr>\n",
              "  </thead>\n",
              "  <tbody>\n",
              "    <tr>\n",
              "      <th>103461</th>\n",
              "      <td>[1]</td>\n",
              "      <td>[10]</td>\n",
              "      <td>[2]</td>\n",
              "      <td>[7]</td>\n",
              "      <td>[28]</td>\n",
              "      <td>[210, 511, 517, 11, 110, 67, 298, 3129, 1289, ...</td>\n",
              "      <td>132.20</td>\n",
              "    </tr>\n",
              "    <tr>\n",
              "      <th>76709</th>\n",
              "      <td>[1]</td>\n",
              "      <td>[17]</td>\n",
              "      <td>[2]</td>\n",
              "      <td>[1, 2]</td>\n",
              "      <td>[3, 2]</td>\n",
              "      <td>[1, 657, 38, 5, 188, 359, 73, 24, 73, 5449, 91...</td>\n",
              "      <td>9.09</td>\n",
              "    </tr>\n",
              "    <tr>\n",
              "      <th>15554</th>\n",
              "      <td>[1]</td>\n",
              "      <td>[38]</td>\n",
              "      <td>[3]</td>\n",
              "      <td>[2]</td>\n",
              "      <td>[2]</td>\n",
              "      <td>[3, 1, 147, 4335, 693, 1128, 211, 4, 879, 234,...</td>\n",
              "      <td>202.87</td>\n",
              "    </tr>\n",
              "    <tr>\n",
              "      <th>7724</th>\n",
              "      <td>[1]</td>\n",
              "      <td>[1]</td>\n",
              "      <td>[1]</td>\n",
              "      <td>[1]</td>\n",
              "      <td>[1]</td>\n",
              "      <td>[217, 1, 420, 964, 18, 31, 1792, 1541, 27, 197...</td>\n",
              "      <td>379.93</td>\n",
              "    </tr>\n",
              "    <tr>\n",
              "      <th>41174</th>\n",
              "      <td>[2]</td>\n",
              "      <td>[1]</td>\n",
              "      <td>[2]</td>\n",
              "      <td>[1]</td>\n",
              "      <td>[3]</td>\n",
              "      <td>[3, 570, 38, 1, 88, 30, 2, 29, 4, 395, 235, 23...</td>\n",
              "      <td>23.33</td>\n",
              "    </tr>\n",
              "  </tbody>\n",
              "</table>\n",
              "</div>\n",
              "      <button class=\"colab-df-convert\" onclick=\"convertToInteractive('df-39f5793e-891b-4951-bdd1-4924f18d3fbb')\"\n",
              "              title=\"Convert this dataframe to an interactive table.\"\n",
              "              style=\"display:none;\">\n",
              "        \n",
              "  <svg xmlns=\"http://www.w3.org/2000/svg\" height=\"24px\"viewBox=\"0 0 24 24\"\n",
              "       width=\"24px\">\n",
              "    <path d=\"M0 0h24v24H0V0z\" fill=\"none\"/>\n",
              "    <path d=\"M18.56 5.44l.94 2.06.94-2.06 2.06-.94-2.06-.94-.94-2.06-.94 2.06-2.06.94zm-11 1L8.5 8.5l.94-2.06 2.06-.94-2.06-.94L8.5 2.5l-.94 2.06-2.06.94zm10 10l.94 2.06.94-2.06 2.06-.94-2.06-.94-.94-2.06-.94 2.06-2.06.94z\"/><path d=\"M17.41 7.96l-1.37-1.37c-.4-.4-.92-.59-1.43-.59-.52 0-1.04.2-1.43.59L10.3 9.45l-7.72 7.72c-.78.78-.78 2.05 0 2.83L4 21.41c.39.39.9.59 1.41.59.51 0 1.02-.2 1.41-.59l7.78-7.78 2.81-2.81c.8-.78.8-2.07 0-2.86zM5.41 20L4 18.59l7.72-7.72 1.47 1.35L5.41 20z\"/>\n",
              "  </svg>\n",
              "      </button>\n",
              "      \n",
              "  <style>\n",
              "    .colab-df-container {\n",
              "      display:flex;\n",
              "      flex-wrap:wrap;\n",
              "      gap: 12px;\n",
              "    }\n",
              "\n",
              "    .colab-df-convert {\n",
              "      background-color: #E8F0FE;\n",
              "      border: none;\n",
              "      border-radius: 50%;\n",
              "      cursor: pointer;\n",
              "      display: none;\n",
              "      fill: #1967D2;\n",
              "      height: 32px;\n",
              "      padding: 0 0 0 0;\n",
              "      width: 32px;\n",
              "    }\n",
              "\n",
              "    .colab-df-convert:hover {\n",
              "      background-color: #E2EBFA;\n",
              "      box-shadow: 0px 1px 2px rgba(60, 64, 67, 0.3), 0px 1px 3px 1px rgba(60, 64, 67, 0.15);\n",
              "      fill: #174EA6;\n",
              "    }\n",
              "\n",
              "    [theme=dark] .colab-df-convert {\n",
              "      background-color: #3B4455;\n",
              "      fill: #D2E3FC;\n",
              "    }\n",
              "\n",
              "    [theme=dark] .colab-df-convert:hover {\n",
              "      background-color: #434B5C;\n",
              "      box-shadow: 0px 1px 3px 1px rgba(0, 0, 0, 0.15);\n",
              "      filter: drop-shadow(0px 1px 2px rgba(0, 0, 0, 0.3));\n",
              "      fill: #FFFFFF;\n",
              "    }\n",
              "  </style>\n",
              "\n",
              "      <script>\n",
              "        const buttonEl =\n",
              "          document.querySelector('#df-39f5793e-891b-4951-bdd1-4924f18d3fbb button.colab-df-convert');\n",
              "        buttonEl.style.display =\n",
              "          google.colab.kernel.accessAllowed ? 'block' : 'none';\n",
              "\n",
              "        async function convertToInteractive(key) {\n",
              "          const element = document.querySelector('#df-39f5793e-891b-4951-bdd1-4924f18d3fbb');\n",
              "          const dataTable =\n",
              "            await google.colab.kernel.invokeFunction('convertToInteractive',\n",
              "                                                     [key], {});\n",
              "          if (!dataTable) return;\n",
              "\n",
              "          const docLinkHtml = 'Like what you see? Visit the ' +\n",
              "            '<a target=\"_blank\" href=https://colab.research.google.com/notebooks/data_table.ipynb>data table notebook</a>'\n",
              "            + ' to learn more about interactive tables.';\n",
              "          element.innerHTML = '';\n",
              "          dataTable['output_type'] = 'display_data';\n",
              "          await google.colab.output.renderOutput(dataTable, element);\n",
              "          const docLink = document.createElement('div');\n",
              "          docLink.innerHTML = docLinkHtml;\n",
              "          element.appendChild(docLink);\n",
              "        }\n",
              "      </script>\n",
              "    </div>\n",
              "  </div>\n",
              "  "
            ]
          },
          "metadata": {},
          "execution_count": 30
        }
      ]
    },
    {
      "cell_type": "markdown",
      "source": [
        "#Deep Learning Models\n",
        "Model 1"
      ],
      "metadata": {
        "id": "CvqTSk3xKcWa"
      }
    },
    {
      "cell_type": "code",
      "source": [
        "# defining the auc score for model \n",
        "def auc( y_true, y_pred ) :\n",
        "    score = tf.numpy_function(lambda y_true, y_pred : roc_auc_score( y_true, y_pred ,average='weighted').astype('float32'),\n",
        "                        [y_true, y_pred],\n",
        "                        'float32',\n",
        "                        name='sklearnAUC')\n",
        "    return score\n",
        "\n",
        "\n",
        "# defining the accuracy score for model \n",
        "\n",
        "def accuracy(y_true, y_pred):\n",
        "    y_pred = tf.argmax(y_pred, axis=1)\n",
        "    accuracy = tf.keras.metrics.Accuracy()\n",
        "    accuracy.update_state(y_true, y_pred)\n",
        "    return accuracy.result().numpy()\n",
        "\n",
        "\n",
        "\n",
        "# defining learning rate function with value of 0.0001\n",
        "def step_decay(epoch):\n",
        "    initial_lr = 0.0001\n",
        "    lr_drop = 1e-6\n",
        "    epochs_drop = 1\n",
        "    lr = initial_lr * math.pow(lr_drop, math.floor((1 + epoch) / epochs_drop))\n",
        "    return lr\n",
        "\n"
      ],
      "metadata": {
        "id": "7-maNCvFKEI9"
      },
      "execution_count": 31,
      "outputs": []
    },
    {
      "cell_type": "code",
      "source": [
        "#input 1\n",
        "input1 = Input(shape=(250,))\n",
        "x1 = Embedding(input_dim=45001,output_dim= 300,weights=[embedding_mat(feature_names[5])],trainable=False)(input1)\n",
        "x1 = SpatialDropout1D(0.3)(x1)\n",
        "x1 = LSTM(128,return_sequences=True)(x1)\n",
        "x1 = Flatten()(x1)\n",
        "\n",
        "#input 2\n",
        "input2 = Input(shape=(1,))\n",
        "x2 = Embedding(input_dim= 55,output_dim= 2)(input2)\n",
        "x2 = SpatialDropout1D(0.3)(x2)\n",
        "x2 = Flatten()(x2)\n",
        "\n",
        "#input 3\n",
        "input3 = Input(shape=(1,))\n",
        "x3 = Embedding(input_dim= 5,output_dim= 2)(input3)\n",
        "x3 = SpatialDropout1D(0.3)(x3)\n",
        "x3 = Flatten()(x3)\n",
        "\n",
        "#input 4\n",
        "input4 = Input(shape=(1,))\n",
        "x4 = Embedding(input_dim=50,output_dim= 2)(input4)\n",
        "x4 = SpatialDropout1D(0.3)(x4)\n",
        "x4 = Flatten()(x4)\n",
        "\n",
        "#input 5\n",
        "input5 = Input(shape=(1,))\n",
        "x5 = Embedding(input_dim= 385,output_dim= 50)(input5)\n",
        "x5 = SpatialDropout1D(0.3)(x5)\n",
        "x5 = Flatten()(x5)\n",
        "\n",
        "#input 6\n",
        "input6 = Input(shape=(1,))\n",
        "x6 = Embedding(input_dim= 6,output_dim= 5)(input6)\n",
        "x6 = SpatialDropout1D(0.3)(x6)\n",
        "x6 = Flatten()(x6)\n",
        "\n",
        "#input 7\n",
        "input7 = Input(shape=(1,))\n",
        "x7 = Dense(16,activation='relu',kernel_initializer=he_normal(),kernel_regularizer=l2(0.0001))(input7)\n",
        "x7 = Flatten()(x7)\n",
        "# now will merge the all the input \n",
        "concatated_layer = concatenate([x1,x2,x3,x4,x5,x6,x7])\n",
        "\n",
        "x = Dense(128,activation='relu',kernel_initializer=he_normal(),kernel_regularizer=l2(0.0001))(concatated_layer)\n",
        "x = Dropout(0.5)(x)\n",
        "x = Dense(64,activation='relu',kernel_initializer=he_normal(),kernel_regularizer=l2(0.0001))(x)\n",
        "x = Dropout(0.5)(x)\n",
        "x = BatchNormalization()(x)\n",
        "x = Dense(32,activation='relu',kernel_initializer=he_normal(),kernel_regularizer=l2(0.0001))(x)\n",
        "x = Dropout(0.5)(x)\n",
        "output = Dense(2, activation = 'softmax')(x)\n",
        " \n",
        "# create model with seven inputs\n",
        "model = Model([input1,input2,input3,input4,input5,input6,input7], output)\n",
        "tensorboard = TensorBoard(log_dir='logs/{}'.format(time()))\n",
        "model.compile(loss='categorical_crossentropy', optimizer=keras.optimizers.Adam(lr=0.0006,decay = 1e-4),metrics=['accuracy',auc])\n",
        "print(model.summary())"
      ],
      "metadata": {
        "id": "UrJ9oChTKELy",
        "colab": {
          "base_uri": "https://localhost:8080/",
          "height": 0
        },
        "outputId": "603648bf-5493-40b0-a8b4-bf9529441920"
      },
      "execution_count": 33,
      "outputs": [
        {
          "output_type": "stream",
          "name": "stdout",
          "text": [
            "Model: \"model\"\n",
            "__________________________________________________________________________________________________\n",
            " Layer (type)                   Output Shape         Param #     Connected to                     \n",
            "==================================================================================================\n",
            " input_2 (InputLayer)           [(None, 250)]        0           []                               \n",
            "                                                                                                  \n",
            " embedding_1 (Embedding)        (None, 250, 300)     13500300    ['input_2[0][0]']                \n",
            "                                                                                                  \n",
            " input_3 (InputLayer)           [(None, 1)]          0           []                               \n",
            "                                                                                                  \n",
            " input_4 (InputLayer)           [(None, 1)]          0           []                               \n",
            "                                                                                                  \n",
            " input_5 (InputLayer)           [(None, 1)]          0           []                               \n",
            "                                                                                                  \n",
            " input_6 (InputLayer)           [(None, 1)]          0           []                               \n",
            "                                                                                                  \n",
            " input_7 (InputLayer)           [(None, 1)]          0           []                               \n",
            "                                                                                                  \n",
            " spatial_dropout1d (SpatialDrop  (None, 250, 300)    0           ['embedding_1[0][0]']            \n",
            " out1D)                                                                                           \n",
            "                                                                                                  \n",
            " embedding_2 (Embedding)        (None, 1, 2)         110         ['input_3[0][0]']                \n",
            "                                                                                                  \n",
            " embedding_3 (Embedding)        (None, 1, 2)         10          ['input_4[0][0]']                \n",
            "                                                                                                  \n",
            " embedding_4 (Embedding)        (None, 1, 2)         100         ['input_5[0][0]']                \n",
            "                                                                                                  \n",
            " embedding_5 (Embedding)        (None, 1, 50)        19250       ['input_6[0][0]']                \n",
            "                                                                                                  \n",
            " embedding_6 (Embedding)        (None, 1, 5)         30          ['input_7[0][0]']                \n",
            "                                                                                                  \n",
            " input_8 (InputLayer)           [(None, 1)]          0           []                               \n",
            "                                                                                                  \n",
            " lstm (LSTM)                    (None, 250, 128)     219648      ['spatial_dropout1d[0][0]']      \n",
            "                                                                                                  \n",
            " spatial_dropout1d_1 (SpatialDr  (None, 1, 2)        0           ['embedding_2[0][0]']            \n",
            " opout1D)                                                                                         \n",
            "                                                                                                  \n",
            " spatial_dropout1d_2 (SpatialDr  (None, 1, 2)        0           ['embedding_3[0][0]']            \n",
            " opout1D)                                                                                         \n",
            "                                                                                                  \n",
            " spatial_dropout1d_3 (SpatialDr  (None, 1, 2)        0           ['embedding_4[0][0]']            \n",
            " opout1D)                                                                                         \n",
            "                                                                                                  \n",
            " spatial_dropout1d_4 (SpatialDr  (None, 1, 50)       0           ['embedding_5[0][0]']            \n",
            " opout1D)                                                                                         \n",
            "                                                                                                  \n",
            " spatial_dropout1d_5 (SpatialDr  (None, 1, 5)        0           ['embedding_6[0][0]']            \n",
            " opout1D)                                                                                         \n",
            "                                                                                                  \n",
            " dense (Dense)                  (None, 16)           32          ['input_8[0][0]']                \n",
            "                                                                                                  \n",
            " flatten (Flatten)              (None, 32000)        0           ['lstm[0][0]']                   \n",
            "                                                                                                  \n",
            " flatten_1 (Flatten)            (None, 2)            0           ['spatial_dropout1d_1[0][0]']    \n",
            "                                                                                                  \n",
            " flatten_2 (Flatten)            (None, 2)            0           ['spatial_dropout1d_2[0][0]']    \n",
            "                                                                                                  \n",
            " flatten_3 (Flatten)            (None, 2)            0           ['spatial_dropout1d_3[0][0]']    \n",
            "                                                                                                  \n",
            " flatten_4 (Flatten)            (None, 50)           0           ['spatial_dropout1d_4[0][0]']    \n",
            "                                                                                                  \n",
            " flatten_5 (Flatten)            (None, 5)            0           ['spatial_dropout1d_5[0][0]']    \n",
            "                                                                                                  \n",
            " flatten_6 (Flatten)            (None, 16)           0           ['dense[0][0]']                  \n",
            "                                                                                                  \n",
            " concatenate (Concatenate)      (None, 32077)        0           ['flatten[0][0]',                \n",
            "                                                                  'flatten_1[0][0]',              \n",
            "                                                                  'flatten_2[0][0]',              \n",
            "                                                                  'flatten_3[0][0]',              \n",
            "                                                                  'flatten_4[0][0]',              \n",
            "                                                                  'flatten_5[0][0]',              \n",
            "                                                                  'flatten_6[0][0]']              \n",
            "                                                                                                  \n",
            " dense_1 (Dense)                (None, 128)          4105984     ['concatenate[0][0]']            \n",
            "                                                                                                  \n",
            " dropout (Dropout)              (None, 128)          0           ['dense_1[0][0]']                \n",
            "                                                                                                  \n",
            " dense_2 (Dense)                (None, 64)           8256        ['dropout[0][0]']                \n",
            "                                                                                                  \n",
            " dropout_1 (Dropout)            (None, 64)           0           ['dense_2[0][0]']                \n",
            "                                                                                                  \n",
            " batch_normalization (BatchNorm  (None, 64)          256         ['dropout_1[0][0]']              \n",
            " alization)                                                                                       \n",
            "                                                                                                  \n",
            " dense_3 (Dense)                (None, 32)           2080        ['batch_normalization[0][0]']    \n",
            "                                                                                                  \n",
            " dropout_2 (Dropout)            (None, 32)           0           ['dense_3[0][0]']                \n",
            "                                                                                                  \n",
            " dense_4 (Dense)                (None, 2)            66          ['dropout_2[0][0]']              \n",
            "                                                                                                  \n",
            "==================================================================================================\n",
            "Total params: 17,856,122\n",
            "Trainable params: 4,355,694\n",
            "Non-trainable params: 13,500,428\n",
            "__________________________________________________________________________________________________\n",
            "None\n"
          ]
        }
      ]
    },
    {
      "cell_type": "code",
      "source": [
        "#model fitting\n",
        "#https://machinelearningmastery.com/check-point-deep-learning-models-keras/\n",
        "filepath=\"weights_2.best.hdf5\"\n",
        "checkpoint = ModelCheckpoint(filepath, monitor='val_auc', verbose=1, save_best_only=True, mode='max')\n",
        "callbacks_list = [checkpoint]\n",
        "\n",
        "# Remove TensorBoard from the callbacks_list\n",
        "model.fit([X_train, X_train_school_state, X_train_project_grade, X_train_clean_categories, X_train_clean_subcategories, \n",
        "           X_train_teacher_prefix, train['price']], y_train, epochs=50, verbose=1, batch_size=256,\n",
        "          validation_data=([X_cv, X_cv_school_state, X_cv_project_grade, X_cv_clean_categories, X_cv_clean_subcategories,    \n",
        "                            X_cv_teacher_prefix, cv['price']], y_cv), callbacks=callbacks_list)"
      ],
      "metadata": {
        "id": "vm7ljxPZKEOx",
        "colab": {
          "base_uri": "https://localhost:8080/",
          "height": 0
        },
        "outputId": "ac0a7747-2087-4678-ded2-6578c5a62182"
      },
      "execution_count": 34,
      "outputs": [
        {
          "output_type": "stream",
          "name": "stdout",
          "text": [
            "Epoch 1/50\n"
          ]
        },
        {
          "output_type": "stream",
          "name": "stderr",
          "text": [
            "WARNING:tensorflow:From /usr/local/lib/python3.8/dist-packages/tensorflow/python/autograph/pyct/static_analysis/liveness.py:83: Analyzer.lamba_check (from tensorflow.python.autograph.pyct.static_analysis.liveness) is deprecated and will be removed after 2023-09-23.\n",
            "Instructions for updating:\n",
            "Lambda fuctions will be no more assumed to be used in the statement where they are used, or at least in the same block. https://github.com/tensorflow/tensorflow/issues/56089\n"
          ]
        },
        {
          "output_type": "stream",
          "name": "stdout",
          "text": [
            "239/239 [==============================] - ETA: 0s - loss: 0.5564 - accuracy: 0.8325 - auc: 0.5235\n",
            "Epoch 00001: val_auc improved from -inf to 0.63329, saving model to weights_2.best.hdf5\n",
            "239/239 [==============================] - 22s 61ms/step - loss: 0.5564 - accuracy: 0.8325 - auc: 0.5235 - val_loss: 0.4551 - val_accuracy: 0.8486 - val_auc: 0.6333\n",
            "Epoch 2/50\n",
            "239/239 [==============================] - ETA: 0s - loss: 0.4782 - accuracy: 0.8464 - auc: 0.5530\n",
            "Epoch 00002: val_auc did not improve from 0.63329\n",
            "239/239 [==============================] - 12s 51ms/step - loss: 0.4782 - accuracy: 0.8464 - auc: 0.5530 - val_loss: 0.4667 - val_accuracy: 0.8486 - val_auc: 0.5881\n",
            "Epoch 3/50\n",
            "239/239 [==============================] - ETA: 0s - loss: 0.4444 - accuracy: 0.8483 - auc: 0.6243\n",
            "Epoch 00003: val_auc improved from 0.63329 to 0.68819, saving model to weights_2.best.hdf5\n",
            "239/239 [==============================] - 13s 53ms/step - loss: 0.4444 - accuracy: 0.8483 - auc: 0.6243 - val_loss: 0.4476 - val_accuracy: 0.8486 - val_auc: 0.6882\n",
            "Epoch 4/50\n",
            "239/239 [==============================] - ETA: 0s - loss: 0.4276 - accuracy: 0.8485 - auc: 0.6700\n",
            "Epoch 00004: val_auc improved from 0.68819 to 0.72924, saving model to weights_2.best.hdf5\n",
            "239/239 [==============================] - 13s 52ms/step - loss: 0.4276 - accuracy: 0.8485 - auc: 0.6700 - val_loss: 0.4132 - val_accuracy: 0.8486 - val_auc: 0.7292\n",
            "Epoch 5/50\n",
            "239/239 [==============================] - ETA: 0s - loss: 0.4176 - accuracy: 0.8485 - auc: 0.6937\n",
            "Epoch 00005: val_auc improved from 0.72924 to 0.74185, saving model to weights_2.best.hdf5\n",
            "239/239 [==============================] - 13s 56ms/step - loss: 0.4176 - accuracy: 0.8485 - auc: 0.6937 - val_loss: 0.4084 - val_accuracy: 0.8486 - val_auc: 0.7418\n",
            "Epoch 6/50\n",
            "238/239 [============================>.] - ETA: 0s - loss: 0.4082 - accuracy: 0.8486 - auc: 0.7118\n",
            "Epoch 00006: val_auc improved from 0.74185 to 0.74793, saving model to weights_2.best.hdf5\n",
            "239/239 [==============================] - 13s 55ms/step - loss: 0.4084 - accuracy: 0.8485 - auc: 0.7117 - val_loss: 0.3946 - val_accuracy: 0.8486 - val_auc: 0.7479\n",
            "Epoch 7/50\n",
            "239/239 [==============================] - ETA: 0s - loss: 0.4056 - accuracy: 0.8484 - auc: 0.7168\n",
            "Epoch 00007: val_auc improved from 0.74793 to 0.75676, saving model to weights_2.best.hdf5\n",
            "239/239 [==============================] - 17s 71ms/step - loss: 0.4056 - accuracy: 0.8484 - auc: 0.7168 - val_loss: 0.3951 - val_accuracy: 0.8483 - val_auc: 0.7568\n",
            "Epoch 8/50\n",
            "238/239 [============================>.] - ETA: 0s - loss: 0.4011 - accuracy: 0.8487 - auc: 0.7220\n",
            "Epoch 00008: val_auc improved from 0.75676 to 0.75876, saving model to weights_2.best.hdf5\n",
            "239/239 [==============================] - 14s 60ms/step - loss: 0.4013 - accuracy: 0.8487 - auc: 0.7219 - val_loss: 0.3908 - val_accuracy: 0.8479 - val_auc: 0.7588\n",
            "Epoch 9/50\n",
            "238/239 [============================>.] - ETA: 0s - loss: 0.3982 - accuracy: 0.8481 - auc: 0.7289\n",
            "Epoch 00009: val_auc improved from 0.75876 to 0.76043, saving model to weights_2.best.hdf5\n",
            "239/239 [==============================] - 14s 57ms/step - loss: 0.3980 - accuracy: 0.8483 - auc: 0.7291 - val_loss: 0.3853 - val_accuracy: 0.8485 - val_auc: 0.7604\n",
            "Epoch 10/50\n",
            "238/239 [============================>.] - ETA: 0s - loss: 0.3944 - accuracy: 0.8489 - auc: 0.7369\n",
            "Epoch 00010: val_auc did not improve from 0.76043\n",
            "239/239 [==============================] - 13s 56ms/step - loss: 0.3945 - accuracy: 0.8488 - auc: 0.7372 - val_loss: 0.3882 - val_accuracy: 0.8481 - val_auc: 0.7585\n",
            "Epoch 11/50\n",
            "239/239 [==============================] - ETA: 0s - loss: 0.3916 - accuracy: 0.8487 - auc: 0.7389\n",
            "Epoch 00011: val_auc improved from 0.76043 to 0.76062, saving model to weights_2.best.hdf5\n",
            "239/239 [==============================] - 14s 59ms/step - loss: 0.3916 - accuracy: 0.8487 - auc: 0.7389 - val_loss: 0.3915 - val_accuracy: 0.8477 - val_auc: 0.7606\n",
            "Epoch 12/50\n",
            "238/239 [============================>.] - ETA: 0s - loss: 0.3877 - accuracy: 0.8493 - auc: 0.7455\n",
            "Epoch 00012: val_auc improved from 0.76062 to 0.76298, saving model to weights_2.best.hdf5\n",
            "239/239 [==============================] - 14s 60ms/step - loss: 0.3879 - accuracy: 0.8491 - auc: 0.7456 - val_loss: 0.3824 - val_accuracy: 0.8477 - val_auc: 0.7630\n",
            "Epoch 13/50\n",
            "239/239 [==============================] - ETA: 0s - loss: 0.3870 - accuracy: 0.8494 - auc: 0.7465\n",
            "Epoch 00013: val_auc improved from 0.76298 to 0.76339, saving model to weights_2.best.hdf5\n",
            "239/239 [==============================] - 15s 64ms/step - loss: 0.3870 - accuracy: 0.8494 - auc: 0.7465 - val_loss: 0.3821 - val_accuracy: 0.8485 - val_auc: 0.7634\n",
            "Epoch 14/50\n",
            "239/239 [==============================] - ETA: 0s - loss: 0.3847 - accuracy: 0.8496 - auc: 0.7509\n",
            "Epoch 00014: val_auc improved from 0.76339 to 0.76465, saving model to weights_2.best.hdf5\n",
            "239/239 [==============================] - 14s 59ms/step - loss: 0.3847 - accuracy: 0.8496 - auc: 0.7509 - val_loss: 0.3782 - val_accuracy: 0.8484 - val_auc: 0.7646\n",
            "Epoch 15/50\n",
            "238/239 [============================>.] - ETA: 0s - loss: 0.3827 - accuracy: 0.8496 - auc: 0.7548\n",
            "Epoch 00015: val_auc did not improve from 0.76465\n",
            "239/239 [==============================] - 13s 55ms/step - loss: 0.3826 - accuracy: 0.8497 - auc: 0.7546 - val_loss: 0.3790 - val_accuracy: 0.8481 - val_auc: 0.7645\n",
            "Epoch 16/50\n",
            "239/239 [==============================] - ETA: 0s - loss: 0.3801 - accuracy: 0.8511 - auc: 0.7592\n",
            "Epoch 00016: val_auc improved from 0.76465 to 0.76701, saving model to weights_2.best.hdf5\n",
            "239/239 [==============================] - 14s 58ms/step - loss: 0.3801 - accuracy: 0.8511 - auc: 0.7592 - val_loss: 0.3731 - val_accuracy: 0.8488 - val_auc: 0.7670\n",
            "Epoch 17/50\n",
            "239/239 [==============================] - ETA: 0s - loss: 0.3777 - accuracy: 0.8507 - auc: 0.7615\n",
            "Epoch 00017: val_auc did not improve from 0.76701\n",
            "239/239 [==============================] - 13s 56ms/step - loss: 0.3777 - accuracy: 0.8507 - auc: 0.7615 - val_loss: 0.3821 - val_accuracy: 0.8481 - val_auc: 0.7647\n",
            "Epoch 18/50\n",
            "238/239 [============================>.] - ETA: 0s - loss: 0.3756 - accuracy: 0.8500 - auc: 0.7660\n",
            "Epoch 00018: val_auc did not improve from 0.76701\n",
            "239/239 [==============================] - 13s 55ms/step - loss: 0.3754 - accuracy: 0.8501 - auc: 0.7663 - val_loss: 0.3748 - val_accuracy: 0.8484 - val_auc: 0.7637\n",
            "Epoch 19/50\n",
            "239/239 [==============================] - ETA: 0s - loss: 0.3737 - accuracy: 0.8507 - auc: 0.7699\n",
            "Epoch 00019: val_auc did not improve from 0.76701\n",
            "239/239 [==============================] - 13s 55ms/step - loss: 0.3737 - accuracy: 0.8507 - auc: 0.7699 - val_loss: 0.3729 - val_accuracy: 0.8520 - val_auc: 0.7652\n",
            "Epoch 20/50\n",
            "239/239 [==============================] - ETA: 0s - loss: 0.3707 - accuracy: 0.8515 - auc: 0.7760\n",
            "Epoch 00020: val_auc improved from 0.76701 to 0.76888, saving model to weights_2.best.hdf5\n",
            "239/239 [==============================] - 14s 57ms/step - loss: 0.3707 - accuracy: 0.8515 - auc: 0.7760 - val_loss: 0.3743 - val_accuracy: 0.8523 - val_auc: 0.7689\n",
            "Epoch 21/50\n",
            "239/239 [==============================] - ETA: 0s - loss: 0.3686 - accuracy: 0.8522 - auc: 0.7778\n",
            "Epoch 00021: val_auc did not improve from 0.76888\n",
            "239/239 [==============================] - 14s 57ms/step - loss: 0.3686 - accuracy: 0.8522 - auc: 0.7778 - val_loss: 0.3760 - val_accuracy: 0.8526 - val_auc: 0.7623\n",
            "Epoch 22/50\n",
            "239/239 [==============================] - ETA: 0s - loss: 0.3663 - accuracy: 0.8519 - auc: 0.7803\n",
            "Epoch 00022: val_auc did not improve from 0.76888\n",
            "239/239 [==============================] - 14s 59ms/step - loss: 0.3663 - accuracy: 0.8519 - auc: 0.7803 - val_loss: 0.3721 - val_accuracy: 0.8554 - val_auc: 0.7659\n",
            "Epoch 23/50\n",
            "239/239 [==============================] - ETA: 0s - loss: 0.3655 - accuracy: 0.8524 - auc: 0.7800\n",
            "Epoch 00023: val_auc improved from 0.76888 to 0.76925, saving model to weights_2.best.hdf5\n",
            "239/239 [==============================] - 14s 57ms/step - loss: 0.3655 - accuracy: 0.8524 - auc: 0.7800 - val_loss: 0.3711 - val_accuracy: 0.8527 - val_auc: 0.7693\n",
            "Epoch 24/50\n",
            "239/239 [==============================] - ETA: 0s - loss: 0.3623 - accuracy: 0.8515 - auc: 0.7881\n",
            "Epoch 00024: val_auc did not improve from 0.76925\n",
            "239/239 [==============================] - 13s 56ms/step - loss: 0.3623 - accuracy: 0.8515 - auc: 0.7881 - val_loss: 0.3727 - val_accuracy: 0.8572 - val_auc: 0.7663\n",
            "Epoch 25/50\n",
            "239/239 [==============================] - ETA: 0s - loss: 0.3604 - accuracy: 0.8540 - auc: 0.7904\n",
            "Epoch 00025: val_auc did not improve from 0.76925\n",
            "239/239 [==============================] - 13s 56ms/step - loss: 0.3604 - accuracy: 0.8540 - auc: 0.7904 - val_loss: 0.3769 - val_accuracy: 0.8562 - val_auc: 0.7645\n",
            "Epoch 26/50\n",
            "239/239 [==============================] - ETA: 0s - loss: 0.3584 - accuracy: 0.8532 - auc: 0.7928\n",
            "Epoch 00026: val_auc did not improve from 0.76925\n",
            "239/239 [==============================] - 13s 56ms/step - loss: 0.3584 - accuracy: 0.8532 - auc: 0.7928 - val_loss: 0.3715 - val_accuracy: 0.8585 - val_auc: 0.7626\n",
            "Epoch 27/50\n",
            "238/239 [============================>.] - ETA: 0s - loss: 0.3560 - accuracy: 0.8545 - auc: 0.7964\n",
            "Epoch 00027: val_auc did not improve from 0.76925\n",
            "239/239 [==============================] - 13s 56ms/step - loss: 0.3561 - accuracy: 0.8544 - auc: 0.7965 - val_loss: 0.3754 - val_accuracy: 0.8569 - val_auc: 0.7590\n",
            "Epoch 28/50\n",
            "238/239 [============================>.] - ETA: 0s - loss: 0.3528 - accuracy: 0.8546 - auc: 0.8014\n",
            "Epoch 00028: val_auc did not improve from 0.76925\n",
            "239/239 [==============================] - 13s 56ms/step - loss: 0.3533 - accuracy: 0.8545 - auc: 0.8010 - val_loss: 0.3745 - val_accuracy: 0.8579 - val_auc: 0.7637\n",
            "Epoch 29/50\n",
            "239/239 [==============================] - ETA: 0s - loss: 0.3516 - accuracy: 0.8562 - auc: 0.8036\n",
            "Epoch 00029: val_auc did not improve from 0.76925\n",
            "239/239 [==============================] - 14s 57ms/step - loss: 0.3516 - accuracy: 0.8562 - auc: 0.8036 - val_loss: 0.3711 - val_accuracy: 0.8572 - val_auc: 0.7684\n",
            "Epoch 30/50\n",
            "239/239 [==============================] - ETA: 0s - loss: 0.3518 - accuracy: 0.8545 - auc: 0.8037\n",
            "Epoch 00030: val_auc did not improve from 0.76925\n",
            "239/239 [==============================] - 14s 58ms/step - loss: 0.3518 - accuracy: 0.8545 - auc: 0.8037 - val_loss: 0.3716 - val_accuracy: 0.8576 - val_auc: 0.7626\n",
            "Epoch 31/50\n",
            "239/239 [==============================] - ETA: 0s - loss: 0.3488 - accuracy: 0.8566 - auc: 0.8096\n",
            "Epoch 00031: val_auc did not improve from 0.76925\n",
            "239/239 [==============================] - 13s 56ms/step - loss: 0.3488 - accuracy: 0.8566 - auc: 0.8096 - val_loss: 0.3741 - val_accuracy: 0.8573 - val_auc: 0.7653\n",
            "Epoch 32/50\n",
            "238/239 [============================>.] - ETA: 0s - loss: 0.3478 - accuracy: 0.8555 - auc: 0.8093\n",
            "Epoch 00032: val_auc did not improve from 0.76925\n",
            "239/239 [==============================] - 13s 56ms/step - loss: 0.3481 - accuracy: 0.8553 - auc: 0.8094 - val_loss: 0.3759 - val_accuracy: 0.8565 - val_auc: 0.7596\n",
            "Epoch 33/50\n",
            "239/239 [==============================] - ETA: 0s - loss: 0.3452 - accuracy: 0.8573 - auc: 0.8141\n",
            "Epoch 00033: val_auc did not improve from 0.76925\n",
            "239/239 [==============================] - 13s 55ms/step - loss: 0.3452 - accuracy: 0.8573 - auc: 0.8141 - val_loss: 0.3749 - val_accuracy: 0.8583 - val_auc: 0.7644\n",
            "Epoch 34/50\n",
            "238/239 [============================>.] - ETA: 0s - loss: 0.3411 - accuracy: 0.8591 - auc: 0.8182\n",
            "Epoch 00034: val_auc did not improve from 0.76925\n",
            "239/239 [==============================] - 14s 57ms/step - loss: 0.3411 - accuracy: 0.8591 - auc: 0.8182 - val_loss: 0.3784 - val_accuracy: 0.8556 - val_auc: 0.7650\n",
            "Epoch 35/50\n",
            "238/239 [============================>.] - ETA: 0s - loss: 0.3408 - accuracy: 0.8589 - auc: 0.8203\n",
            "Epoch 00035: val_auc did not improve from 0.76925\n",
            "239/239 [==============================] - 13s 55ms/step - loss: 0.3409 - accuracy: 0.8590 - auc: 0.8199 - val_loss: 0.3753 - val_accuracy: 0.8577 - val_auc: 0.7659\n",
            "Epoch 36/50\n",
            "239/239 [==============================] - ETA: 0s - loss: 0.3379 - accuracy: 0.8583 - auc: 0.8268\n",
            "Epoch 00036: val_auc did not improve from 0.76925\n",
            "239/239 [==============================] - 13s 55ms/step - loss: 0.3379 - accuracy: 0.8583 - auc: 0.8268 - val_loss: 0.3822 - val_accuracy: 0.8592 - val_auc: 0.7578\n",
            "Epoch 37/50\n",
            "239/239 [==============================] - ETA: 0s - loss: 0.3355 - accuracy: 0.8608 - auc: 0.8291\n",
            "Epoch 00037: val_auc did not improve from 0.76925\n",
            "239/239 [==============================] - 13s 56ms/step - loss: 0.3355 - accuracy: 0.8608 - auc: 0.8291 - val_loss: 0.3758 - val_accuracy: 0.8557 - val_auc: 0.7659\n",
            "Epoch 38/50\n",
            "238/239 [============================>.] - ETA: 0s - loss: 0.3328 - accuracy: 0.8622 - auc: 0.8329\n",
            "Epoch 00038: val_auc did not improve from 0.76925\n",
            "239/239 [==============================] - 13s 56ms/step - loss: 0.3329 - accuracy: 0.8621 - auc: 0.8329 - val_loss: 0.3821 - val_accuracy: 0.8587 - val_auc: 0.7558\n",
            "Epoch 39/50\n",
            "238/239 [============================>.] - ETA: 0s - loss: 0.3321 - accuracy: 0.8644 - auc: 0.8340\n",
            "Epoch 00039: val_auc did not improve from 0.76925\n",
            "239/239 [==============================] - 13s 55ms/step - loss: 0.3323 - accuracy: 0.8643 - auc: 0.8339 - val_loss: 0.3798 - val_accuracy: 0.8587 - val_auc: 0.7539\n",
            "Epoch 40/50\n",
            "238/239 [============================>.] - ETA: 0s - loss: 0.3295 - accuracy: 0.8639 - auc: 0.8389\n",
            "Epoch 00040: val_auc did not improve from 0.76925\n",
            "239/239 [==============================] - 13s 55ms/step - loss: 0.3295 - accuracy: 0.8639 - auc: 0.8388 - val_loss: 0.3811 - val_accuracy: 0.8517 - val_auc: 0.7621\n",
            "Epoch 41/50\n",
            "238/239 [============================>.] - ETA: 0s - loss: 0.3239 - accuracy: 0.8657 - auc: 0.8465\n",
            "Epoch 00041: val_auc did not improve from 0.76925\n",
            "239/239 [==============================] - 13s 56ms/step - loss: 0.3240 - accuracy: 0.8656 - auc: 0.8467 - val_loss: 0.3945 - val_accuracy: 0.8562 - val_auc: 0.7552\n",
            "Epoch 42/50\n",
            "238/239 [============================>.] - ETA: 0s - loss: 0.3273 - accuracy: 0.8641 - auc: 0.8430\n",
            "Epoch 00042: val_auc did not improve from 0.76925\n",
            "239/239 [==============================] - 13s 55ms/step - loss: 0.3271 - accuracy: 0.8642 - auc: 0.8431 - val_loss: 0.3830 - val_accuracy: 0.8547 - val_auc: 0.7591\n",
            "Epoch 43/50\n",
            "238/239 [============================>.] - ETA: 0s - loss: 0.3240 - accuracy: 0.8652 - auc: 0.8466\n",
            "Epoch 00043: val_auc did not improve from 0.76925\n",
            "239/239 [==============================] - 13s 55ms/step - loss: 0.3241 - accuracy: 0.8651 - auc: 0.8466 - val_loss: 0.3837 - val_accuracy: 0.8507 - val_auc: 0.7589\n",
            "Epoch 44/50\n",
            "239/239 [==============================] - ETA: 0s - loss: 0.3205 - accuracy: 0.8687 - auc: 0.8515\n",
            "Epoch 00044: val_auc did not improve from 0.76925\n",
            "239/239 [==============================] - 14s 58ms/step - loss: 0.3205 - accuracy: 0.8687 - auc: 0.8515 - val_loss: 0.3876 - val_accuracy: 0.8503 - val_auc: 0.7590\n",
            "Epoch 45/50\n",
            "239/239 [==============================] - ETA: 0s - loss: 0.3201 - accuracy: 0.8691 - auc: 0.8523\n",
            "Epoch 00045: val_auc did not improve from 0.76925\n",
            "239/239 [==============================] - 16s 69ms/step - loss: 0.3201 - accuracy: 0.8691 - auc: 0.8523 - val_loss: 0.3878 - val_accuracy: 0.8590 - val_auc: 0.7476\n",
            "Epoch 46/50\n",
            "239/239 [==============================] - ETA: 0s - loss: 0.3163 - accuracy: 0.8707 - auc: 0.8560\n",
            "Epoch 00046: val_auc did not improve from 0.76925\n",
            "239/239 [==============================] - 18s 77ms/step - loss: 0.3163 - accuracy: 0.8707 - auc: 0.8560 - val_loss: 0.3899 - val_accuracy: 0.8555 - val_auc: 0.7523\n",
            "Epoch 47/50\n",
            "239/239 [==============================] - ETA: 0s - loss: 0.3131 - accuracy: 0.8719 - auc: 0.8605\n",
            "Epoch 00047: val_auc did not improve from 0.76925\n",
            "239/239 [==============================] - 15s 65ms/step - loss: 0.3131 - accuracy: 0.8719 - auc: 0.8605 - val_loss: 0.3939 - val_accuracy: 0.8449 - val_auc: 0.7533\n",
            "Epoch 48/50\n",
            "239/239 [==============================] - ETA: 0s - loss: 0.3124 - accuracy: 0.8719 - auc: 0.8633\n",
            "Epoch 00048: val_auc did not improve from 0.76925\n",
            "239/239 [==============================] - 17s 69ms/step - loss: 0.3124 - accuracy: 0.8719 - auc: 0.8633 - val_loss: 0.4038 - val_accuracy: 0.8388 - val_auc: 0.7524\n",
            "Epoch 49/50\n",
            "239/239 [==============================] - ETA: 0s - loss: 0.3076 - accuracy: 0.8753 - auc: 0.8689\n",
            "Epoch 00049: val_auc did not improve from 0.76925\n",
            "239/239 [==============================] - 14s 60ms/step - loss: 0.3076 - accuracy: 0.8753 - auc: 0.8689 - val_loss: 0.3953 - val_accuracy: 0.8543 - val_auc: 0.7503\n",
            "Epoch 50/50\n",
            "238/239 [============================>.] - ETA: 0s - loss: 0.3062 - accuracy: 0.8758 - auc: 0.8714\n",
            "Epoch 00050: val_auc did not improve from 0.76925\n",
            "239/239 [==============================] - 14s 57ms/step - loss: 0.3060 - accuracy: 0.8760 - auc: 0.8715 - val_loss: 0.4061 - val_accuracy: 0.8556 - val_auc: 0.7479\n"
          ]
        },
        {
          "output_type": "execute_result",
          "data": {
            "text/plain": [
              "<keras.callbacks.History at 0x7ff72946f7f0>"
            ]
          },
          "metadata": {},
          "execution_count": 34
        }
      ]
    },
    {
      "cell_type": "markdown",
      "source": [
        "# **We have got the auc score 87.15% and accuracy 87.60%**"
      ],
      "metadata": {
        "id": "Hhr-qzLwPZYS"
      }
    },
    {
      "cell_type": "code",
      "source": [
        "#input 1\n",
        "input1 = Input(shape=(250,))\n",
        "x1 = Embedding(input_dim=45001,output_dim= 300,weights=[embedding_mat(feature_names[5])],trainable=False)(input1)\n",
        "x1 = SpatialDropout1D(0.3)(x1)\n",
        "x1 = LSTM(128,return_sequences=True)(x1)\n",
        "x1 = Flatten()(x1)\n",
        "\n",
        "#input 2\n",
        "input2 = Input(shape=(1,))\n",
        "x2 = Embedding(input_dim= 55,output_dim= 2)(input2)\n",
        "x2 = SpatialDropout1D(0.3)(x2)\n",
        "x2 = Flatten()(x2)\n",
        "\n",
        "#input 3\n",
        "input3 = Input(shape=(1,))\n",
        "x3 = Embedding(input_dim= 5,output_dim= 2)(input3)\n",
        "x3 = SpatialDropout1D(0.3)(x3)\n",
        "x3 = Flatten()(x3)\n",
        "\n",
        "#input 4\n",
        "input4 = Input(shape=(1,))\n",
        "x4 = Embedding(input_dim=50,output_dim= 2)(input4)\n",
        "x4 = SpatialDropout1D(0.3)(x4)\n",
        "x4 = Flatten()(x4)\n",
        "\n",
        "#input 5\n",
        "input5 = Input(shape=(1,))\n",
        "x5 = Embedding(input_dim= 385,output_dim= 50)(input5)\n",
        "x5 = SpatialDropout1D(0.3)(x5)\n",
        "x5 = Flatten()(x5)\n",
        "\n",
        "#input 6\n",
        "input6 = Input(shape=(1,))\n",
        "x6 = Embedding(input_dim= 6,output_dim= 5)(input6)\n",
        "x6 = SpatialDropout1D(0.3)(x6)\n",
        "x6 = Flatten()(x6)\n",
        "\n",
        "#input 7\n",
        "input7 = Input(shape=(1,))\n",
        "x7 = Dense(16,activation='relu',kernel_initializer=he_normal(),kernel_regularizer=l2(0.0001))(input7)\n",
        "x7 = Flatten()(x7)\n",
        "# now will merge the all the input \n",
        "concatated_layer = concatenate([x1,x2,x3,x4,x5,x6,x7])\n",
        "\n",
        "x = Dense(128,activation='relu',kernel_initializer=he_normal(),kernel_regularizer=l2(0.0001))(concatated_layer)\n",
        "x = Dropout(0.5)(x)\n",
        "x = Dense(64,activation='relu',kernel_initializer=he_normal(),kernel_regularizer=l2(0.0001))(x)\n",
        "x = Dropout(0.5)(x)\n",
        "x = BatchNormalization()(x)\n",
        "x = Dense(32,activation='relu',kernel_initializer=he_normal(),kernel_regularizer=l2(0.0001))(x)\n",
        "x = Dropout(0.5)(x)\n",
        "output = Dense(2, activation = 'softmax')(x)\n",
        " \n",
        "# create model with seven inputs\n",
        "model = Model([input1,input2,input3,input4,input5,input6,input7], output)\n",
        "tensorboard = TensorBoard(log_dir='logs/{}'.format(time()))\n",
        "model.load_weights(\"weights_2.best.hdf5\")\n",
        "\n",
        "model.compile(loss='categorical_crossentropy', optimizer=keras.optimizers.Adam(lr=0.0006,decay = 1e-4),metrics=['accuracy',auc])"
      ],
      "metadata": {
        "id": "8huJAXvOv-Vb"
      },
      "execution_count": 47,
      "outputs": []
    },
    {
      "cell_type": "code",
      "source": [
        "print(\"Auc for test data: %0.3f\"%roc_auc_score(y_test,model.predict([X_test,X_test_school_state,X_test_project_grade,X_test_clean_categories,X_test_clean_subcategories,\n",
        "          X_test_teacher_prefix,test['price']])))\n",
        "print(\"Auc for CV data: %0.3f\"%roc_auc_score(y_cv,model.predict([X_cv,X_cv_school_state,X_cv_project_grade,X_cv_clean_categories,X_cv_clean_subcategories,\n",
        "           X_cv_teacher_prefix,cv['price']])))\n",
        "print(\"Auc for train data: %0.3f\"%roc_auc_score(y_train,model.predict([X_train,X_train_school_state,X_train_project_grade,X_train_clean_categories,X_train_clean_subcategories,\n",
        "           X_train_teacher_prefix,train['price']])))"
      ],
      "metadata": {
        "colab": {
          "base_uri": "https://localhost:8080/",
          "height": 0
        },
        "id": "VGQ4INC3v-Yt",
        "outputId": "d5f22913-718b-4b0c-f812-c72774104238"
      },
      "execution_count": 50,
      "outputs": [
        {
          "output_type": "stream",
          "name": "stdout",
          "text": [
            "1025/1025 [==============================] - 9s 9ms/step\n",
            "Auc for test data: 0.763\n",
            "478/478 [==============================] - 3s 6ms/step\n",
            "Auc for CV data: 0.770\n",
            "1912/1912 [==============================] - 13s 7ms/step\n",
            "Auc for train data: 0.823\n"
          ]
        }
      ]
    },
    {
      "cell_type": "code",
      "source": [
        "from tensorflow.keras.utils import plot_model\n"
      ],
      "metadata": {
        "id": "Vt2Gyh8Vnnie"
      },
      "execution_count": 51,
      "outputs": []
    },
    {
      "cell_type": "code",
      "source": [
        "from tensorflow.keras.utils import plot_model\n",
        "plot_model(model, to_file='model.png', show_shapes=True)\n"
      ],
      "metadata": {
        "id": "wdV2rsb9KESY",
        "colab": {
          "base_uri": "https://localhost:8080/",
          "height": 833
        },
        "outputId": "587936c4-58c9-44e0-a747-3a9816a939cc"
      },
      "execution_count": 52,
      "outputs": [
        {
          "output_type": "execute_result",
          "data": {
            "image/png": "[encoded data removed]",
            "text/plain": [
              "<IPython.core.display.Image object>"
            ]
          },
          "metadata": {},
          "execution_count": 52
        }
      ]
    },
    {
      "cell_type": "code",
      "source": [],
      "metadata": {
        "id": "Hh9v--qpKEVx"
      },
      "execution_count": null,
      "outputs": []
    },
    {
      "cell_type": "code",
      "execution_count": null,
      "metadata": {
        "id": "UriBbYIMb09S"
      },
      "outputs": [],
      "source": []
    },
    {
      "cell_type": "code",
      "execution_count": null,
      "metadata": {
        "id": "Z52CZ3C-b09S"
      },
      "outputs": [],
      "source": []
    },
    {
      "cell_type": "markdown",
      "metadata": {
        "id": "igZbignDb09S"
      },
      "source": [
        "# <font color='red'> Model-3 </font>"
      ]
    },
    {
      "cell_type": "markdown",
      "metadata": {
        "id": "daTYBvdxb09T"
      },
      "source": [
        "<img src='https://i.imgur.com/fkQ8nGo.png'>\n",
        "ref: https://i.imgur.com/fkQ8nGo.png"
      ]
    },
    {
      "cell_type": "code",
      "execution_count": null,
      "metadata": {
        "id": "O_q-x2ySb09T"
      },
      "outputs": [],
      "source": [
        "#in this model you can use the text vectorized data from model1 \n",
        "#for other than text data consider the following steps\n",
        "# you have to perform one hot encoding of categorical features. You can use onehotencoder() or countvectorizer() for the same.\n",
        "# Stack up standardised numerical features and all the one hot encoded categorical features\n",
        "#the input to conv1d layer is 3d, you can convert your 2d data to 3d using np.newaxis\n",
        "# Note - deep learning models won't work with sparse features, you have to convert them to dense features before fitting in the model."
      ]
    },
    {
      "cell_type": "code",
      "source": [
        "#Reading the dataset\n",
        "project_data = pd.read_csv('/content/drive/MyDrive/preprocessed_data.csv')\n",
        "project_data.head(3)\n"
      ],
      "metadata": {
        "colab": {
          "base_uri": "https://localhost:8080/",
          "height": 343
        },
        "id": "So0-ZPut5Nfh",
        "outputId": "2dbb5852-89fa-4ff9-da9d-17ee7edd009d"
      },
      "execution_count": null,
      "outputs": [
        {
          "output_type": "execute_result",
          "data": {
            "text/plain": [
              "  school_state teacher_prefix project_grade_category  \\\n",
              "0           ca            mrs          grades_prek_2   \n",
              "1           ut             ms             grades_3_5   \n",
              "2           ca            mrs          grades_prek_2   \n",
              "\n",
              "   teacher_number_of_previously_posted_projects  project_is_approved  \\\n",
              "0                                            53                    1   \n",
              "1                                             4                    1   \n",
              "2                                            10                    1   \n",
              "\n",
              "    clean_categories                 clean_subcategories  \\\n",
              "0       math_science  appliedsciences health_lifescience   \n",
              "1       specialneeds                        specialneeds   \n",
              "2  literacy_language                            literacy   \n",
              "\n",
              "                                               essay   price  \n",
              "0  i fortunate enough use fairy tale stem kits cl...  725.05  \n",
              "1  imagine 8 9 years old you third grade classroo...  213.03  \n",
              "2  having class 24 students comes diverse learner...  329.00  "
            ],
            "text/html": [
              "\n",
              "  <div id=\"df-8e8944e4-51b3-4035-b4f1-1bd64a62d469\">\n",
              "    <div class=\"colab-df-container\">\n",
              "      <div>\n",
              "<style scoped>\n",
              "    .dataframe tbody tr th:only-of-type {\n",
              "        vertical-align: middle;\n",
              "    }\n",
              "\n",
              "    .dataframe tbody tr th {\n",
              "        vertical-align: top;\n",
              "    }\n",
              "\n",
              "    .dataframe thead th {\n",
              "        text-align: right;\n",
              "    }\n",
              "</style>\n",
              "<table border=\"1\" class=\"dataframe\">\n",
              "  <thead>\n",
              "    <tr style=\"text-align: right;\">\n",
              "      <th></th>\n",
              "      <th>school_state</th>\n",
              "      <th>teacher_prefix</th>\n",
              "      <th>project_grade_category</th>\n",
              "      <th>teacher_number_of_previously_posted_projects</th>\n",
              "      <th>project_is_approved</th>\n",
              "      <th>clean_categories</th>\n",
              "      <th>clean_subcategories</th>\n",
              "      <th>essay</th>\n",
              "      <th>price</th>\n",
              "    </tr>\n",
              "  </thead>\n",
              "  <tbody>\n",
              "    <tr>\n",
              "      <th>0</th>\n",
              "      <td>ca</td>\n",
              "      <td>mrs</td>\n",
              "      <td>grades_prek_2</td>\n",
              "      <td>53</td>\n",
              "      <td>1</td>\n",
              "      <td>math_science</td>\n",
              "      <td>appliedsciences health_lifescience</td>\n",
              "      <td>i fortunate enough use fairy tale stem kits cl...</td>\n",
              "      <td>725.05</td>\n",
              "    </tr>\n",
              "    <tr>\n",
              "      <th>1</th>\n",
              "      <td>ut</td>\n",
              "      <td>ms</td>\n",
              "      <td>grades_3_5</td>\n",
              "      <td>4</td>\n",
              "      <td>1</td>\n",
              "      <td>specialneeds</td>\n",
              "      <td>specialneeds</td>\n",
              "      <td>imagine 8 9 years old you third grade classroo...</td>\n",
              "      <td>213.03</td>\n",
              "    </tr>\n",
              "    <tr>\n",
              "      <th>2</th>\n",
              "      <td>ca</td>\n",
              "      <td>mrs</td>\n",
              "      <td>grades_prek_2</td>\n",
              "      <td>10</td>\n",
              "      <td>1</td>\n",
              "      <td>literacy_language</td>\n",
              "      <td>literacy</td>\n",
              "      <td>having class 24 students comes diverse learner...</td>\n",
              "      <td>329.00</td>\n",
              "    </tr>\n",
              "  </tbody>\n",
              "</table>\n",
              "</div>\n",
              "      <button class=\"colab-df-convert\" onclick=\"convertToInteractive('df-8e8944e4-51b3-4035-b4f1-1bd64a62d469')\"\n",
              "              title=\"Convert this dataframe to an interactive table.\"\n",
              "              style=\"display:none;\">\n",
              "        \n",
              "  <svg xmlns=\"http://www.w3.org/2000/svg\" height=\"24px\"viewBox=\"0 0 24 24\"\n",
              "       width=\"24px\">\n",
              "    <path d=\"M0 0h24v24H0V0z\" fill=\"none\"/>\n",
              "    <path d=\"M18.56 5.44l.94 2.06.94-2.06 2.06-.94-2.06-.94-.94-2.06-.94 2.06-2.06.94zm-11 1L8.5 8.5l.94-2.06 2.06-.94-2.06-.94L8.5 2.5l-.94 2.06-2.06.94zm10 10l.94 2.06.94-2.06 2.06-.94-2.06-.94-.94-2.06-.94 2.06-2.06.94z\"/><path d=\"M17.41 7.96l-1.37-1.37c-.4-.4-.92-.59-1.43-.59-.52 0-1.04.2-1.43.59L10.3 9.45l-7.72 7.72c-.78.78-.78 2.05 0 2.83L4 21.41c.39.39.9.59 1.41.59.51 0 1.02-.2 1.41-.59l7.78-7.78 2.81-2.81c.8-.78.8-2.07 0-2.86zM5.41 20L4 18.59l7.72-7.72 1.47 1.35L5.41 20z\"/>\n",
              "  </svg>\n",
              "      </button>\n",
              "      \n",
              "  <style>\n",
              "    .colab-df-container {\n",
              "      display:flex;\n",
              "      flex-wrap:wrap;\n",
              "      gap: 12px;\n",
              "    }\n",
              "\n",
              "    .colab-df-convert {\n",
              "      background-color: #E8F0FE;\n",
              "      border: none;\n",
              "      border-radius: 50%;\n",
              "      cursor: pointer;\n",
              "      display: none;\n",
              "      fill: #1967D2;\n",
              "      height: 32px;\n",
              "      padding: 0 0 0 0;\n",
              "      width: 32px;\n",
              "    }\n",
              "\n",
              "    .colab-df-convert:hover {\n",
              "      background-color: #E2EBFA;\n",
              "      box-shadow: 0px 1px 2px rgba(60, 64, 67, 0.3), 0px 1px 3px 1px rgba(60, 64, 67, 0.15);\n",
              "      fill: #174EA6;\n",
              "    }\n",
              "\n",
              "    [theme=dark] .colab-df-convert {\n",
              "      background-color: #3B4455;\n",
              "      fill: #D2E3FC;\n",
              "    }\n",
              "\n",
              "    [theme=dark] .colab-df-convert:hover {\n",
              "      background-color: #434B5C;\n",
              "      box-shadow: 0px 1px 3px 1px rgba(0, 0, 0, 0.15);\n",
              "      filter: drop-shadow(0px 1px 2px rgba(0, 0, 0, 0.3));\n",
              "      fill: #FFFFFF;\n",
              "    }\n",
              "  </style>\n",
              "\n",
              "      <script>\n",
              "        const buttonEl =\n",
              "          document.querySelector('#df-8e8944e4-51b3-4035-b4f1-1bd64a62d469 button.colab-df-convert');\n",
              "        buttonEl.style.display =\n",
              "          google.colab.kernel.accessAllowed ? 'block' : 'none';\n",
              "\n",
              "        async function convertToInteractive(key) {\n",
              "          const element = document.querySelector('#df-8e8944e4-51b3-4035-b4f1-1bd64a62d469');\n",
              "          const dataTable =\n",
              "            await google.colab.kernel.invokeFunction('convertToInteractive',\n",
              "                                                     [key], {});\n",
              "          if (!dataTable) return;\n",
              "\n",
              "          const docLinkHtml = 'Like what you see? Visit the ' +\n",
              "            '<a target=\"_blank\" href=https://colab.research.google.com/notebooks/data_table.ipynb>data table notebook</a>'\n",
              "            + ' to learn more about interactive tables.';\n",
              "          element.innerHTML = '';\n",
              "          dataTable['output_type'] = 'display_data';\n",
              "          await google.colab.output.renderOutput(dataTable, element);\n",
              "          const docLink = document.createElement('div');\n",
              "          docLink.innerHTML = docLinkHtml;\n",
              "          element.appendChild(docLink);\n",
              "        }\n",
              "      </script>\n",
              "    </div>\n",
              "  </div>\n",
              "  "
            ]
          },
          "metadata": {},
          "execution_count": 7
        }
      ]
    },
    {
      "cell_type": "code",
      "source": [
        "class_label = project_data['project_is_approved']\n"
      ],
      "metadata": {
        "id": "Iq4EpUoQ5Ni4"
      },
      "execution_count": null,
      "outputs": []
    },
    {
      "cell_type": "code",
      "source": [
        "project_data.replace(to_replace=np.NaN, value= str('nan'),inplace=True)\n"
      ],
      "metadata": {
        "id": "3JbDckmT5Nof"
      },
      "execution_count": null,
      "outputs": []
    },
    {
      "cell_type": "code",
      "source": [
        "col = ['teacher_prefix', 'school_state', 'project_grade_category',\n",
        "       'clean_categories', 'clean_subcategories','essay',\n",
        "       'price']\n",
        "project_data = project_data[col]"
      ],
      "metadata": {
        "id": "MW278G1K5NrX"
      },
      "execution_count": null,
      "outputs": []
    },
    {
      "cell_type": "code",
      "source": [
        " #ref : https://www.geeksforgeeks.org/frequent-word-array-strings/\n",
        "def word_ranking(df):\n",
        "    col_names = df.columns\n",
        "    features = []\n",
        "    #performing train test split\n",
        "    train,test,y_train,y_test = train_test_split(df, class_label , stratify = class_label, train_size = 0.7)\n",
        "\n",
        "    train,cv,y_train,y_cv = train_test_split(train,y_train,stratify = y_train,train_size = 0.8)\n",
        "    for coln in col_names[5:6]:\n",
        "        print(coln)\n",
        "        bag_of_words = CountVectorizer(lowercase= False)\n",
        "        bow_words = bag_of_words.fit_transform(train[coln])\n",
        "        print(bow_words.shape)\n",
        "        \n",
        "        #Lets now store the document term matrix in a dictionary.\n",
        "        freqs = bow_words.sum(axis=0).A1\n",
        "        index = freqs.argsort()\n",
        "        words = bag_of_words.get_feature_names()\n",
        "        \n",
        "        \n",
        "\n",
        "        # Assigning Rank to each word based on its freq of occurance. Word with highest freq is assigned rank 1 \n",
        "        word_rank = dict()\n",
        "        rank = 1\n",
        "        for i in index[::-1]:\n",
        "            k = words[i]\n",
        "            word_rank[k] = rank\n",
        "            rank+=1\n",
        "        features.append(word_rank)\n",
        "\n",
        "        #Every word in each review is replaced by its rank\n",
        "        rank = [] # list of all the review with words replaced with rank\n",
        "        for sent in train[coln].values:\n",
        "            txt_row = []\n",
        "            for word in sent.split():\n",
        "                if word in word_rank.keys():\n",
        "                    txt_row.append(word_rank[word])\n",
        "                else:\n",
        "                    pass\n",
        "            rank.append(txt_row)\n",
        "        \n",
        "        train[coln] = rank\n",
        "        \n",
        "        rank = [] # list of all the review with words replaced with rank\n",
        "        for sent in test[coln].values:\n",
        "            txt_row = []\n",
        "            for word in sent.split():\n",
        "                if word in word_rank.keys():\n",
        "                    txt_row.append(word_rank[word])\n",
        "                else:\n",
        "                    pass\n",
        "            rank.append(txt_row)\n",
        "        \n",
        "        test[coln] = rank\n",
        "        \n",
        "        rank = [] # list of all the review with words replaced with rank\n",
        "        for sent in cv[coln].values:\n",
        "            txt_row = []\n",
        "            for word in sent.split():\n",
        "                if word in word_rank.keys():\n",
        "                    txt_row.append(word_rank[word])\n",
        "                else:\n",
        "                    pass\n",
        "            rank.append(txt_row)\n",
        "        \n",
        "        cv[coln] = rank\n",
        "    return train,test,cv,y_train,y_test,y_cv,features\n",
        "            \n"
      ],
      "metadata": {
        "id": "Mp314LNOwxxF"
      },
      "execution_count": null,
      "outputs": []
    },
    {
      "cell_type": "code",
      "source": [
        "train,test,cv,y_train,y_test,y_cv,feature_names = word_ranking(project_data)\n"
      ],
      "metadata": {
        "colab": {
          "base_uri": "https://localhost:8080/"
        },
        "id": "HFHuuqxmwx0R",
        "outputId": "788ba3c7-1004-473c-d9bd-04ce0bbfd0b9"
      },
      "execution_count": null,
      "outputs": [
        {
          "output_type": "stream",
          "name": "stdout",
          "text": [
            "essay\n",
            "(61178, 44986)\n"
          ]
        }
      ]
    },
    {
      "cell_type": "code",
      "source": [
        "print(\"Shape of the Train dataset: \", train.shape[0])\n",
        "print(\"Shape of the Test dataset: \", test.shape[0])\n",
        "print(\"Shape of the CV dataset: \", cv.shape[0])"
      ],
      "metadata": {
        "colab": {
          "base_uri": "https://localhost:8080/"
        },
        "id": "7bRgpGR9wx3C",
        "outputId": "3e136d0e-8ea8-4b97-d141-07101ad247f9"
      },
      "execution_count": null,
      "outputs": [
        {
          "output_type": "stream",
          "name": "stdout",
          "text": [
            "Shape of the Train dataset:  61178\n",
            "Shape of the Test dataset:  32775\n",
            "Shape of the CV dataset:  15295\n"
          ]
        }
      ]
    },
    {
      "cell_type": "code",
      "source": [
        "y_train.shape\n"
      ],
      "metadata": {
        "colab": {
          "base_uri": "https://localhost:8080/"
        },
        "id": "LCQCZHMQwx5t",
        "outputId": "39b68dea-b22c-463c-b2f2-311ccc0f45ef"
      },
      "execution_count": null,
      "outputs": [
        {
          "output_type": "execute_result",
          "data": {
            "text/plain": [
              "(61178,)"
            ]
          },
          "metadata": {},
          "execution_count": 14
        }
      ]
    },
    {
      "cell_type": "code",
      "source": [
        "#converting class labels to categorical variables\n",
        "from keras.utils import to_categorical\n",
        "y_train = to_categorical(y_train)\n",
        "y_test = to_categorical(y_test)\n",
        "y_cv = to_categorical(y_cv)\n"
      ],
      "metadata": {
        "id": "yrQpEihEwx8T"
      },
      "execution_count": null,
      "outputs": []
    },
    {
      "cell_type": "markdown",
      "source": [
        "#Tokenizing the Text part\n"
      ],
      "metadata": {
        "id": "UppmZEge_MbO"
      }
    },
    {
      "cell_type": "code",
      "source": [
        "max_review_length = 250\n",
        "X_train = pad_sequences(train['essay'], maxlen=max_review_length)  #padding zeros at the begining of each review to make max len as 200\n",
        "X_test = pad_sequences(test['essay'], maxlen=max_review_length)\n",
        "X_cv = pad_sequences(cv['essay'], maxlen=max_review_length)\n",
        "print(X_train.shape)\n",
        "print(X_train[256])"
      ],
      "metadata": {
        "colab": {
          "base_uri": "https://localhost:8080/"
        },
        "id": "ELGjw3mswx_B",
        "outputId": "a80f3e0f-4bc9-46b5-87bb-ea7aa82e98a4"
      },
      "execution_count": null,
      "outputs": [
        {
          "output_type": "stream",
          "name": "stdout",
          "text": [
            "(61178, 250)\n",
            "[    0     0     0     0     0     0     0     0     0     0     0     0\n",
            "     0     0     0     0     0     0     0     0     0     0     0     0\n",
            "     0     0     0     0     0     0     0     0     0     0     0     0\n",
            "     0     0     0     0     0     0     0     0     0     0     0     0\n",
            "     0     0     0     0     0     0     0     0     0     0     0     0\n",
            "     0     0     0     0     0     0     0     0     0     0     0     0\n",
            "     0     0     0     0     0     0     0     0     0     0     0     0\n",
            "     0     0     0     0     0     0     0     0     0     0     0     0\n",
            "     0     0     0     0     0     0     0     0     0     0     0     0\n",
            "     0     0     0     0     0     0     0     0     0     0     0     0\n",
            "     0     0     0     0     0    14  1433   116   294   142   197    13\n",
            "   186     9   477   436     2    90   135   411     3   104    58     1\n",
            "    18   116   205     1   103    59  6051    11   703    15   131   277\n",
            "   116   616   116    43    88   206    15   366  2767    65  1189    13\n",
            "    14  1433    85    55   116    13    90    41   294    85    37   223\n",
            "   687     1  1111   116     1    92 17135  2135   465  3114    28  1915\n",
            "     7 12157  4365  2244   465  2419   197  2135   149   255  7100  1451\n",
            "   256  3134  8351   149     6     1    55 12035  1451  6096  1451   253\n",
            "  2041  1682    13    32  2837  3222  6946   256   520  3155   413  4091\n",
            "  1682    13    32  3411  1316 17619    27    53   128     1  1433   294\n",
            "   116   255     6  1411    89  4738  1316  1972  1375    12]\n"
          ]
        }
      ]
    },
    {
      "cell_type": "markdown",
      "source": [
        "#Tokenizing the school state\n"
      ],
      "metadata": {
        "id": "keh4YtmK_Wfb"
      }
    },
    {
      "cell_type": "code",
      "source": [
        "token_school_state = CountVectorizer()\n",
        "\n",
        "# integer encode the documents\n",
        "school_state_train = token_school_state.fit_transform(train['school_state'])\n",
        "school_state_test = token_school_state.transform(test['school_state'])\n",
        "school_state_cv = token_school_state.transform(cv['school_state'])\n",
        "\n",
        "print(school_state_train.shape)"
      ],
      "metadata": {
        "colab": {
          "base_uri": "https://localhost:8080/"
        },
        "id": "S7NaYus8wyB3",
        "outputId": "a6977c55-c177-4b6e-cd4f-dae31a5c79e3"
      },
      "execution_count": null,
      "outputs": [
        {
          "output_type": "stream",
          "name": "stdout",
          "text": [
            "(61178, 51)\n"
          ]
        }
      ]
    },
    {
      "cell_type": "markdown",
      "source": [
        "#Tokenizing the project_grade_category\n"
      ],
      "metadata": {
        "id": "dhxZGIyA_def"
      }
    },
    {
      "cell_type": "code",
      "source": [
        "token_project_grade_category = CountVectorizer()\n",
        "\n",
        "# integer encode the documents\n",
        "project_grade_train = token_project_grade_category.fit_transform(train['project_grade_category'])\n",
        "project_grade_test = token_project_grade_category.transform(test['project_grade_category'])\n",
        "project_grade_cv = token_project_grade_category.transform(cv['project_grade_category'])\n",
        "\n",
        "print(project_grade_train.shape)"
      ],
      "metadata": {
        "colab": {
          "base_uri": "https://localhost:8080/"
        },
        "id": "VzBXJjIA_UK3",
        "outputId": "9ebed8dc-1e6a-4df4-cd1a-efcf06b08630"
      },
      "execution_count": null,
      "outputs": [
        {
          "output_type": "stream",
          "name": "stdout",
          "text": [
            "(61178, 4)\n"
          ]
        }
      ]
    },
    {
      "cell_type": "markdown",
      "source": [
        "#Tokenizing the project categories\n"
      ],
      "metadata": {
        "id": "XKZmkrE1_l8v"
      }
    },
    {
      "cell_type": "code",
      "source": [
        "token_clean_categories = CountVectorizer()\n",
        "\n",
        "# integer encode the documents\n",
        "train_clean_categories= token_clean_categories.fit_transform(train['clean_categories'])\n",
        "test_clean_categories = token_clean_categories.transform(test['clean_categories'])\n",
        "cv_clean_categories = token_clean_categories.transform(cv['clean_categories'])\n",
        "\n",
        "\n",
        "print(train_clean_categories.shape)"
      ],
      "metadata": {
        "colab": {
          "base_uri": "https://localhost:8080/"
        },
        "id": "xpvk4odp_UOZ",
        "outputId": "5f50b34e-4c26-480f-a975-5a0d9a02b4bc"
      },
      "execution_count": null,
      "outputs": [
        {
          "output_type": "stream",
          "name": "stdout",
          "text": [
            "(61178, 9)\n"
          ]
        }
      ]
    },
    {
      "cell_type": "markdown",
      "source": [
        "#Tokenizing the project subcategories\n"
      ],
      "metadata": {
        "id": "SSPdKgn2_vTC"
      }
    },
    {
      "cell_type": "code",
      "source": [
        "token_clean_subcategories = CountVectorizer()\n",
        "\n",
        "# integer encode the documents\n",
        "train_clean_subcategories = token_clean_subcategories.fit_transform(train['clean_subcategories'])\n",
        "test_clean_subcategories = token_clean_subcategories.transform(test['clean_subcategories'])\n",
        "cv_clean_subcategories = token_clean_subcategories.transform(cv['clean_subcategories'])\n",
        "\n",
        "print(train_clean_subcategories.shape)"
      ],
      "metadata": {
        "colab": {
          "base_uri": "https://localhost:8080/"
        },
        "id": "fh0G-LX4_URO",
        "outputId": "aeaa7983-49a1-4ffc-c68c-226c8579a9a1"
      },
      "execution_count": null,
      "outputs": [
        {
          "output_type": "stream",
          "name": "stdout",
          "text": [
            "(61178, 30)\n"
          ]
        }
      ]
    },
    {
      "cell_type": "markdown",
      "source": [
        "#Tokenizing the teacher prefix\n"
      ],
      "metadata": {
        "id": "2O0QgNaw_4dy"
      }
    },
    {
      "cell_type": "code",
      "source": [
        "token_teacher_prefix = CountVectorizer()\n",
        "\n",
        "# integer encode the documents\n",
        "teacher_prefix_train = token_teacher_prefix.fit_transform(train['teacher_prefix'])\n",
        "teacher_prefix_test = token_teacher_prefix.transform(test['teacher_prefix'])\n",
        "teacher_prefix_cv = token_teacher_prefix.transform(cv['teacher_prefix'])\n",
        "print(teacher_prefix_train.shape)"
      ],
      "metadata": {
        "colab": {
          "base_uri": "https://localhost:8080/"
        },
        "id": "xlA6lVhK_UUS",
        "outputId": "855e3244-bc04-4370-cd85-a267e5832b36"
      },
      "execution_count": null,
      "outputs": [
        {
          "output_type": "stream",
          "name": "stdout",
          "text": [
            "(61178, 5)\n"
          ]
        }
      ]
    },
    {
      "cell_type": "code",
      "source": [
        "# now will stack the data set \n",
        "\n",
        "from scipy.sparse import  hstack\n",
        "\n",
        "input2_train = hstack((school_state_train,project_grade_train,train_clean_categories,train_clean_subcategories,teacher_prefix_train,train['price'][:,None]))\n",
        "\n",
        "input2_cv = hstack((school_state_cv,project_grade_cv,cv_clean_categories,cv_clean_subcategories,teacher_prefix_cv,cv['price'][:,None]))\n",
        "input2_test = hstack((school_state_test,project_grade_test,test_clean_categories,test_clean_subcategories,teacher_prefix_test,test['price'][:,None]))"
      ],
      "metadata": {
        "id": "M6Qk3rQjwyE2"
      },
      "execution_count": null,
      "outputs": []
    },
    {
      "cell_type": "code",
      "source": [
        "input2_train.shape\n"
      ],
      "metadata": {
        "colab": {
          "base_uri": "https://localhost:8080/"
        },
        "id": "xYe4PUjawyHr",
        "outputId": "be842a8d-25df-49c0-ae18-447c4be00639"
      },
      "execution_count": null,
      "outputs": [
        {
          "output_type": "execute_result",
          "data": {
            "text/plain": [
              "(61178, 100)"
            ]
          },
          "metadata": {},
          "execution_count": 24
        }
      ]
    },
    {
      "cell_type": "code",
      "source": [
        " # ref : https://www.geeksforgeeks.org/python-pandas-series-to_dense/\n",
        " \n",
        "train=input2_train.todense()\n",
        "test = input2_test.todense()\n",
        "cv = input2_cv.todense()"
      ],
      "metadata": {
        "id": "1oRKgfT4wyLY"
      },
      "execution_count": null,
      "outputs": []
    },
    {
      "cell_type": "code",
      "source": [
        " # now will do the reshaping \n",
        " \n",
        "train = np.resize(train,new_shape=(61178,495,1))\n",
        "test =np.resize(test,new_shape=(32775,495,1))\n",
        "cv = np.resize(cv,new_shape=(15295,495,1))"
      ],
      "metadata": {
        "id": "TzOJFEY_AWqw"
      },
      "execution_count": null,
      "outputs": []
    },
    {
      "cell_type": "code",
      "source": [
        "train.shape ,test.shape ,cv.shape"
      ],
      "metadata": {
        "colab": {
          "base_uri": "https://localhost:8080/"
        },
        "id": "8dYDJx7FAZUc",
        "outputId": "651edd34-ab35-40dc-8d1f-c41fa49b2e0f"
      },
      "execution_count": null,
      "outputs": [
        {
          "output_type": "execute_result",
          "data": {
            "text/plain": [
              "((61178, 495, 1), (32775, 495, 1), (15295, 495, 1))"
            ]
          },
          "metadata": {},
          "execution_count": 27
        }
      ]
    },
    {
      "cell_type": "markdown",
      "source": [
        "##Deep Learning Models\n",
        "#Model 3"
      ],
      "metadata": {
        "id": "gwJEJuhTAlMV"
      }
    },
    {
      "cell_type": "code",
      "source": [
        "dumb_file = open('/content/drive/MyDrive/glove_vectors', 'rb')      \n",
        "dumb_file = pickle.load(dumb_file) "
      ],
      "metadata": {
        "id": "7hd8tSoUAdgI"
      },
      "execution_count": null,
      "outputs": []
    },
    {
      "cell_type": "code",
      "source": [
        "#Getting word vectors with 50 dim\n",
        "def embedding_mat(word_index,embedding_dim = 300):\n",
        "    embedding_matrix = np.zeros((len(word_index) + 1, embedding_dim))\n",
        "    for word, i in word_index.items():\n",
        "        embedding_vector = dumb_file.get(word)\n",
        "        if embedding_vector is not None:\n",
        "        # words not found in embedding index will be all-zeros.\n",
        "            embedding_matrix[i] = embedding_vector\n",
        "    return embedding_matrix"
      ],
      "metadata": {
        "id": "IXmkdrT3AwUC"
      },
      "execution_count": null,
      "outputs": []
    },
    {
      "cell_type": "code",
      "source": [
        "# defining the auc score for model \n",
        "def auc( y_true, y_pred ) :\n",
        "    score = tf.numpy_function(lambda y_true, y_pred : roc_auc_score( y_true, y_pred ,average='weighted').astype('float32'),\n",
        "                        [y_true, y_pred],\n",
        "                        'float32',\n",
        "                        name='sklearnAUC')\n",
        "    return score\n",
        "\n",
        "\n",
        "# defining the accuracy score for model \n",
        "\n",
        "def accuracy(y_true, y_pred):\n",
        "    y_pred = tf.argmax(y_pred, axis=1)\n",
        "    accuracy = tf.keras.metrics.Accuracy()\n",
        "    accuracy.update_state(y_true, y_pred)\n",
        "    return accuracy.result().numpy()\n",
        "\n",
        "\n",
        "\n",
        "# defining learning rate function with value of 0.0001\n",
        "def step_decay(epoch):\n",
        "    initial_lr = 0.0001\n",
        "    lr_drop = 1e-6\n",
        "    epochs_drop = 1\n",
        "    lr = initial_lr * math.pow(lr_drop, math.floor((1 + epoch) / epochs_drop))\n",
        "    return lr"
      ],
      "metadata": {
        "id": "ppgyas3kAwXy"
      },
      "execution_count": null,
      "outputs": []
    },
    {
      "cell_type": "code",
      "source": [
        "# refer : https://keras.io/api/layers/recurrent_layers/lstm/\n",
        "# input 1\n",
        "input1 = Input(batch_shape=(None,250))\n",
        "x1 = Embedding(input_dim=44987, output_dim=300, weights=[embedding_mat(feature_names[0])], trainable=False)(input1)\n",
        "x1 = SpatialDropout1D(0.3)(x1)\n",
        "x1 = LSTM(256, return_sequences=True)(x1)\n",
        "x1 = Flatten()(x1)\n",
        "\n",
        "# input 2\n",
        "input2 = Input(shape=(495,1))\n",
        "x2 = Conv1D(filters=64, kernel_size=3, strides=1)(input2)\n",
        "x2 = Conv1D(filters=64, kernel_size=3, strides=1)(x2)\n",
        "x2 = Flatten()(x2)\n",
        "\n",
        "# merging both the inputs\n",
        "concat = concatenate([x1,x2])\n",
        "x = Dense(300, activation='relu', kernel_initializer=he_normal(), kernel_regularizer=l2(0.0001))(concat)\n",
        "x = Dropout(0.4)(x)\n",
        "x = Dense(256, activation='relu', kernel_initializer=he_normal(), kernel_regularizer=l2(0.0001))(x)\n",
        "x = Dropout(0.5)(x)\n",
        "x = BatchNormalization()(x)\n",
        "x = Dense(128, activation='relu', kernel_initializer=he_normal(), kernel_regularizer=l2(0.0001))(x)\n",
        "x = Dropout(0.6)(x)\n",
        "output = Dense(2, activation='softmax')(x)\n",
        " \n",
        "# create model with two inputs\n",
        "model = Model([input1, input2], output)\n",
        "model.compile(loss='categorical_crossentropy', optimizer=keras.optimizers.Adam(lr=0.0006, decay=1e-4), metrics=['accuracy' ,auc])\n",
        "\n",
        "print(model.summary())\n",
        "\n",
        "# model fitting\n",
        "filepath = \"weights_3.best_copy.hdf5\"\n",
        "checkpoint = ModelCheckpoint(filepath, monitor='val_auc', verbose=1, save_best_only=True, mode='max')\n",
        "callbacks_list = [checkpoint]\n",
        "class_weights = {0: 1.0, 1: 2.0}  # example class weights\n",
        "history = model.fit(x=[X_train, train], y=y_train, epochs=25, verbose=1, batch_size=256,\n",
        "                    validation_data=([X_cv, cv], y_cv), callbacks=callbacks_list, class_weight=class_weights)"
      ],
      "metadata": {
        "colab": {
          "base_uri": "https://localhost:8080/"
        },
        "id": "tdziBcLwAwd6",
        "outputId": "ffd5097d-f46a-46ec-8e75-cf29348153b3"
      },
      "execution_count": null,
      "outputs": [
        {
          "output_type": "stream",
          "name": "stdout",
          "text": [
            "Model: \"model\"\n",
            "__________________________________________________________________________________________________\n",
            " Layer (type)                   Output Shape         Param #     Connected to                     \n",
            "==================================================================================================\n",
            " input_2 (InputLayer)           [(None, 250)]        0           []                               \n",
            "                                                                                                  \n",
            " embedding_1 (Embedding)        (None, 250, 300)     13496100    ['input_2[0][0]']                \n",
            "                                                                                                  \n",
            " input_3 (InputLayer)           [(None, 495, 1)]     0           []                               \n",
            "                                                                                                  \n",
            " spatial_dropout1d (SpatialDrop  (None, 250, 300)    0           ['embedding_1[0][0]']            \n",
            " out1D)                                                                                           \n",
            "                                                                                                  \n",
            " conv1d (Conv1D)                (None, 493, 64)      256         ['input_3[0][0]']                \n",
            "                                                                                                  \n",
            " lstm (LSTM)                    (None, 250, 256)     570368      ['spatial_dropout1d[0][0]']      \n",
            "                                                                                                  \n",
            " conv1d_1 (Conv1D)              (None, 491, 64)      12352       ['conv1d[0][0]']                 \n",
            "                                                                                                  \n",
            " flatten (Flatten)              (None, 64000)        0           ['lstm[0][0]']                   \n",
            "                                                                                                  \n",
            " flatten_1 (Flatten)            (None, 31424)        0           ['conv1d_1[0][0]']               \n",
            "                                                                                                  \n",
            " concatenate (Concatenate)      (None, 95424)        0           ['flatten[0][0]',                \n",
            "                                                                  'flatten_1[0][0]']              \n",
            "                                                                                                  \n",
            " dense (Dense)                  (None, 300)          28627500    ['concatenate[0][0]']            \n",
            "                                                                                                  \n",
            " dropout (Dropout)              (None, 300)          0           ['dense[0][0]']                  \n",
            "                                                                                                  \n",
            " dense_1 (Dense)                (None, 256)          77056       ['dropout[0][0]']                \n",
            "                                                                                                  \n",
            " dropout_1 (Dropout)            (None, 256)          0           ['dense_1[0][0]']                \n",
            "                                                                                                  \n",
            " batch_normalization (BatchNorm  (None, 256)         1024        ['dropout_1[0][0]']              \n",
            " alization)                                                                                       \n",
            "                                                                                                  \n",
            " dense_2 (Dense)                (None, 128)          32896       ['batch_normalization[0][0]']    \n",
            "                                                                                                  \n",
            " dropout_2 (Dropout)            (None, 128)          0           ['dense_2[0][0]']                \n",
            "                                                                                                  \n",
            " dense_3 (Dense)                (None, 2)            258         ['dropout_2[0][0]']              \n",
            "                                                                                                  \n",
            "==================================================================================================\n",
            "Total params: 42,817,810\n",
            "Trainable params: 29,321,198\n",
            "Non-trainable params: 13,496,612\n",
            "__________________________________________________________________________________________________\n",
            "None\n",
            "Epoch 1/25\n"
          ]
        },
        {
          "output_type": "stream",
          "name": "stderr",
          "text": [
            "WARNING:tensorflow:From /usr/local/lib/python3.8/dist-packages/tensorflow/python/autograph/pyct/static_analysis/liveness.py:83: Analyzer.lamba_check (from tensorflow.python.autograph.pyct.static_analysis.liveness) is deprecated and will be removed after 2023-09-23.\n",
            "Instructions for updating:\n",
            "Lambda fuctions will be no more assumed to be used in the statement where they are used, or at least in the same block. https://github.com/tensorflow/tensorflow/issues/56089\n"
          ]
        },
        {
          "output_type": "stream",
          "name": "stdout",
          "text": [
            "239/239 [==============================] - ETA: 0s - loss: 0.9925 - accuracy: 0.8088 - auc: 0.4991\n",
            "Epoch 00001: val_auc improved from -inf to 0.50767, saving model to weights_3.best_copy.hdf5\n",
            "239/239 [==============================] - 45s 143ms/step - loss: 0.9925 - accuracy: 0.8088 - auc: 0.4991 - val_loss: 0.5654 - val_accuracy: 0.8486 - val_auc: 0.5077\n",
            "Epoch 2/25\n",
            "239/239 [==============================] - ETA: 0s - loss: 0.7453 - accuracy: 0.8417 - auc: 0.5021\n",
            "Epoch 00002: val_auc did not improve from 0.50767\n",
            "239/239 [==============================] - 32s 134ms/step - loss: 0.7453 - accuracy: 0.8417 - auc: 0.5021 - val_loss: 0.5385 - val_accuracy: 0.8486 - val_auc: 0.5017\n",
            "Epoch 3/25\n",
            "239/239 [==============================] - ETA: 0s - loss: 0.6785 - accuracy: 0.8472 - auc: 0.5044\n",
            "Epoch 00003: val_auc did not improve from 0.50767\n",
            "239/239 [==============================] - 32s 133ms/step - loss: 0.6785 - accuracy: 0.8472 - auc: 0.5044 - val_loss: 0.5343 - val_accuracy: 0.8486 - val_auc: 0.4965\n",
            "Epoch 4/25\n",
            "239/239 [==============================] - ETA: 0s - loss: 0.6558 - accuracy: 0.8485 - auc: 0.4985\n",
            "Epoch 00004: val_auc did not improve from 0.50767\n",
            "239/239 [==============================] - 32s 135ms/step - loss: 0.6558 - accuracy: 0.8485 - auc: 0.4985 - val_loss: 0.5327 - val_accuracy: 0.8486 - val_auc: 0.4939\n",
            "Epoch 5/25\n",
            "239/239 [==============================] - ETA: 0s - loss: 0.6454 - accuracy: 0.8486 - auc: 0.4999\n",
            "Epoch 00005: val_auc did not improve from 0.50767\n",
            "239/239 [==============================] - 32s 133ms/step - loss: 0.6454 - accuracy: 0.8486 - auc: 0.4999 - val_loss: 0.5279 - val_accuracy: 0.8486 - val_auc: 0.4996\n",
            "Epoch 6/25\n",
            "239/239 [==============================] - ETA: 0s - loss: 0.6366 - accuracy: 0.8486 - auc: 0.5046\n",
            "Epoch 00006: val_auc improved from 0.50767 to 0.50773, saving model to weights_3.best_copy.hdf5\n",
            "239/239 [==============================] - 33s 140ms/step - loss: 0.6366 - accuracy: 0.8486 - auc: 0.5046 - val_loss: 0.5280 - val_accuracy: 0.8486 - val_auc: 0.5077\n",
            "Epoch 7/25\n",
            "239/239 [==============================] - ETA: 0s - loss: 0.6308 - accuracy: 0.8486 - auc: 0.5128\n",
            "Epoch 00007: val_auc improved from 0.50773 to 0.52320, saving model to weights_3.best_copy.hdf5\n",
            "239/239 [==============================] - 33s 139ms/step - loss: 0.6308 - accuracy: 0.8486 - auc: 0.5128 - val_loss: 0.5220 - val_accuracy: 0.8486 - val_auc: 0.5232\n",
            "Epoch 8/25\n",
            "239/239 [==============================] - ETA: 0s - loss: 0.6250 - accuracy: 0.8486 - auc: 0.5217\n",
            "Epoch 00008: val_auc improved from 0.52320 to 0.53394, saving model to weights_3.best_copy.hdf5\n",
            "239/239 [==============================] - 33s 139ms/step - loss: 0.6250 - accuracy: 0.8486 - auc: 0.5217 - val_loss: 0.5219 - val_accuracy: 0.8486 - val_auc: 0.5339\n",
            "Epoch 9/25\n",
            "239/239 [==============================] - ETA: 0s - loss: 0.6210 - accuracy: 0.8486 - auc: 0.5337\n",
            "Epoch 00009: val_auc improved from 0.53394 to 0.68262, saving model to weights_3.best_copy.hdf5\n",
            "239/239 [==============================] - 33s 139ms/step - loss: 0.6210 - accuracy: 0.8486 - auc: 0.5337 - val_loss: 0.5214 - val_accuracy: 0.8486 - val_auc: 0.6826\n",
            "Epoch 10/25\n",
            "239/239 [==============================] - ETA: 0s - loss: 0.6238 - accuracy: 0.8486 - auc: 0.5262\n",
            "Epoch 00010: val_auc did not improve from 0.68262\n",
            "239/239 [==============================] - 32s 133ms/step - loss: 0.6238 - accuracy: 0.8486 - auc: 0.5262 - val_loss: 0.5152 - val_accuracy: 0.8486 - val_auc: 0.5432\n",
            "Epoch 11/25\n",
            "239/239 [==============================] - ETA: 0s - loss: 0.6280 - accuracy: 0.8486 - auc: 0.5173\n",
            "Epoch 00011: val_auc did not improve from 0.68262\n",
            "239/239 [==============================] - 32s 132ms/step - loss: 0.6280 - accuracy: 0.8486 - auc: 0.5173 - val_loss: 0.5234 - val_accuracy: 0.8486 - val_auc: 0.5005\n",
            "Epoch 12/25\n",
            "239/239 [==============================] - ETA: 0s - loss: 0.6097 - accuracy: 0.8486 - auc: 0.5132\n",
            "Epoch 00012: val_auc did not improve from 0.68262\n",
            "239/239 [==============================] - 32s 132ms/step - loss: 0.6097 - accuracy: 0.8486 - auc: 0.5132 - val_loss: 0.4943 - val_accuracy: 0.8486 - val_auc: 0.6088\n",
            "Epoch 13/25\n",
            "239/239 [==============================] - ETA: 0s - loss: 0.5909 - accuracy: 0.8486 - auc: 0.6204\n",
            "Epoch 00013: val_auc improved from 0.68262 to 0.71322, saving model to weights_3.best_copy.hdf5\n",
            "239/239 [==============================] - 33s 140ms/step - loss: 0.5909 - accuracy: 0.8486 - auc: 0.6204 - val_loss: 0.5280 - val_accuracy: 0.8486 - val_auc: 0.7132\n",
            "Epoch 14/25\n",
            "239/239 [==============================] - ETA: 0s - loss: 0.5773 - accuracy: 0.8486 - auc: 0.6889\n",
            "Epoch 00014: val_auc improved from 0.71322 to 0.71985, saving model to weights_3.best_copy.hdf5\n",
            "239/239 [==============================] - 34s 140ms/step - loss: 0.5773 - accuracy: 0.8486 - auc: 0.6889 - val_loss: 0.4934 - val_accuracy: 0.8486 - val_auc: 0.7198\n",
            "Epoch 15/25\n",
            "239/239 [==============================] - ETA: 0s - loss: 0.5705 - accuracy: 0.8486 - auc: 0.6994\n",
            "Epoch 00015: val_auc improved from 0.71985 to 0.73109, saving model to weights_3.best_copy.hdf5\n",
            "239/239 [==============================] - 33s 139ms/step - loss: 0.5705 - accuracy: 0.8486 - auc: 0.6994 - val_loss: 0.4806 - val_accuracy: 0.8486 - val_auc: 0.7311\n",
            "Epoch 16/25\n",
            "239/239 [==============================] - ETA: 0s - loss: 0.5577 - accuracy: 0.8486 - auc: 0.7111\n",
            "Epoch 00016: val_auc improved from 0.73109 to 0.74131, saving model to weights_3.best_copy.hdf5\n",
            "239/239 [==============================] - 34s 141ms/step - loss: 0.5577 - accuracy: 0.8486 - auc: 0.7111 - val_loss: 0.4796 - val_accuracy: 0.8486 - val_auc: 0.7413\n",
            "Epoch 17/25\n",
            "239/239 [==============================] - ETA: 0s - loss: 0.5537 - accuracy: 0.8487 - auc: 0.7155\n",
            "Epoch 00017: val_auc improved from 0.74131 to 0.74482, saving model to weights_3.best_copy.hdf5\n",
            "239/239 [==============================] - 33s 139ms/step - loss: 0.5537 - accuracy: 0.8487 - auc: 0.7155 - val_loss: 0.4768 - val_accuracy: 0.8486 - val_auc: 0.7448\n",
            "Epoch 18/25\n",
            "239/239 [==============================] - ETA: 0s - loss: 0.5430 - accuracy: 0.8489 - auc: 0.7241\n",
            "Epoch 00018: val_auc improved from 0.74482 to 0.74643, saving model to weights_3.best_copy.hdf5\n",
            "239/239 [==============================] - 33s 140ms/step - loss: 0.5430 - accuracy: 0.8489 - auc: 0.7241 - val_loss: 0.4747 - val_accuracy: 0.8486 - val_auc: 0.7464\n",
            "Epoch 19/25\n",
            "239/239 [==============================] - ETA: 0s - loss: 0.5396 - accuracy: 0.8491 - auc: 0.7289\n",
            "Epoch 00019: val_auc did not improve from 0.74643\n",
            "239/239 [==============================] - 32s 134ms/step - loss: 0.5396 - accuracy: 0.8491 - auc: 0.7289 - val_loss: 0.4654 - val_accuracy: 0.8486 - val_auc: 0.7463\n",
            "Epoch 20/25\n",
            "239/239 [==============================] - ETA: 0s - loss: 0.5299 - accuracy: 0.8492 - auc: 0.7336\n",
            "Epoch 00020: val_auc improved from 0.74643 to 0.75794, saving model to weights_3.best_copy.hdf5\n",
            "239/239 [==============================] - 34s 140ms/step - loss: 0.5299 - accuracy: 0.8492 - auc: 0.7336 - val_loss: 0.4368 - val_accuracy: 0.8486 - val_auc: 0.7579\n",
            "Epoch 21/25\n",
            "239/239 [==============================] - ETA: 0s - loss: 0.5226 - accuracy: 0.8489 - auc: 0.7402\n",
            "Epoch 00021: val_auc did not improve from 0.75794\n",
            "239/239 [==============================] - 32s 134ms/step - loss: 0.5226 - accuracy: 0.8489 - auc: 0.7402 - val_loss: 0.4532 - val_accuracy: 0.8486 - val_auc: 0.7509\n",
            "Epoch 22/25\n",
            "239/239 [==============================] - ETA: 0s - loss: 0.5172 - accuracy: 0.8490 - auc: 0.7459\n",
            "Epoch 00022: val_auc improved from 0.75794 to 0.75799, saving model to weights_3.best_copy.hdf5\n",
            "239/239 [==============================] - 34s 141ms/step - loss: 0.5172 - accuracy: 0.8490 - auc: 0.7459 - val_loss: 0.4591 - val_accuracy: 0.8486 - val_auc: 0.7580\n",
            "Epoch 23/25\n",
            "239/239 [==============================] - ETA: 0s - loss: 0.5109 - accuracy: 0.8489 - auc: 0.7491\n",
            "Epoch 00023: val_auc did not improve from 0.75799\n",
            "239/239 [==============================] - 32s 134ms/step - loss: 0.5109 - accuracy: 0.8489 - auc: 0.7491 - val_loss: 0.4628 - val_accuracy: 0.8486 - val_auc: 0.7551\n",
            "Epoch 24/25\n",
            "239/239 [==============================] - ETA: 0s - loss: 0.5104 - accuracy: 0.8496 - auc: 0.7516\n",
            "Epoch 00024: val_auc did not improve from 0.75799\n",
            "239/239 [==============================] - 32s 134ms/step - loss: 0.5104 - accuracy: 0.8496 - auc: 0.7516 - val_loss: 0.4416 - val_accuracy: 0.8486 - val_auc: 0.7552\n",
            "Epoch 25/25\n",
            "239/239 [==============================] - ETA: 0s - loss: 0.5035 - accuracy: 0.8494 - auc: 0.7574\n",
            "Epoch 00025: val_auc did not improve from 0.75799\n",
            "239/239 [==============================] - 32s 135ms/step - loss: 0.5035 - accuracy: 0.8494 - auc: 0.7574 - val_loss: 0.4507 - val_accuracy: 0.8486 - val_auc: 0.7575\n"
          ]
        }
      ]
    },
    {
      "cell_type": "code",
      "source": [
        "from tensorflow.keras.utils import plot_model\n",
        "plot_model(model, to_file='model.png', show_shapes=True)"
      ],
      "metadata": {
        "id": "fZ-E2QxFSyJP",
        "colab": {
          "base_uri": "https://localhost:8080/",
          "height": 1000
        },
        "outputId": "22c12e39-c600-44b1-de56-d3361a043ca6"
      },
      "execution_count": null,
      "outputs": [
        {
          "output_type": "execute_result",
          "data": {
            "image/png": "[encoded data removed]",
            "text/plain": [
              "<IPython.core.display.Image object>"
            ]
          },
          "metadata": {},
          "execution_count": 33
        }
      ]
    },
    {
      "cell_type": "code",
      "source": [
        "# input 1\n",
        "input1 = Input(batch_shape=(None,250))\n",
        "x1 = Embedding(input_dim=44987,output_dim= 300,weights=[embedding_mat(feature_names[0])],trainable = False)(input1)\n",
        "x1 = SpatialDropout1D(0.3)(x1)\n",
        "x1 = CuDNNLSTM(256,return_sequences=True)(x1)\n",
        "x1 = Flatten()(x1)\n",
        "\n",
        "# input 2\n",
        "input2 = Input(shape=(495,1))\n",
        "x2 = Conv1D(filters=64,kernel_size=3,strides=1)(input2)\n",
        "x2 = Conv1D(filters=64,kernel_size=3,strides=1)(x2)\n",
        "x2 = Flatten()(x2)\n",
        "\n",
        "# merging both the inputs\n",
        "concat = concatenate([x1,x2])\n",
        "x = Dense(300,activation='relu',kernel_initializer=he_normal(),kernel_regularizer=l2(0.0001))(concat)\n",
        "x = Dropout(0.4)(x)\n",
        "x = Dense(256,activation='relu',kernel_initializer=he_normal(),kernel_regularizer=l2(0.0001))(x)\n",
        "x = Dropout(0.5)(x)\n",
        "x = BatchNormalization()(x)\n",
        "x = Dense(128,activation='relu',kernel_initializer=he_normal(),kernel_regularizer=l2(0.0001))(x)\n",
        "x = Dropout(0.6)(x)\n",
        "output = Dense(2, activation = 'softmax')(x)\n",
        " \n",
        "# create model with two inputs\n",
        "model = Model([input1,input2], output)\n",
        "model.load_weights(\"weights_3.best_copy.hdf5\")\n",
        "model.compile(loss='categorical_crossentropy', optimizer=keras.optimizers.Adam(lr=0.0006,decay = 1e-4), metrics=[auc])"
      ],
      "metadata": {
        "id": "7fFKjkYfSyMI"
      },
      "execution_count": null,
      "outputs": []
    },
    {
      "cell_type": "code",
      "source": [
        "print(\"Auc for test data: %0.3f\"%roc_auc_score(y_test,model.predict([X_test,test])))\n",
        "print(\"Auc for CV data: %0.3f\"%roc_auc_score(y_cv,model.predict([X_cv,cv])))\n",
        "print(\"Auc for train data: %0.3f\"%roc_auc_score(y_train,model.predict([X_train,train])))"
      ],
      "metadata": {
        "id": "VcypMojVSyPQ",
        "colab": {
          "base_uri": "https://localhost:8080/"
        },
        "outputId": "344954b3-43f4-4e08-9b1d-8c4db5b6add4"
      },
      "execution_count": null,
      "outputs": [
        {
          "output_type": "stream",
          "name": "stdout",
          "text": [
            "1025/1025 [==============================] - 8s 7ms/step\n",
            "Auc for test data: 0.747\n",
            "478/478 [==============================] - 4s 9ms/step\n",
            "Auc for CV data: 0.759\n",
            "1912/1912 [==============================] - 15s 8ms/step\n",
            "Auc for train data: 0.776\n"
          ]
        }
      ]
    },
    {
      "cell_type": "code",
      "source": [],
      "metadata": {
        "id": "2pQMRNMUSyTC"
      },
      "execution_count": null,
      "outputs": []
    },
    {
      "cell_type": "code",
      "source": [],
      "metadata": {
        "id": "9HV0X4C9AwzJ"
      },
      "execution_count": null,
      "outputs": []
    },
    {
      "cell_type": "code",
      "source": [],
      "metadata": {
        "id": "dJMdOK-OAw2R"
      },
      "execution_count": null,
      "outputs": []
    }
  ],
  "metadata": {
    "colab": {
      "provenance": []
    },
    "gpuClass": "standard",
    "kernelspec": {
      "display_name": "Python 3",
      "language": "python",
      "name": "python3"
    },
    "language_info": {
      "codemirror_mode": {
        "name": "ipython",
        "version": 3
      },
      "file_extension": ".py",
      "mimetype": "text/x-python",
      "name": "python",
      "nbconvert_exporter": "python",
      "pygments_lexer": "ipython3",
      "version": "3.6.3"
    },
    "accelerator": "GPU"
  },
  "nbformat": 4,
  "nbformat_minor": 0
}